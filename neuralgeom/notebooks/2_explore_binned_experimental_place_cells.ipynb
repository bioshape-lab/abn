{
 "cells": [
  {
   "cell_type": "markdown",
   "id": "66c00313-9fbc-480f-849f-3ceecdfed026",
   "metadata": {},
   "source": [
    "# Post-Bining: Experimental Place Cells"
   ]
  },
  {
   "cell_type": "markdown",
   "id": "b5f21736-d4f1-4ff2-8fcb-ba879b9c3a3c",
   "metadata": {},
   "source": [
    "This notebook reads an experimental dataset after:\n",
    "- cell firings,\n",
    "- labels,\n",
    "- times,\n",
    "have been binned according to a given time-step `timestep_microsec`.\n",
    "\n",
    "Specifically, we read the files obtained after the processing function `experimental.datasets.load_place_cells` that:\n",
    "- bins cell firings, times and labels according to the time-step,\n",
    "- save the results in 3 files.\n",
    "\n",
    "Plotting the binned files allows us to determine how many neurons were recorded in each experiment."
   ]
  },
  {
   "cell_type": "markdown",
   "id": "694e465d-af8d-4e64-b6b6-587bc7c298a2",
   "metadata": {},
   "source": [
    "## Set up"
   ]
  },
  {
   "cell_type": "code",
   "execution_count": 21,
   "id": "9f90201b",
   "metadata": {},
   "outputs": [
    {
     "name": "stdout",
     "output_type": "stream",
     "text": [
      "Working directory:  /Volumes/GoogleDrive/My Drive/code/neuralgeom/neuralgeom\n",
      "Directory added to path:  /Volumes/GoogleDrive/My Drive/code/neuralgeom\n",
      "Directory added to path:  /Volumes/GoogleDrive/My Drive/code/neuralgeom/neuralgeom\n"
     ]
    }
   ],
   "source": [
    "import os\n",
    "import subprocess\n",
    "\n",
    "gitroot_path = subprocess.check_output(\n",
    "    [\"git\", \"rev-parse\", \"--show-toplevel\"], universal_newlines=True\n",
    ")\n",
    "\n",
    "os.chdir(os.path.join(gitroot_path[:-1], \"neuralgeom\"))\n",
    "print(\"Working directory: \", os.getcwd())\n",
    "\n",
    "import warnings\n",
    "\n",
    "warnings.filterwarnings(\"ignore\")\n",
    "\n",
    "import sys\n",
    "\n",
    "sys_dir = os.path.dirname(os.getcwd())\n",
    "sys.path.append(sys_dir)\n",
    "print(\"Directory added to path: \", sys_dir)\n",
    "sys.path.append(os.getcwd())\n",
    "print(\"Directory added to path: \", os.getcwd())"
   ]
  },
  {
   "cell_type": "markdown",
   "id": "28325d9a-6590-41a6-8f78-ab3a355accbb",
   "metadata": {},
   "source": [
    "## Imports"
   ]
  },
  {
   "cell_type": "code",
   "execution_count": 2,
   "id": "f6e1b382",
   "metadata": {},
   "outputs": [
    {
     "name": "stderr",
     "output_type": "stream",
     "text": [
      "INFO: Using pytorch backend\n"
     ]
    },
    {
     "name": "stdout",
     "output_type": "stream",
     "text": [
      "The binned data is located in the directory:\n",
      "/Volumes/GoogleDrive/My Drive/code/neuralgeom/neuralgeom/data/binned.\n"
     ]
    }
   ],
   "source": [
    "import matplotlib.pyplot as plt\n",
    "import numpy as np\n",
    "import pandas as pd\n",
    "\n",
    "import neuralgeom.datasets.experimental as experimental\n",
    "import neuralgeom.datasets.utils as utils\n",
    "\n",
    "BINNED_DIR = os.path.join(os.getcwd(), \"data\", \"binned\")\n",
    "print(f\"The binned data is located in the directory:\\n{BINNED_DIR}.\")"
   ]
  },
  {
   "cell_type": "markdown",
   "id": "9fc18929-5aff-4f9d-b307-415cff264190",
   "metadata": {},
   "source": [
    "## Explore data output by experimental.load_place_cells()"
   ]
  },
  {
   "cell_type": "code",
   "execution_count": 22,
   "id": "abd1181d-60ac-4264-917e-974117f3a3f4",
   "metadata": {},
   "outputs": [
    {
     "name": "stderr",
     "output_type": "stream",
     "text": [
      "INFO: # - Found file at data/binned/expt41_times_timestep1000000.txt! Loading...\n",
      "INFO: # - Found file at data/binned/expt41_place_cells_timestep1000000.npy! Loading...\n",
      "INFO: # - Found file at data/binned/expt41_labels_timestep1000000.txt! Loading...\n"
     ]
    },
    {
     "name": "stdout",
     "output_type": "stream",
     "text": [
      "Loading experiment 41...\n"
     ]
    }
   ],
   "source": [
    "expt_id = 41\n",
    "timestep_ns = int(1e6)\n",
    "\n",
    "print(f\"Loading experiment {expt_id}...\")\n",
    "place_cells, labels = experimental.load_place_cells(\n",
    "    expt_id=expt_id, timestep_microsec=timestep_ns\n",
    ")"
   ]
  },
  {
   "cell_type": "code",
   "execution_count": 4,
   "id": "333cdc02-0326-4624-b016-28bcf97cd53f",
   "metadata": {},
   "outputs": [
    {
     "name": "stdout",
     "output_type": "stream",
     "text": [
      "(3882, 12)\n"
     ]
    },
    {
     "data": {
      "text/plain": [
       "array([[0., 4., 0., 0., 0., 3., 0., 0., 0., 0., 0., 0.],\n",
       "       [0., 0., 0., 0., 0., 3., 0., 0., 0., 0., 0., 0.],\n",
       "       [0., 0., 0., 0., 0., 3., 0., 0., 0., 0., 0., 0.]])"
      ]
     },
     "execution_count": 4,
     "metadata": {},
     "output_type": "execute_result"
    }
   ],
   "source": [
    "print(place_cells.shape)\n",
    "place_cells[:3]"
   ]
  },
  {
   "cell_type": "code",
   "execution_count": 5,
   "id": "f5b53a1d-e075-4f60-b1e8-00d0e37895d6",
   "metadata": {},
   "outputs": [
    {
     "name": "stdout",
     "output_type": "stream",
     "text": [
      "3882\n"
     ]
    },
    {
     "data": {
      "text/html": [
       "<div>\n",
       "<style scoped>\n",
       "    .dataframe tbody tr th:only-of-type {\n",
       "        vertical-align: middle;\n",
       "    }\n",
       "\n",
       "    .dataframe tbody tr th {\n",
       "        vertical-align: top;\n",
       "    }\n",
       "\n",
       "    .dataframe thead th {\n",
       "        text-align: right;\n",
       "    }\n",
       "</style>\n",
       "<table border=\"1\" class=\"dataframe\">\n",
       "  <thead>\n",
       "    <tr style=\"text-align: right;\">\n",
       "      <th></th>\n",
       "      <th>Unnamed: 0</th>\n",
       "      <th>times</th>\n",
       "      <th>angles</th>\n",
       "      <th>velocities</th>\n",
       "      <th>gains</th>\n",
       "    </tr>\n",
       "  </thead>\n",
       "  <tbody>\n",
       "    <tr>\n",
       "      <th>0</th>\n",
       "      <td>0</td>\n",
       "      <td>2.398831e+09</td>\n",
       "      <td>218.096356</td>\n",
       "      <td>14.498892</td>\n",
       "      <td>1.000</td>\n",
       "    </tr>\n",
       "    <tr>\n",
       "      <th>1</th>\n",
       "      <td>1</td>\n",
       "      <td>2.399831e+09</td>\n",
       "      <td>228.319574</td>\n",
       "      <td>1.598267</td>\n",
       "      <td>1.000</td>\n",
       "    </tr>\n",
       "    <tr>\n",
       "      <th>2</th>\n",
       "      <td>2</td>\n",
       "      <td>2.400831e+09</td>\n",
       "      <td>229.646926</td>\n",
       "      <td>6.372364</td>\n",
       "      <td>1.000</td>\n",
       "    </tr>\n",
       "    <tr>\n",
       "      <th>3</th>\n",
       "      <td>3</td>\n",
       "      <td>2.401831e+09</td>\n",
       "      <td>241.624300</td>\n",
       "      <td>17.123473</td>\n",
       "      <td>1.000</td>\n",
       "    </tr>\n",
       "    <tr>\n",
       "      <th>4</th>\n",
       "      <td>4</td>\n",
       "      <td>2.402831e+09</td>\n",
       "      <td>269.453404</td>\n",
       "      <td>32.549442</td>\n",
       "      <td>1.000</td>\n",
       "    </tr>\n",
       "    <tr>\n",
       "      <th>...</th>\n",
       "      <td>...</td>\n",
       "      <td>...</td>\n",
       "      <td>...</td>\n",
       "      <td>...</td>\n",
       "      <td>...</td>\n",
       "    </tr>\n",
       "    <tr>\n",
       "      <th>3877</th>\n",
       "      <td>3877</td>\n",
       "      <td>6.275831e+09</td>\n",
       "      <td>153.349456</td>\n",
       "      <td>23.023874</td>\n",
       "      <td>1.769</td>\n",
       "    </tr>\n",
       "    <tr>\n",
       "      <th>3878</th>\n",
       "      <td>3878</td>\n",
       "      <td>6.276831e+09</td>\n",
       "      <td>180.073147</td>\n",
       "      <td>32.645234</td>\n",
       "      <td>1.769</td>\n",
       "    </tr>\n",
       "    <tr>\n",
       "      <th>3879</th>\n",
       "      <td>3879</td>\n",
       "      <td>6.277831e+09</td>\n",
       "      <td>212.383674</td>\n",
       "      <td>20.877510</td>\n",
       "      <td>1.769</td>\n",
       "    </tr>\n",
       "    <tr>\n",
       "      <th>3880</th>\n",
       "      <td>3880</td>\n",
       "      <td>6.278831e+09</td>\n",
       "      <td>218.709534</td>\n",
       "      <td>1.998074</td>\n",
       "      <td>1.769</td>\n",
       "    </tr>\n",
       "    <tr>\n",
       "      <th>3881</th>\n",
       "      <td>3881</td>\n",
       "      <td>6.279831e+09</td>\n",
       "      <td>228.125413</td>\n",
       "      <td>16.185864</td>\n",
       "      <td>1.769</td>\n",
       "    </tr>\n",
       "  </tbody>\n",
       "</table>\n",
       "<p>3882 rows × 5 columns</p>\n",
       "</div>"
      ],
      "text/plain": [
       "      Unnamed: 0         times      angles  velocities  gains\n",
       "0              0  2.398831e+09  218.096356   14.498892  1.000\n",
       "1              1  2.399831e+09  228.319574    1.598267  1.000\n",
       "2              2  2.400831e+09  229.646926    6.372364  1.000\n",
       "3              3  2.401831e+09  241.624300   17.123473  1.000\n",
       "4              4  2.402831e+09  269.453404   32.549442  1.000\n",
       "...          ...           ...         ...         ...    ...\n",
       "3877        3877  6.275831e+09  153.349456   23.023874  1.769\n",
       "3878        3878  6.276831e+09  180.073147   32.645234  1.769\n",
       "3879        3879  6.277831e+09  212.383674   20.877510  1.769\n",
       "3880        3880  6.278831e+09  218.709534    1.998074  1.769\n",
       "3881        3881  6.279831e+09  228.125413   16.185864  1.769\n",
       "\n",
       "[3882 rows x 5 columns]"
      ]
     },
     "metadata": {},
     "output_type": "display_data"
    }
   ],
   "source": [
    "print(len(labels.values))\n",
    "\n",
    "display(labels)"
   ]
  },
  {
   "cell_type": "markdown",
   "id": "e499c927-2e1d-46e0-8ff8-2f3f5a899fe6",
   "metadata": {},
   "source": [
    "### Filter by velocities"
   ]
  },
  {
   "cell_type": "code",
   "execution_count": 6,
   "id": "548d14c7-da84-4bb2-be42-fee830ddbb22",
   "metadata": {},
   "outputs": [
    {
     "name": "stdout",
     "output_type": "stream",
     "text": [
      "1200\n",
      "1200\n",
      "935\n",
      "935\n"
     ]
    }
   ],
   "source": [
    "filtered_place_cells = place_cells[labels[\"velocities\"] > 5]\n",
    "filtered_labels = labels[labels[\"velocities\"] > 5]\n",
    "\n",
    "print(len(filtered_place_cells))\n",
    "print(len(filtered_labels))\n",
    "\n",
    "filtered_place_cells = place_cells[labels[\"velocities\"] > 10]\n",
    "filtered_labels = labels[labels[\"velocities\"] > 10]\n",
    "\n",
    "print(len(filtered_place_cells))\n",
    "print(len(filtered_labels))"
   ]
  },
  {
   "cell_type": "markdown",
   "id": "4af0c9e5-88b3-444f-aa20-9c1f8c7cdda5",
   "metadata": {},
   "source": [
    "### Filter by gain"
   ]
  },
  {
   "cell_type": "code",
   "execution_count": 7,
   "id": "6e6e8ac2-6b15-4fc2-9357-21e37df3a6b0",
   "metadata": {},
   "outputs": [
    {
     "name": "stdout",
     "output_type": "stream",
     "text": [
      "219\n",
      "219\n"
     ]
    }
   ],
   "source": [
    "filtered_place_cells = place_cells[labels[\"gains\"] == 1.0]\n",
    "filtered_labels = labels[labels[\"gains\"] == 1.0]\n",
    "\n",
    "print(len(filtered_place_cells))\n",
    "print(len(filtered_labels))"
   ]
  },
  {
   "cell_type": "code",
   "execution_count": 8,
   "id": "221c1f3d-b526-4410-8fab-20d49cdce579",
   "metadata": {},
   "outputs": [
    {
     "name": "stdout",
     "output_type": "stream",
     "text": [
      "2938\n",
      "2938\n"
     ]
    }
   ],
   "source": [
    "filtered_place_cells = place_cells[labels[\"gains\"] == 1.768999993801117]\n",
    "filtered_labels = labels[labels[\"gains\"] == 1.768999993801117]\n",
    "\n",
    "print(len(filtered_place_cells))\n",
    "print(len(filtered_labels))"
   ]
  },
  {
   "cell_type": "markdown",
   "id": "642da582-d98f-49f1-986e-497f895fd74a",
   "metadata": {},
   "source": [
    "### PCA\n"
   ]
  },
  {
   "cell_type": "code",
   "execution_count": 9,
   "id": "d1044d7c-7dbb-43c8-a474-9a57e8ecce76",
   "metadata": {},
   "outputs": [
    {
     "name": "stdout",
     "output_type": "stream",
     "text": [
      "[0.33181392 0.21530291]\n",
      "0.5471168343589199\n"
     ]
    }
   ],
   "source": [
    "from sklearn.decomposition import PCA\n",
    "\n",
    "pca = PCA(n_components=2)\n",
    "pca.fit(place_cells)\n",
    "print(pca.explained_variance_ratio_)\n",
    "print(sum(pca.explained_variance_ratio_))\n",
    "projected = pca.fit_transform(place_cells)"
   ]
  },
  {
   "cell_type": "code",
   "execution_count": 10,
   "id": "59789e52-7dfe-43db-8842-addda793dd02",
   "metadata": {},
   "outputs": [],
   "source": [
    "import torch\n",
    "\n",
    "U, S, V = torch.pca_lowrank(torch.tensor(place_cells), q=8, center=True)"
   ]
  },
  {
   "cell_type": "markdown",
   "id": "445a7662-729b-4b28-a80e-0155fba203aa",
   "metadata": {},
   "source": [
    "# Explore data saved in the place cells' npy, the times' txt and the labels' txt."
   ]
  },
  {
   "cell_type": "code",
   "execution_count": 11,
   "id": "ce6e4721-958f-4a51-b0a0-f0188df4a3db",
   "metadata": {},
   "outputs": [],
   "source": [
    "data_path = os.path.join(\n",
    "    BINNED_DIR, f\"expt{expt_id}_place_cells_timestep{timestep_ns}.npy\"\n",
    ")\n",
    "times_path = os.path.join(BINNED_DIR, f\"expt{expt_id}_times_timestep{timestep_ns}.txt\")\n",
    "labels_path = os.path.join(\n",
    "    BINNED_DIR, f\"expt{expt_id}_labels_timestep{timestep_ns}.txt\"\n",
    ")"
   ]
  },
  {
   "cell_type": "code",
   "execution_count": 12,
   "id": "ae02a815-e9fd-43ec-83e7-35d07a6c3d4a",
   "metadata": {},
   "outputs": [
    {
     "name": "stdout",
     "output_type": "stream",
     "text": [
      "Loading experiment 41...\n",
      "(3882, 12)\n",
      "[[0. 4. 0. 0. 0. 3. 0. 0. 0. 0. 0. 0.]\n",
      " [0. 0. 0. 0. 0. 3. 0. 0. 0. 0. 0. 0.]\n",
      " [0. 0. 0. 0. 0. 3. 0. 0. 0. 0. 0. 0.]]\n"
     ]
    }
   ],
   "source": [
    "print(f\"Loading experiment {expt_id}...\")\n",
    "place_cells = np.load(data_path)\n",
    "\n",
    "print(place_cells.shape)\n",
    "print(place_cells[:3])"
   ]
  },
  {
   "cell_type": "code",
   "execution_count": 13,
   "id": "032a959c-4dd7-49ad-9370-7264b303b6d4",
   "metadata": {},
   "outputs": [
    {
     "data": {
      "text/html": [
       "<div>\n",
       "<style scoped>\n",
       "    .dataframe tbody tr th:only-of-type {\n",
       "        vertical-align: middle;\n",
       "    }\n",
       "\n",
       "    .dataframe tbody tr th {\n",
       "        vertical-align: top;\n",
       "    }\n",
       "\n",
       "    .dataframe thead th {\n",
       "        text-align: right;\n",
       "    }\n",
       "</style>\n",
       "<table border=\"1\" class=\"dataframe\">\n",
       "  <thead>\n",
       "    <tr style=\"text-align: right;\">\n",
       "      <th></th>\n",
       "      <th>2.398831347000000000e+09</th>\n",
       "    </tr>\n",
       "  </thead>\n",
       "  <tbody>\n",
       "    <tr>\n",
       "      <th>0</th>\n",
       "      <td>2.399831e+09</td>\n",
       "    </tr>\n",
       "    <tr>\n",
       "      <th>1</th>\n",
       "      <td>2.400831e+09</td>\n",
       "    </tr>\n",
       "    <tr>\n",
       "      <th>2</th>\n",
       "      <td>2.401831e+09</td>\n",
       "    </tr>\n",
       "    <tr>\n",
       "      <th>3</th>\n",
       "      <td>2.402831e+09</td>\n",
       "    </tr>\n",
       "    <tr>\n",
       "      <th>4</th>\n",
       "      <td>2.403831e+09</td>\n",
       "    </tr>\n",
       "    <tr>\n",
       "      <th>...</th>\n",
       "      <td>...</td>\n",
       "    </tr>\n",
       "    <tr>\n",
       "      <th>3877</th>\n",
       "      <td>6.276831e+09</td>\n",
       "    </tr>\n",
       "    <tr>\n",
       "      <th>3878</th>\n",
       "      <td>6.277831e+09</td>\n",
       "    </tr>\n",
       "    <tr>\n",
       "      <th>3879</th>\n",
       "      <td>6.278831e+09</td>\n",
       "    </tr>\n",
       "    <tr>\n",
       "      <th>3880</th>\n",
       "      <td>6.279831e+09</td>\n",
       "    </tr>\n",
       "    <tr>\n",
       "      <th>3881</th>\n",
       "      <td>6.280831e+09</td>\n",
       "    </tr>\n",
       "  </tbody>\n",
       "</table>\n",
       "<p>3882 rows × 1 columns</p>\n",
       "</div>"
      ],
      "text/plain": [
       "      2.398831347000000000e+09\n",
       "0                 2.399831e+09\n",
       "1                 2.400831e+09\n",
       "2                 2.401831e+09\n",
       "3                 2.402831e+09\n",
       "4                 2.403831e+09\n",
       "...                        ...\n",
       "3877              6.276831e+09\n",
       "3878              6.277831e+09\n",
       "3879              6.278831e+09\n",
       "3880              6.279831e+09\n",
       "3881              6.280831e+09\n",
       "\n",
       "[3882 rows x 1 columns]"
      ]
     },
     "execution_count": 13,
     "metadata": {},
     "output_type": "execute_result"
    }
   ],
   "source": [
    "times = pd.read_csv(times_path)\n",
    "times"
   ]
  },
  {
   "cell_type": "code",
   "execution_count": 14,
   "id": "aaeb3a58",
   "metadata": {},
   "outputs": [
    {
     "data": {
      "text/html": [
       "<div>\n",
       "<style scoped>\n",
       "    .dataframe tbody tr th:only-of-type {\n",
       "        vertical-align: middle;\n",
       "    }\n",
       "\n",
       "    .dataframe tbody tr th {\n",
       "        vertical-align: top;\n",
       "    }\n",
       "\n",
       "    .dataframe thead th {\n",
       "        text-align: right;\n",
       "    }\n",
       "</style>\n",
       "<table border=\"1\" class=\"dataframe\">\n",
       "  <thead>\n",
       "    <tr style=\"text-align: right;\">\n",
       "      <th></th>\n",
       "      <th>Unnamed: 0</th>\n",
       "      <th>times</th>\n",
       "      <th>angles</th>\n",
       "      <th>velocities</th>\n",
       "      <th>gains</th>\n",
       "    </tr>\n",
       "  </thead>\n",
       "  <tbody>\n",
       "    <tr>\n",
       "      <th>0</th>\n",
       "      <td>0</td>\n",
       "      <td>2.398831e+09</td>\n",
       "      <td>218.096356</td>\n",
       "      <td>14.498892</td>\n",
       "      <td>1.000</td>\n",
       "    </tr>\n",
       "    <tr>\n",
       "      <th>1</th>\n",
       "      <td>1</td>\n",
       "      <td>2.399831e+09</td>\n",
       "      <td>228.319574</td>\n",
       "      <td>1.598267</td>\n",
       "      <td>1.000</td>\n",
       "    </tr>\n",
       "    <tr>\n",
       "      <th>2</th>\n",
       "      <td>2</td>\n",
       "      <td>2.400831e+09</td>\n",
       "      <td>229.646926</td>\n",
       "      <td>6.372364</td>\n",
       "      <td>1.000</td>\n",
       "    </tr>\n",
       "    <tr>\n",
       "      <th>3</th>\n",
       "      <td>3</td>\n",
       "      <td>2.401831e+09</td>\n",
       "      <td>241.624300</td>\n",
       "      <td>17.123473</td>\n",
       "      <td>1.000</td>\n",
       "    </tr>\n",
       "    <tr>\n",
       "      <th>4</th>\n",
       "      <td>4</td>\n",
       "      <td>2.402831e+09</td>\n",
       "      <td>269.453404</td>\n",
       "      <td>32.549442</td>\n",
       "      <td>1.000</td>\n",
       "    </tr>\n",
       "    <tr>\n",
       "      <th>...</th>\n",
       "      <td>...</td>\n",
       "      <td>...</td>\n",
       "      <td>...</td>\n",
       "      <td>...</td>\n",
       "      <td>...</td>\n",
       "    </tr>\n",
       "    <tr>\n",
       "      <th>3877</th>\n",
       "      <td>3877</td>\n",
       "      <td>6.275831e+09</td>\n",
       "      <td>153.349456</td>\n",
       "      <td>23.023874</td>\n",
       "      <td>1.769</td>\n",
       "    </tr>\n",
       "    <tr>\n",
       "      <th>3878</th>\n",
       "      <td>3878</td>\n",
       "      <td>6.276831e+09</td>\n",
       "      <td>180.073147</td>\n",
       "      <td>32.645234</td>\n",
       "      <td>1.769</td>\n",
       "    </tr>\n",
       "    <tr>\n",
       "      <th>3879</th>\n",
       "      <td>3879</td>\n",
       "      <td>6.277831e+09</td>\n",
       "      <td>212.383674</td>\n",
       "      <td>20.877510</td>\n",
       "      <td>1.769</td>\n",
       "    </tr>\n",
       "    <tr>\n",
       "      <th>3880</th>\n",
       "      <td>3880</td>\n",
       "      <td>6.278831e+09</td>\n",
       "      <td>218.709534</td>\n",
       "      <td>1.998074</td>\n",
       "      <td>1.769</td>\n",
       "    </tr>\n",
       "    <tr>\n",
       "      <th>3881</th>\n",
       "      <td>3881</td>\n",
       "      <td>6.279831e+09</td>\n",
       "      <td>228.125413</td>\n",
       "      <td>16.185864</td>\n",
       "      <td>1.769</td>\n",
       "    </tr>\n",
       "  </tbody>\n",
       "</table>\n",
       "<p>3882 rows × 5 columns</p>\n",
       "</div>"
      ],
      "text/plain": [
       "      Unnamed: 0         times      angles  velocities  gains\n",
       "0              0  2.398831e+09  218.096356   14.498892  1.000\n",
       "1              1  2.399831e+09  228.319574    1.598267  1.000\n",
       "2              2  2.400831e+09  229.646926    6.372364  1.000\n",
       "3              3  2.401831e+09  241.624300   17.123473  1.000\n",
       "4              4  2.402831e+09  269.453404   32.549442  1.000\n",
       "...          ...           ...         ...         ...    ...\n",
       "3877        3877  6.275831e+09  153.349456   23.023874  1.769\n",
       "3878        3878  6.276831e+09  180.073147   32.645234  1.769\n",
       "3879        3879  6.277831e+09  212.383674   20.877510  1.769\n",
       "3880        3880  6.278831e+09  218.709534    1.998074  1.769\n",
       "3881        3881  6.279831e+09  228.125413   16.185864  1.769\n",
       "\n",
       "[3882 rows x 5 columns]"
      ]
     },
     "execution_count": 14,
     "metadata": {},
     "output_type": "execute_result"
    }
   ],
   "source": [
    "labels = pd.read_csv(labels_path)\n",
    "labels"
   ]
  },
  {
   "cell_type": "markdown",
   "id": "cc60cae7-8e4e-4402-8dd5-38d04c75bd95",
   "metadata": {},
   "source": [
    "## Explore data given to the training"
   ]
  },
  {
   "cell_type": "code",
   "execution_count": 15,
   "id": "3206abd4-33bd-4d49-80f9-6c143e832c83",
   "metadata": {},
   "outputs": [
    {
     "name": "stdout",
     "output_type": "stream",
     "text": [
      "Dataset shape: torch.Size([3600, 3]).\n"
     ]
    }
   ],
   "source": [
    "import default_config\n",
    "\n",
    "data, labels, train_loader, test_loader = utils.load(default_config)"
   ]
  },
  {
   "cell_type": "code",
   "execution_count": 16,
   "id": "0e13b2a9-dd3a-4d7b-9e1c-4500e71965e8",
   "metadata": {},
   "outputs": [
    {
     "name": "stdout",
     "output_type": "stream",
     "text": [
      "torch.Size([3600, 3])\n"
     ]
    },
    {
     "data": {
      "text/plain": [
       "tensor([[0.7786, 0.5004, 1.0222],\n",
       "        [0.8101, 0.3818, 1.0375],\n",
       "        [0.7871, 0.4435, 1.0682]])"
      ]
     },
     "execution_count": 16,
     "metadata": {},
     "output_type": "execute_result"
    }
   ],
   "source": [
    "print(data.shape)\n",
    "data[:3]"
   ]
  },
  {
   "cell_type": "code",
   "execution_count": 17,
   "id": "c6111020-f252-468f-bbbf-d863105e45ee",
   "metadata": {},
   "outputs": [
    {
     "data": {
      "text/html": [
       "<div>\n",
       "<style scoped>\n",
       "    .dataframe tbody tr th:only-of-type {\n",
       "        vertical-align: middle;\n",
       "    }\n",
       "\n",
       "    .dataframe tbody tr th {\n",
       "        vertical-align: top;\n",
       "    }\n",
       "\n",
       "    .dataframe thead th {\n",
       "        text-align: right;\n",
       "    }\n",
       "</style>\n",
       "<table border=\"1\" class=\"dataframe\">\n",
       "  <thead>\n",
       "    <tr style=\"text-align: right;\">\n",
       "      <th></th>\n",
       "      <th>thetas</th>\n",
       "      <th>phis</th>\n",
       "    </tr>\n",
       "  </thead>\n",
       "  <tbody>\n",
       "    <tr>\n",
       "      <th>0</th>\n",
       "      <td>0.010000</td>\n",
       "      <td>0.000000</td>\n",
       "    </tr>\n",
       "    <tr>\n",
       "      <th>1</th>\n",
       "      <td>0.010000</td>\n",
       "      <td>0.106495</td>\n",
       "    </tr>\n",
       "    <tr>\n",
       "      <th>2</th>\n",
       "      <td>0.010000</td>\n",
       "      <td>0.212989</td>\n",
       "    </tr>\n",
       "    <tr>\n",
       "      <th>3</th>\n",
       "      <td>0.010000</td>\n",
       "      <td>0.319484</td>\n",
       "    </tr>\n",
       "    <tr>\n",
       "      <th>4</th>\n",
       "      <td>0.010000</td>\n",
       "      <td>0.425979</td>\n",
       "    </tr>\n",
       "    <tr>\n",
       "      <th>...</th>\n",
       "      <td>...</td>\n",
       "      <td>...</td>\n",
       "    </tr>\n",
       "    <tr>\n",
       "      <th>3595</th>\n",
       "      <td>3.141593</td>\n",
       "      <td>5.857207</td>\n",
       "    </tr>\n",
       "    <tr>\n",
       "      <th>3596</th>\n",
       "      <td>3.141593</td>\n",
       "      <td>5.963701</td>\n",
       "    </tr>\n",
       "    <tr>\n",
       "      <th>3597</th>\n",
       "      <td>3.141593</td>\n",
       "      <td>6.070196</td>\n",
       "    </tr>\n",
       "    <tr>\n",
       "      <th>3598</th>\n",
       "      <td>3.141593</td>\n",
       "      <td>6.176691</td>\n",
       "    </tr>\n",
       "    <tr>\n",
       "      <th>3599</th>\n",
       "      <td>3.141593</td>\n",
       "      <td>6.283185</td>\n",
       "    </tr>\n",
       "  </tbody>\n",
       "</table>\n",
       "<p>3600 rows × 2 columns</p>\n",
       "</div>"
      ],
      "text/plain": [
       "        thetas      phis\n",
       "0     0.010000  0.000000\n",
       "1     0.010000  0.106495\n",
       "2     0.010000  0.212989\n",
       "3     0.010000  0.319484\n",
       "4     0.010000  0.425979\n",
       "...        ...       ...\n",
       "3595  3.141593  5.857207\n",
       "3596  3.141593  5.963701\n",
       "3597  3.141593  6.070196\n",
       "3598  3.141593  6.176691\n",
       "3599  3.141593  6.283185\n",
       "\n",
       "[3600 rows x 2 columns]"
      ]
     },
     "execution_count": 17,
     "metadata": {},
     "output_type": "execute_result"
    }
   ],
   "source": [
    "labels"
   ]
  },
  {
   "cell_type": "code",
   "execution_count": 20,
   "id": "1f05de19-a90c-44bc-8bc2-da6ca9dabd2e",
   "metadata": {},
   "outputs": [
    {
     "data": {
      "image/png": "[encoded data removed]",
      "text/plain": [
       "<Figure size 400x400 with 1 Axes>"
      ]
     },
     "metadata": {},
     "output_type": "display_data"
    }
   ],
   "source": [
    "fig, ax = plt.subplots(figsize=(4, 4))\n",
    "\n",
    "ax.imshow(data[0:70, :], aspect=0.1);"
   ]
  }
 ],
 "metadata": {
  "interpreter": {
   "hash": "aee8b7b246df8f9039afb4144a1f6fd8d2ca17a180786b69acc140d282b71a49"
  },
  "kernelspec": {
   "display_name": "Python 3 (ipykernel)",
   "language": "python",
   "name": "python3"
  },
  "language_info": {
   "codemirror_mode": {
    "name": "ipython",
    "version": 3
   },
   "file_extension": ".py",
   "mimetype": "text/x-python",
   "name": "python",
   "nbconvert_exporter": "python",
   "pygments_lexer": "ipython3",
   "version": "3.8.15"
  }
 },
 "nbformat": 4,
 "nbformat_minor": 5
}
