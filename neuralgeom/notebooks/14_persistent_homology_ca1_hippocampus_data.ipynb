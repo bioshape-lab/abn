{
 "cells": [
  {
   "cell_type": "markdown",
   "metadata": {},
   "source": [
    "# Persistent homology analysis of CA1 Hippocampus data"
   ]
  },
  {
   "cell_type": "markdown",
   "metadata": {},
   "source": [
    "## Set up environment paths"
   ]
  },
  {
   "cell_type": "code",
   "execution_count": null,
   "metadata": {},
   "outputs": [],
   "source": [
    "import setup\n",
    "setup.main()\n",
    "\n",
    "%load_ext autoreload\n",
    "%autoreload 2"
   ]
  },
  {
   "cell_type": "markdown",
   "metadata": {},
   "source": [
    "## Imports"
   ]
  },
  {
   "cell_type": "code",
   "execution_count": null,
   "metadata": {},
   "outputs": [],
   "source": [
    "import matplotlib.pyplot as plt\n",
    "import numpy as np\n",
    "from lovely_numpy import lo\n",
    "from evaluate import compute_persistence_diagrams\n",
    "from viz import plot_persistence_diagrams\n",
    "import neuralgeom.datasets.experimental as experimental\n",
    "import seaborn as sns"
   ]
  },
  {
   "cell_type": "markdown",
   "metadata": {},
   "source": [
    "## Load neural activity"
   ]
  },
  {
   "cell_type": "code",
   "execution_count": null,
   "metadata": {},
   "outputs": [],
   "source": [
    "expt_id = \"34\"\n",
    "timestep_microsec = int(2e5)\n",
    "vel_threshold = 5\n",
    "\n",
    "neural_activity, labels = experimental.load_neural_activity(expt_id=expt_id, vel_threshold= vel_threshold, timestep_microsec=timestep_microsec)\n",
    "\n",
    "times_in_seconds = labels[\"times\"]*1e-6\n",
    "angles = labels[\"angles\"]\n",
    "\n",
    "print(f\"There are {neural_activity.shape[1]} neurons binned over {neural_activity.shape[0]} timesteps\")"
   ]
  },
  {
   "cell_type": "code",
   "execution_count": null,
   "metadata": {},
   "outputs": [],
   "source": [
    "from sklearn.feature_selection import mutual_info_regression\n",
    "angles_radians = angles*np.pi/180\n",
    "\n",
    "X = np.cos(angles_radians)\n",
    "Y = np.sin(angles_radians)\n",
    "\n",
    "spatial_mutual_info_X = mutual_info_regression(neural_activity,X)\n",
    "spatial_mutual_info_Y = mutual_info_regression(neural_activity,Y)\n",
    "spatial_mutual_info_XY = spatial_mutual_info_X + spatial_mutual_info_Y\n",
    "\n",
    "\n",
    "mi_threshold = 0.15\n",
    "mi_thresh_neural_activity = neural_activity[:,spatial_mutual_info_XY>mi_threshold]"
   ]
  },
  {
   "cell_type": "code",
   "execution_count": null,
   "metadata": {},
   "outputs": [],
   "source": [
    "diagrams = compute_persistence_diagrams(mi_thresh_neural_activity, maxdim=2, n_threads=-1)"
   ]
  },
  {
   "cell_type": "code",
   "execution_count": null,
   "metadata": {},
   "outputs": [],
   "source": [
    "plot_persistence_diagrams(diagrams)"
   ]
  },
  {
   "cell_type": "code",
   "execution_count": null,
   "metadata": {},
   "outputs": [],
   "source": [
    "import pandas as pd\n",
    "\n",
    "# Create empty list to store dataframes\n",
    "dfs = []\n",
    "\n",
    "# Iterate over each diagram\n",
    "for i, diagram in enumerate(diagrams):\n",
    "    # Convert numpy array to pandas DataFrame\n",
    "    df = pd.DataFrame(diagram, columns=['Birth', 'Death'])\n",
    "    # Add dimensionality as a column\n",
    "    df['Dimension'] = i\n",
    "    # Append DataFrame to the list\n",
    "    dfs.append(df)\n",
    "\n",
    "# Concatenate all dataframes\n",
    "result_df = pd.concat(dfs, ignore_index=True)"
   ]
  },
  {
   "cell_type": "code",
   "execution_count": null,
   "metadata": {},
   "outputs": [],
   "source": [
    "import seaborn as sns\n",
    "import matplotlib.pyplot as plt\n",
    "\n",
    "def plot_persistence_diagrams_seaborn(result_df):\n",
    "    # Determine the max limit for x and y axes\n",
    "    max_limit = max(result_df['Death'].max(), result_df['Birth'].max())\n",
    "\n",
    "    # Create a grid of scatterplots, one for each dimension\n",
    "    grid = sns.FacetGrid(result_df, col=\"Dimension\", hue=\"Dimension\", \n",
    "                         height=5, xlim=(0, max_limit), ylim=(0, max_limit))\n",
    "\n",
    "    # Map scatterplot onto the grid\n",
    "    grid.map(sns.scatterplot, 'Birth', 'Death', s=10)\n",
    "\n",
    "    # Plot 45-degree line\n",
    "    grid.map(plt.plot, 'Birth', 'Death', ls=\"--\", c='gray')\n",
    "\n",
    "    # Set grid aesthetics\n",
    "    grid.add_legend()\n",
    "    grid.set_axis_labels(\"Birth\", \"Death\")\n",
    "    grid.fig.suptitle(\"Persistence Diagram\")\n",
    "\n",
    "    plt.show()\n",
    "\n",
    "plot_persistence_diagrams_seaborn(result_df)"
   ]
  },
  {
   "cell_type": "code",
   "execution_count": null,
   "metadata": {},
   "outputs": [],
   "source": [
    "import seaborn as sns\n",
    "import matplotlib.pyplot as plt\n",
    "import numpy as np\n",
    "\n",
    "def plot_persistence_diagrams_seaborn(result_df):\n",
    "    # Make a copy of the dataframe to avoid changing the original data\n",
    "    plot_df = result_df.copy()\n",
    "\n",
    "    # Find the maximum finite value from the Birth and Death columns\n",
    "    max_finite_value = plot_df.replace([np.inf, -np.inf], np.nan).max().max()\n",
    "\n",
    "    # Replace infinities with a slightly larger value than the maximum finite value\n",
    "    plot_df.replace([np.inf, -np.inf], max_finite_value * 1.1, inplace=True)\n",
    "\n",
    "    # Determine the max limit for x and y axes\n",
    "    max_limit = max(plot_df['Death'].max(), plot_df['Birth'].max())\n",
    "\n",
    "    # Create a grid of scatterplots, one for each dimension\n",
    "    grid = sns.FacetGrid(plot_df, col=\"Dimension\", hue=\"Dimension\", \n",
    "                         height=5, xlim=(0, max_limit), ylim=(0, max_limit))\n",
    "\n",
    "    # Map scatterplot and kdeplot onto the grid\n",
    "    grid.map(sns.scatterplot, 'Birth', 'Death', s=10)\n",
    "    \n",
    "\n",
    "    # Define a function to draw filled kde plot\n",
    "    def kde_fill(data,**kwargs):\n",
    "        sns.kdeplot(data, x = \"Birth\", y = \"Death\",fill=True, thresh=0, levels=100, cmap='Reds', alpha=0.5, **kwargs)\n",
    "\n",
    "    # Map kde_fill function onto the grid\n",
    "    grid.map_dataframe(kde_fill)\n",
    "\n",
    "    def plot_45_degree_line(**kwargs):\n",
    "        plt.plot([0, max_limit], [0, max_limit], ls=\"--\", c='gray')\n",
    "\n",
    "    # Map function to plot 45-degree line onto the grid\n",
    "    grid.map(plot_45_degree_line)\n",
    "\n",
    "    # Set grid aesthetics\n",
    "    grid.add_legend()\n",
    "    grid.set_axis_labels(\"Birth\", \"Death\")\n",
    "    grid.fig.suptitle(\"Persistence Diagram\")\n",
    "\n",
    "    plt.show()\n",
    "\n",
    "plot_persistence_diagrams_seaborn(result_df)"
   ]
  },
  {
   "cell_type": "code",
   "execution_count": null,
   "metadata": {},
   "outputs": [],
   "source": [
    "import seaborn as sns\n",
    "import matplotlib.pyplot as plt\n",
    "import numpy as np\n",
    "\n",
    "def plot_persistence_diagrams_seaborn(result_df):\n",
    "    # Make a copy of the dataframe to avoid changing the original data\n",
    "    plot_df = result_df.copy()\n",
    "\n",
    "    # Find the maximum finite value from the Birth and Death columns\n",
    "    max_finite_value = plot_df.replace([np.inf, -np.inf], np.nan).max().max()\n",
    "\n",
    "    # Replace infinities with a slightly larger value than the maximum finite value\n",
    "    plot_df.replace([np.inf, -np.inf], max_finite_value * 1.1, inplace=True)\n",
    "\n",
    "    # Determine the max limit for x and y axes\n",
    "    max_limit = max(plot_df['Death'].max(), plot_df['Birth'].max())\n",
    "\n",
    "    # Create a grid of scatterplots, one for each dimension\n",
    "    grid = sns.FacetGrid(plot_df, col=\"Dimension\", hue=\"Dimension\", \n",
    "                         height=5, xlim=(0, max_limit), ylim=(0, max_limit))\n",
    "\n",
    "    # Map scatterplot onto the grid\n",
    "    grid.map(sns.scatterplot, 'Birth', 'Death', s=10)\n",
    "\n",
    "    # Plot 45-degree line\n",
    "    grid.map(plt.plot, 'Birth', 'Death', ls=\"--\", c='gray')\n",
    "\n",
    "    # Set grid aesthetics\n",
    "    grid.add_legend()\n",
    "    grid.set_axis_labels(\"Birth\", \"Death\")\n",
    "    grid.fig.suptitle(\"Persistence Diagram\")\n",
    "\n",
    "    plt.show()\n",
    "\n",
    "plot_persistence_diagrams_seaborn(result_df)"
   ]
  },
  {
   "cell_type": "code",
   "execution_count": null,
   "metadata": {},
   "outputs": [],
   "source": [
    "fig, ax = plt.subplots(figsize=(6, 6))\n",
    "\n",
    "\n",
    "sns.kdeplot(result_df[result_df[\"Dimension\"] == 0],x=\"Birth\",y=\"Death\",hue=\"Dimension\",fill=True, ax=ax)\n",
    "\n",
    "ax.set_xlim(0, 25)\n",
    "ax.set_ylim(0, 25);\n",
    "\n",
    "ax.plot([0, 60], [0, 60], color='r', linestyle='--')"
   ]
  },
  {
   "cell_type": "code",
   "execution_count": null,
   "metadata": {},
   "outputs": [],
   "source": [
    "sns.displot(result_df,x=\"Birth\",y=\"Death\",hue=\"Dimension\",kind=\"kde\",fill=True)"
   ]
  }
 ],
 "metadata": {
  "kernelspec": {
   "display_name": "neuralgeom",
   "language": "python",
   "name": "python3"
  },
  "language_info": {
   "name": "python",
   "version": "3.8.16"
  },
  "orig_nbformat": 4
 },
 "nbformat": 4,
 "nbformat_minor": 2
}
