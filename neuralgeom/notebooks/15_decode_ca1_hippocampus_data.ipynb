{
 "cells": [
  {
   "cell_type": "markdown",
   "metadata": {},
   "source": [
    "# Train FFNN decocoder to predict location of animal from CA1 Hippocampus data"
   ]
  },
  {
   "cell_type": "markdown",
   "metadata": {},
   "source": [
    "## Set up environment paths"
   ]
  },
  {
   "cell_type": "code",
   "execution_count": null,
   "metadata": {},
   "outputs": [],
   "source": [
    "import setup\n",
    "setup.main()\n",
    "\n",
    "%load_ext autoreload\n",
    "%autoreload 2"
   ]
  },
  {
   "cell_type": "markdown",
   "metadata": {},
   "source": [
    "## Imports"
   ]
  },
  {
   "cell_type": "code",
   "execution_count": null,
   "metadata": {},
   "outputs": [],
   "source": [
    "import torch\n",
    "from torch import nn, optim\n",
    "from torch.utils.data import DataLoader, TensorDataset\n",
    "import torch.nn.functional as F\n",
    "import matplotlib.pyplot as plt\n",
    "from lovely_numpy import lo\n",
    "import neuralgeom.datasets.experimental as experimental"
   ]
  },
  {
   "cell_type": "markdown",
   "metadata": {},
   "source": [
    "## Load neural activity & labels"
   ]
  },
  {
   "cell_type": "code",
   "execution_count": null,
   "metadata": {},
   "outputs": [],
   "source": [
    "expt_id = \"34\"\n",
    "timestep_microsec = int(2e5)\n",
    "vel_threshold = 5\n",
    "\n",
    "neural_activity, labels = experimental.load_neural_activity(expt_id=expt_id, vel_threshold= vel_threshold, timestep_microsec=timestep_microsec)\n",
    "\n",
    "times_in_seconds = labels[\"times\"]*1e-6\n",
    "angles = labels[\"angles\"]\n",
    "\n",
    "print(f\"There are {neural_activity.shape[1]} neurons binned over {neural_activity.shape[0]} timesteps\")"
   ]
  },
  {
   "cell_type": "code",
   "execution_count": null,
   "metadata": {},
   "outputs": [],
   "source": [
    "# copy archtecture from VAE encoder\n",
    "\n",
    "\n",
    "# Set a fixed random seed for reproducibility\n",
    "torch.manual_seed(0)\n",
    "\n",
    "\n",
    "input_dim = neural_activity.shape[1]\n",
    "\n",
    "# Define a simple feedforward neural network\n",
    "class Decoder(nn.Module):\n",
    "    def __init__(self):\n",
    "        super(Decoder, self).__init__()\n",
    "        self.fc1 = nn.Linear(input_dim, 50).float()  # First hidden layer\n",
    "        self.fc2 = nn.Linear(50, 20).float()  # Second hidden layer\n",
    "        self.fc3 = nn.Linear(20, 2).float()  # Output layer\n",
    "\n",
    "    def forward(self, x):\n",
    "        x = x.float()\n",
    "        x = F.relu(self.fc1(x))  # Apply ReLU activation function after first layer\n",
    "        x = F.relu(self.fc2(x))  # Apply ReLU activation function after second layer\n",
    "        x = self.fc3(x)  # No activation function after final layer (for regression task)\n",
    "        return x"
   ]
  },
  {
   "cell_type": "code",
   "execution_count": null,
   "metadata": {},
   "outputs": [],
   "source": [
    "device = torch.device(\"cuda\" if torch.cuda.is_available() else \"mps\" if torch.backends.mps.is_available() else \"cpu\")\n",
    "print(f\"Using device: {device}\")"
   ]
  },
  {
   "cell_type": "code",
   "execution_count": null,
   "metadata": {},
   "outputs": [],
   "source": [
    "# Create an instance of the network\n",
    "decoder = Decoder().to(device)\n",
    "\n",
    "# Use mean squared error loss for regression\n",
    "criterion = nn.MSELoss()\n",
    "\n",
    "# use adam optimizer\n",
    "optimizer = optim.Adam(decoder.parameters(), lr=0.01)"
   ]
  },
  {
   "cell_type": "code",
   "execution_count": null,
   "metadata": {},
   "outputs": [],
   "source": [
    "cos_sin_angles = np.vstack((np.cos(angles_radians),np.sin(angles_radians))).T"
   ]
  },
  {
   "cell_type": "code",
   "execution_count": null,
   "metadata": {},
   "outputs": [],
   "source": [
    "# Assume we have some training data in input_data (100-dimensional input) and target_data (2-dimensional output)\n",
    "input_data = torch.from_numpy(neural_activity).float().to(device)\n",
    "target_data = torch.from_numpy(cos_sin_angles).float().to(device)\n",
    "\n",
    "# Split data into training and validation sets (80-20 split)\n",
    "train_size = int(0.8 * len(input_data))\n",
    "val_size = len(input_data) - train_size\n",
    "\n",
    "train_data = TensorDataset(input_data[:train_size], target_data[:train_size])\n",
    "val_data = TensorDataset(input_data[train_size:], target_data[train_size:])\n",
    "\n",
    "# Create DataLoaders from your datasets\n",
    "train_loader = DataLoader(train_data, batch_size=64, shuffle=True)\n",
    "val_loader = DataLoader(val_data, batch_size=64, shuffle=True)"
   ]
  },
  {
   "cell_type": "code",
   "execution_count": null,
   "metadata": {},
   "outputs": [],
   "source": [
    "# Arrays to keep track of losses\n",
    "train_losses = []\n",
    "val_losses = []\n",
    "\n",
    "\n",
    "# Train the network\n",
    "for epoch in range(10):  # Loop over the dataset multiple times\n",
    "    # Training phase\n",
    "    decoder.train()\n",
    "    running_loss = 0.0\n",
    "    for inputs, targets in train_loader:\n",
    "        # Zero the parameter gradients\n",
    "        optimizer.zero_grad()\n",
    "\n",
    "        # Forward pass\n",
    "        outputs = decoder(inputs)\n",
    "\n",
    "        # Compute loss\n",
    "        loss = criterion(outputs, targets)\n",
    "\n",
    "        # Backward pass and optimization\n",
    "        loss.backward()\n",
    "        optimizer.step()\n",
    "\n",
    "        running_loss += loss.item()\n",
    "\n",
    "    epoch_loss = running_loss / len(train_loader)\n",
    "    train_losses.append(epoch_loss)\n",
    "    print(f\"Epoch {epoch+1}, Training Loss: {epoch_loss}\")\n",
    "\n",
    "    # Validation phase\n",
    "    decoder.eval()\n",
    "    with torch.no_grad():\n",
    "        running_loss = 0.0\n",
    "        for inputs, targets in val_loader:\n",
    "            outputs = decoder(inputs)\n",
    "            loss = criterion(outputs, targets)\n",
    "            running_loss += loss.item()\n",
    "\n",
    "        epoch_loss = running_loss / len(val_loader)\n",
    "        val_losses.append(epoch_loss)\n",
    "        print(f\"Epoch {epoch+1}, Validation Loss: {epoch_loss}\")\n",
    "\n",
    "print('Finished Training')"
   ]
  },
  {
   "cell_type": "code",
   "execution_count": null,
   "metadata": {},
   "outputs": [],
   "source": [
    "# Plot training and validation losses\n",
    "plt.plot(train_losses, label='Training loss')\n",
    "plt.plot(val_losses, label='Validation loss')\n",
    "plt.xlabel('Epoch')\n",
    "plt.ylabel('Loss')\n",
    "plt.legend()\n",
    "plt.show()"
   ]
  }
 ],
 "metadata": {
  "language_info": {
   "name": "python"
  },
  "orig_nbformat": 4
 },
 "nbformat": 4,
 "nbformat_minor": 2
}
