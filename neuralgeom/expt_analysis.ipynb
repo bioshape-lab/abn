{
 "cells": [
  {
   "cell_type": "code",
   "execution_count": 2,
   "metadata": {},
   "outputs": [
    {
     "name": "stderr",
     "output_type": "stream",
     "text": [
      "INFO: Using pytorch backend\n"
     ]
    }
   ],
   "source": [
    "%load_ext autoreload\n",
    "%autoreload 2\n",
    "\n",
    "import torch\n",
    "import default_config\n",
    "import matplotlib.pyplot as plt\n",
    "import numpy as np\n",
    "\n",
    "from datasets.utils import load as load_data\n",
    "from scipy.signal import savgol_filter as sg"
   ]
  },
  {
   "cell_type": "markdown",
   "metadata": {},
   "source": [
    "### Load Experimental Data + Smooth"
   ]
  },
  {
   "cell_type": "code",
   "execution_count": 37,
   "metadata": {},
   "outputs": [
    {
     "name": "stderr",
     "output_type": "stream",
     "text": [
      "INFO: # - Found file at data/expt34_times_timestep1000000.txt! Loading...\n",
      "INFO: # - Found file at data/expt34_place_cells_timestep1000000.npy! Loading...\n",
      "INFO: # - Found file at data/expt34_labels_timestep1000000.txt! Loading...\n"
     ]
    },
    {
     "name": "stdout",
     "output_type": "stream",
     "text": [
      "      Unnamed: 0         times      angles  velocities  gains\n",
      "0              0  3.625397e+08  125.815085   -0.104195    1.0\n",
      "1              1  3.635397e+08  129.515412   13.455259    1.0\n",
      "2              2  3.645397e+08  154.552048   30.988614    1.0\n",
      "3              3  3.655397e+08  184.048601   27.353089    1.0\n",
      "4              4  3.665397e+08  212.071814   28.240268    1.0\n",
      "...          ...           ...         ...         ...    ...\n",
      "2948        2948  3.310540e+09   37.660339    0.094720    1.0\n",
      "2949        2949  3.311540e+09   38.190007    1.087265    1.0\n",
      "2950        2950  3.312540e+09   38.595808   -1.100449    1.0\n",
      "2951        2951  3.313540e+09   46.685671   16.660279    1.0\n",
      "2952        2952  3.314540e+09   54.966355    1.060331    1.0\n",
      "\n",
      "[2953 rows x 5 columns]\n",
      "Dataset shape: (1473, 40).\n"
     ]
    },
    {
     "data": {
      "text/plain": [
       "<matplotlib.image.AxesImage at 0x7fe8de4aefd0>"
      ]
     },
     "execution_count": 37,
     "metadata": {},
     "output_type": "execute_result"
    },
    {
     "data": {
      "image/png": "[encoded data removed]",
      "text/plain": [
       "<Figure size 400x400 with 1 Axes>"
      ]
     },
     "metadata": {},
     "output_type": "display_data"
    }
   ],
   "source": [
    "data, labels, train_loader, test_loader = load_data(default_config)\n",
    "\n",
    "fig, ax = plt.subplots(figsize=(4,4))\n",
    "\n",
    "ax.imshow(data[0:70,:],aspect=2)"
   ]
  },
  {
   "cell_type": "markdown",
   "metadata": {},
   "source": [
    "### Pullback metric"
   ]
  },
  {
   "cell_type": "markdown",
   "metadata": {},
   "source": [
    "### Load place cell data, expt 41"
   ]
  },
  {
   "cell_type": "code",
   "execution_count": 47,
   "metadata": {},
   "outputs": [
    {
     "name": "stderr",
     "output_type": "stream",
     "text": [
      "INFO: # - Found file at /home/facosta/code/neuralgeom/neuralgeom/data/expt41_times_timestep1000000.txt! Loading...\n",
      "INFO: # - Found file at /home/facosta/code/neuralgeom/neuralgeom/data/expt41_place_cells_timestep1000000.npy! Loading...\n",
      "INFO: # - Found file at /home/facosta/code/neuralgeom/neuralgeom/data/expt41_labels_timestep1000000.txt! Loading...\n"
     ]
    },
    {
     "name": "stdout",
     "output_type": "stream",
     "text": [
      "(3882, 12)\n"
     ]
    }
   ],
   "source": [
    "from datasets.experimental import load_place_cells \n",
    "\n",
    "place_cells, labels = load_place_cells(expt_id=41, timestep_microsec=int(1e6))\n",
    "print(place_cells.shape)"
   ]
  },
  {
   "cell_type": "markdown",
   "metadata": {},
   "source": [
    "### Filter by gain"
   ]
  },
  {
   "cell_type": "code",
   "execution_count": 48,
   "metadata": {},
   "outputs": [],
   "source": [
    "dataset = place_cells[labels[\"velocities\"] > 5]\n",
    "\n",
    "labels = labels[labels[\"velocities\"] > 5]"
   ]
  },
  {
   "cell_type": "code",
   "execution_count": 49,
   "metadata": {},
   "outputs": [],
   "source": [
    "dataset_1 = dataset[labels[\"gains\"] == 1.0]\n",
    "labels_1 = labels[labels[\"gains\"] == 1.0]"
   ]
  },
  {
   "cell_type": "code",
   "execution_count": 51,
   "metadata": {},
   "outputs": [],
   "source": [
    "dataset_2 = dataset[labels[\"gains\"] == 1.768999993801117]\n",
    "labels_2 = labels[labels[\"gains\"] == 1.768999993801117]"
   ]
  },
  {
   "cell_type": "markdown",
   "metadata": {},
   "source": [
    "### Filter by velocities"
   ]
  },
  {
   "cell_type": "code",
   "execution_count": 8,
   "metadata": {},
   "outputs": [],
   "source": [
    "dataset = place_cells[labels[\"velocities\"] > 10]\n",
    "\n",
    "labels = labels[labels[\"velocities\"] > 10]"
   ]
  },
  {
   "cell_type": "markdown",
   "metadata": {},
   "source": [
    "### PCA"
   ]
  },
  {
   "cell_type": "code",
   "execution_count": 7,
   "metadata": {},
   "outputs": [],
   "source": [
    "from sklearn.decomposition import PCA\n",
    "pca = PCA(n_components=30)\n",
    "pca.fit(data)\n",
    "print(sum(pca.explained_variance_ratio_))\n",
    "A = torch.tensor(pca.fit_transform(data))"
   ]
  },
  {
   "cell_type": "code",
   "execution_count": null,
   "metadata": {},
   "outputs": [],
   "source": [
    "U, S, V = torch.pca_lowrank(data, q = 8, center=True)"
   ]
  }
 ],
 "metadata": {
  "interpreter": {
   "hash": "830ec699242056147bc166664c42ac72ee76562df2d56c08c884d342313a3dd0"
  },
  "kernelspec": {
   "display_name": "Python 3.8.13 ('ng')",
   "language": "python",
   "name": "python3"
  },
  "language_info": {
   "codemirror_mode": {
    "name": "ipython",
    "version": 3
   },
   "file_extension": ".py",
   "mimetype": "text/x-python",
   "name": "python",
   "nbconvert_exporter": "python",
   "pygments_lexer": "ipython3",
   "version": "3.8.13"
  },
  "orig_nbformat": 4
 },
 "nbformat": 4,
 "nbformat_minor": 2
}
