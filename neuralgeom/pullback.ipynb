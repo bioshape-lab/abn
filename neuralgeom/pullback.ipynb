{
 "cells": [
  {
   "cell_type": "code",
   "execution_count": 10,
   "metadata": {},
   "outputs": [
    {
     "name": "stdout",
     "output_type": "stream",
     "text": [
      "The autoreload extension is already loaded. To reload it, use:\n",
      "  %reload_ext autoreload\n"
     ]
    }
   ],
   "source": [
    "%load_ext autoreload\n",
    "%autoreload 2\n",
    "import os\n",
    "os.environ[\"GEOMSTATS_BACKEND\"] = \"pytorch\"\n",
    "import geomstats.backend as gs\n",
    "from geomstats.geometry.pullback_metric import PullbackMetric\n",
    "import matplotlib.pyplot as plt\n",
    "import torch"
   ]
  },
  {
   "cell_type": "code",
   "execution_count": 11,
   "metadata": {},
   "outputs": [],
   "source": [
    "def get_immersion(radius):\n",
    "    def immersion(angle):\n",
    "        return radius*gs.array([gs.cos(angle),gs.sin(angle)])\n",
    "    return immersion\n",
    "\n",
    "\n",
    "immersion = get_immersion(radius=10)\n",
    "\n",
    "metric = PullbackMetric(dim=1, embedding_dim=2, immersion=immersion)"
   ]
  },
  {
   "cell_type": "code",
   "execution_count": 12,
   "metadata": {},
   "outputs": [
    {
     "name": "stderr",
     "output_type": "stream",
     "text": [
      "/Users/franciscoacosta/opt/anaconda3/envs/ng/lib/python3.8/site-packages/numpy/core/shape_base.py:65: FutureWarning: The input object of type 'Tensor' is an array-like implementing one of the corresponding protocols (`__array__`, `__array_interface__` or `__array_struct__`); but not a sequence (or 0-D). In the future, this object will be coerced as if it was first converted using `np.array(obj)`. To retain the old behaviour, you have to either modify the type 'Tensor', or assign to an empty array created with `np.empty(correct_shape, dtype=object)`.\n",
      "  ary = asanyarray(ary)\n",
      "/Users/franciscoacosta/opt/anaconda3/envs/ng/lib/python3.8/site-packages/numpy/core/shape_base.py:65: VisibleDeprecationWarning: Creating an ndarray from ragged nested sequences (which is a list-or-tuple of lists-or-tuples-or ndarrays with different lengths or shapes) is deprecated. If you meant to do this, you must specify 'dtype=object' when creating the ndarray.\n",
      "  ary = asanyarray(ary)\n"
     ]
    },
    {
     "data": {
      "text/plain": [
       "[<matplotlib.lines.Line2D at 0x7fcbbc0a3970>]"
      ]
     },
     "execution_count": 12,
     "metadata": {},
     "output_type": "execute_result"
    },
    {
     "data": {
      "image/png": "[encoded data removed]",
      "text/plain": [
       "<Figure size 640x480 with 1 Axes>"
      ]
     },
     "metadata": {},
     "output_type": "display_data"
    }
   ],
   "source": [
    "thetas = gs.linspace(0,2*gs.pi,100)\n",
    "\n",
    "metrics = [metric.metric_matrix(gs.array([theta])) for theta in thetas]\n",
    "\n",
    "plt.plot(thetas,metrics)"
   ]
  },
  {
   "cell_type": "code",
   "execution_count": 18,
   "metadata": {},
   "outputs": [
    {
     "ename": "RuntimeError",
     "evalue": "einsum(): the number of subscripts in the equation (1) does not match the number of dimensions (2) for operand 1 and no ellipsis was given",
     "output_type": "error",
     "traceback": [
      "\u001b[0;31m---------------------------------------------------------------------------\u001b[0m",
      "\u001b[0;31mRuntimeError\u001b[0m                              Traceback (most recent call last)",
      "Cell \u001b[0;32mIn [18], line 9\u001b[0m\n\u001b[1;32m      5\u001b[0m metric \u001b[38;5;241m=\u001b[39m PullbackMetric(dim\u001b[38;5;241m=\u001b[39m\u001b[38;5;241m1\u001b[39m, embedding_dim\u001b[38;5;241m=\u001b[39m\u001b[38;5;241m2\u001b[39m, immersion\u001b[38;5;241m=\u001b[39mimmersion)\n\u001b[1;32m      7\u001b[0m thetas \u001b[38;5;241m=\u001b[39m gs\u001b[38;5;241m.\u001b[39mlinspace(\u001b[38;5;241m0\u001b[39m,\u001b[38;5;241m2\u001b[39m\u001b[38;5;241m*\u001b[39mgs\u001b[38;5;241m.\u001b[39mpi,\u001b[38;5;241m100\u001b[39m)\n\u001b[0;32m----> 9\u001b[0m metrics \u001b[38;5;241m=\u001b[39m [metric\u001b[38;5;241m.\u001b[39mmetric_matrix(gs\u001b[38;5;241m.\u001b[39marray([theta])) \u001b[38;5;28;01mfor\u001b[39;00m theta \u001b[38;5;129;01min\u001b[39;00m thetas]\n\u001b[1;32m     11\u001b[0m plt\u001b[38;5;241m.\u001b[39mplot(thetas,metrics)\n",
      "Cell \u001b[0;32mIn [18], line 9\u001b[0m, in \u001b[0;36m<listcomp>\u001b[0;34m(.0)\u001b[0m\n\u001b[1;32m      5\u001b[0m metric \u001b[38;5;241m=\u001b[39m PullbackMetric(dim\u001b[38;5;241m=\u001b[39m\u001b[38;5;241m1\u001b[39m, embedding_dim\u001b[38;5;241m=\u001b[39m\u001b[38;5;241m2\u001b[39m, immersion\u001b[38;5;241m=\u001b[39mimmersion)\n\u001b[1;32m      7\u001b[0m thetas \u001b[38;5;241m=\u001b[39m gs\u001b[38;5;241m.\u001b[39mlinspace(\u001b[38;5;241m0\u001b[39m,\u001b[38;5;241m2\u001b[39m\u001b[38;5;241m*\u001b[39mgs\u001b[38;5;241m.\u001b[39mpi,\u001b[38;5;241m100\u001b[39m)\n\u001b[0;32m----> 9\u001b[0m metrics \u001b[38;5;241m=\u001b[39m [\u001b[43mmetric\u001b[49m\u001b[38;5;241;43m.\u001b[39;49m\u001b[43mmetric_matrix\u001b[49m\u001b[43m(\u001b[49m\u001b[43mgs\u001b[49m\u001b[38;5;241;43m.\u001b[39;49m\u001b[43marray\u001b[49m\u001b[43m(\u001b[49m\u001b[43m[\u001b[49m\u001b[43mtheta\u001b[49m\u001b[43m]\u001b[49m\u001b[43m)\u001b[49m\u001b[43m)\u001b[49m \u001b[38;5;28;01mfor\u001b[39;00m theta \u001b[38;5;129;01min\u001b[39;00m thetas]\n\u001b[1;32m     11\u001b[0m plt\u001b[38;5;241m.\u001b[39mplot(thetas,metrics)\n",
      "File \u001b[0;32m~/opt/anaconda3/envs/ng/lib/python3.8/site-packages/geomstats/geometry/pullback_metric.py:87\u001b[0m, in \u001b[0;36mPullbackMetric.metric_matrix\u001b[0;34m(self, base_point, n_jobs, **joblib_kwargs)\u001b[0m\n\u001b[1;32m     <a href='file:///Users/franciscoacosta/opt/anaconda3/envs/ng/lib/python3.8/site-packages/geomstats/geometry/pullback_metric.py?line=64'>65</a>\u001b[0m \u001b[39mdef\u001b[39;00m \u001b[39mmetric_matrix\u001b[39m(\u001b[39mself\u001b[39m, base_point\u001b[39m=\u001b[39m\u001b[39mNone\u001b[39;00m, n_jobs\u001b[39m=\u001b[39m\u001b[39m1\u001b[39m, \u001b[39m*\u001b[39m\u001b[39m*\u001b[39mjoblib_kwargs):\n\u001b[1;32m     <a href='file:///Users/franciscoacosta/opt/anaconda3/envs/ng/lib/python3.8/site-packages/geomstats/geometry/pullback_metric.py?line=65'>66</a>\u001b[0m     \u001b[39mr\u001b[39m\u001b[39m\"\"\"Metric matrix at the tangent space at a base point.\u001b[39;00m\n\u001b[1;32m     <a href='file:///Users/franciscoacosta/opt/anaconda3/envs/ng/lib/python3.8/site-packages/geomstats/geometry/pullback_metric.py?line=66'>67</a>\u001b[0m \n\u001b[1;32m     <a href='file:///Users/franciscoacosta/opt/anaconda3/envs/ng/lib/python3.8/site-packages/geomstats/geometry/pullback_metric.py?line=67'>68</a>\u001b[0m \u001b[39m    Let :math:`f` be the immersion\u001b[39;00m\n\u001b[0;32m   (...)\u001b[0m\n\u001b[1;32m     <a href='file:///Users/franciscoacosta/opt/anaconda3/envs/ng/lib/python3.8/site-packages/geomstats/geometry/pullback_metric.py?line=84'>85</a>\u001b[0m \u001b[39m        Inner-product matrix.\u001b[39;00m\n\u001b[1;32m     <a href='file:///Users/franciscoacosta/opt/anaconda3/envs/ng/lib/python3.8/site-packages/geomstats/geometry/pullback_metric.py?line=85'>86</a>\u001b[0m \u001b[39m    \"\"\"\u001b[39;00m\n\u001b[0;32m---> <a href='file:///Users/franciscoacosta/opt/anaconda3/envs/ng/lib/python3.8/site-packages/geomstats/geometry/pullback_metric.py?line=86'>87</a>\u001b[0m     immersed_base_point \u001b[39m=\u001b[39m \u001b[39mself\u001b[39;49m\u001b[39m.\u001b[39;49mimmersion(base_point)\n\u001b[1;32m     <a href='file:///Users/franciscoacosta/opt/anaconda3/envs/ng/lib/python3.8/site-packages/geomstats/geometry/pullback_metric.py?line=87'>88</a>\u001b[0m     jacobian_immersion \u001b[39m=\u001b[39m \u001b[39mself\u001b[39m\u001b[39m.\u001b[39mjacobian_immersion(base_point)\n\u001b[1;32m     <a href='file:///Users/franciscoacosta/opt/anaconda3/envs/ng/lib/python3.8/site-packages/geomstats/geometry/pullback_metric.py?line=88'>89</a>\u001b[0m     basis_elements \u001b[39m=\u001b[39m gs\u001b[39m.\u001b[39meye(\u001b[39mself\u001b[39m\u001b[39m.\u001b[39mdim)\n",
      "File \u001b[0;32m~/Desktop/code/neuralgeom/neuralgeom/datasets/synthetic.py:409\u001b[0m, in \u001b[0;36mget_s1_synthetic_immersion.<locals>.synth_immersion\u001b[0;34m(angle)\u001b[0m\n\u001b[1;32m    <a href='file:///Users/franciscoacosta/Desktop/code/neuralgeom/neuralgeom/datasets/synthetic.py?line=402'>403</a>\u001b[0m point \u001b[39m=\u001b[39m amplitude \u001b[39m*\u001b[39m polar(angle)\n\u001b[1;32m    <a href='file:///Users/franciscoacosta/Desktop/code/neuralgeom/neuralgeom/datasets/synthetic.py?line=404'>405</a>\u001b[0m padded_point \u001b[39m=\u001b[39m F\u001b[39m.\u001b[39mpad(\n\u001b[1;32m    <a href='file:///Users/franciscoacosta/Desktop/code/neuralgeom/neuralgeom/datasets/synthetic.py?line=405'>406</a>\u001b[0m     \u001b[39minput\u001b[39m\u001b[39m=\u001b[39mpoint, pad\u001b[39m=\u001b[39m(\u001b[39m0\u001b[39m, embedding_dim \u001b[39m-\u001b[39m \u001b[39m2\u001b[39m), mode\u001b[39m=\u001b[39m\u001b[39m\"\u001b[39m\u001b[39mconstant\u001b[39m\u001b[39m\"\u001b[39m, value\u001b[39m=\u001b[39m\u001b[39m0.0\u001b[39m\n\u001b[1;32m    <a href='file:///Users/franciscoacosta/Desktop/code/neuralgeom/neuralgeom/datasets/synthetic.py?line=406'>407</a>\u001b[0m )\n\u001b[0;32m--> <a href='file:///Users/franciscoacosta/Desktop/code/neuralgeom/neuralgeom/datasets/synthetic.py?line=408'>409</a>\u001b[0m \u001b[39mreturn\u001b[39;00m gs\u001b[39m.\u001b[39;49meinsum(\u001b[39m\"\u001b[39;49m\u001b[39mij,j->i\u001b[39;49m\u001b[39m\"\u001b[39;49m, rot, padded_point)\n",
      "File \u001b[0;32m~/opt/anaconda3/envs/ng/lib/python3.8/site-packages/geomstats/_backend/pytorch/__init__.py:308\u001b[0m, in \u001b[0;36meinsum\u001b[0;34m(equation, *inputs)\u001b[0m\n\u001b[1;32m    <a href='file:///Users/franciscoacosta/opt/anaconda3/envs/ng/lib/python3.8/site-packages/geomstats/_backend/pytorch/__init__.py?line=304'>305</a>\u001b[0m input_tensors_list \u001b[39m=\u001b[39m [arg \u001b[39mif\u001b[39;00m is_array(arg) \u001b[39melse\u001b[39;00m array(arg) \u001b[39mfor\u001b[39;00m arg \u001b[39min\u001b[39;00m inputs]\n\u001b[1;32m    <a href='file:///Users/franciscoacosta/opt/anaconda3/envs/ng/lib/python3.8/site-packages/geomstats/_backend/pytorch/__init__.py?line=305'>306</a>\u001b[0m input_tensors_list \u001b[39m=\u001b[39m convert_to_wider_dtype(input_tensors_list)\n\u001b[0;32m--> <a href='file:///Users/franciscoacosta/opt/anaconda3/envs/ng/lib/python3.8/site-packages/geomstats/_backend/pytorch/__init__.py?line=307'>308</a>\u001b[0m \u001b[39mreturn\u001b[39;00m _torch\u001b[39m.\u001b[39;49meinsum(equation, \u001b[39m*\u001b[39;49minput_tensors_list)\n",
      "File \u001b[0;32m~/opt/anaconda3/envs/ng/lib/python3.8/site-packages/torch/functional.py:360\u001b[0m, in \u001b[0;36meinsum\u001b[0;34m(*args)\u001b[0m\n\u001b[1;32m    <a href='file:///Users/franciscoacosta/opt/anaconda3/envs/ng/lib/python3.8/site-packages/torch/functional.py?line=355'>356</a>\u001b[0m     \u001b[39m# recurse incase operands contains value that has torch function\u001b[39;00m\n\u001b[1;32m    <a href='file:///Users/franciscoacosta/opt/anaconda3/envs/ng/lib/python3.8/site-packages/torch/functional.py?line=356'>357</a>\u001b[0m     \u001b[39m# in the original implementation this line is omitted\u001b[39;00m\n\u001b[1;32m    <a href='file:///Users/franciscoacosta/opt/anaconda3/envs/ng/lib/python3.8/site-packages/torch/functional.py?line=357'>358</a>\u001b[0m     \u001b[39mreturn\u001b[39;00m einsum(equation, \u001b[39m*\u001b[39m_operands)\n\u001b[0;32m--> <a href='file:///Users/franciscoacosta/opt/anaconda3/envs/ng/lib/python3.8/site-packages/torch/functional.py?line=359'>360</a>\u001b[0m \u001b[39mreturn\u001b[39;00m _VF\u001b[39m.\u001b[39;49meinsum(equation, operands)\n",
      "\u001b[0;31mRuntimeError\u001b[0m: einsum(): the number of subscripts in the equation (1) does not match the number of dimensions (2) for operand 1 and no ellipsis was given"
     ]
    }
   ],
   "source": [
    "from datasets.synthetic import get_s1_synthetic_immersion\n",
    "\n",
    "immersion = get_s1_synthetic_immersion(distortion_func=\"bump\",radius=1,n_wiggles=None,distortion_amp=0.2,embedding_dim=2,rot=torch.eye(2))\n",
    "\n",
    "metric = PullbackMetric(dim=1, embedding_dim=2, immersion=immersion)\n",
    "\n",
    "thetas = gs.linspace(0,2*gs.pi,100)\n",
    "\n",
    "metrics = [metric.metric_matrix(gs.array([theta])) for theta in thetas]\n",
    "\n",
    "plt.plot(thetas,metrics)"
   ]
  },
  {
   "cell_type": "code",
   "execution_count": null,
   "metadata": {},
   "outputs": [],
   "source": []
  }
 ],
 "metadata": {
  "interpreter": {
   "hash": "e26aa08b03816bccd8ffda99e3c08bc836ee5e15be100f93c2f64087c2307a11"
  },
  "kernelspec": {
   "display_name": "Python 3.9.12 ('abn1')",
   "language": "python",
   "name": "python3"
  },
  "language_info": {
   "codemirror_mode": {
    "name": "ipython",
    "version": 3
   },
   "file_extension": ".py",
   "mimetype": "text/x-python",
   "name": "python",
   "nbconvert_exporter": "python",
   "pygments_lexer": "ipython3",
   "version": "3.8.13"
  },
  "orig_nbformat": 4
 },
 "nbformat": 4,
 "nbformat_minor": 2
}
