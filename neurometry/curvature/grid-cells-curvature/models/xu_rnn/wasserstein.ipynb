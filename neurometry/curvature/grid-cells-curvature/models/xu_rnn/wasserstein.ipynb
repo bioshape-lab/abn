{
 "cells": [
  {
   "cell_type": "markdown",
   "metadata": {},
   "source": [
    "Imports"
   ]
  },
  {
   "cell_type": "code",
   "execution_count": 1,
   "metadata": {},
   "outputs": [
    {
     "name": "stderr",
     "output_type": "stream",
     "text": [
      "2024-08-06 13:54:56.862212: I tensorflow/core/platform/cpu_feature_guard.cc:210] This TensorFlow binary is optimized to use available CPU instructions in performance-critical operations.\n",
      "To enable the following instructions: AVX2 FMA, in other operations, rebuild TensorFlow with the appropriate compiler flags.\n",
      "2024-08-06 13:54:57.512388: W tensorflow/compiler/tf2tensorrt/utils/py_utils.cc:38] TF-TRT Warning: Could not find TensorRT\n"
     ]
    }
   ],
   "source": [
    "import os\n",
    "import pickle\n",
    "import yaml\n",
    "import numpy as np\n",
    "import matplotlib.pyplot as plt\n",
    "from neurometry.datasets.load_rnn_grid_cells import umap_dbscan"
   ]
  },
  {
   "cell_type": "markdown",
   "metadata": {},
   "source": [
    "Load pre-trained activations"
   ]
  },
  {
   "cell_type": "code",
   "execution_count": 2,
   "metadata": {},
   "outputs": [
    {
     "name": "stderr",
     "output_type": "stream",
     "text": [
      "/home/facosta/miniconda3/envs/neurometry/lib/python3.11/site-packages/umap/umap_.py:1945: UserWarning: n_jobs value 1 overridden to 1 by setting random_state. Use no seed for parallelism.\n",
      "  warn(f\"n_jobs value {self.n_jobs} overridden to 1 by setting random_state. Use no seed for parallelism.\")\n",
      "/home/facosta/miniconda3/envs/neurometry/lib/python3.11/site-packages/numba/np/ufunc/parallel.py:371: NumbaWarning: The TBB threading layer requires TBB version 2021 update 6 or later i.e., TBB_INTERFACE_VERSION >= 12060. Found TBB_INTERFACE_VERSION = 12050. The TBB threading layer is disabled.\n",
      "  warnings.warn(problem)\n"
     ]
    }
   ],
   "source": [
    "pretrained_run_id = \"20240418-180712\"\n",
    "pretrained_run_dir = os.path.join(\n",
    "    os.getcwd(),\n",
    "    f\"logs/rnn_isometry/{pretrained_run_id}\",\n",
    ")\n",
    "\n",
    "pretrained_activations_file = os.path.join(pretrained_run_dir, \"ckpt/activations/activations-step25000.pkl\")\n",
    "with open(pretrained_activations_file, \"rb\") as f:\n",
    "    pretrained_activations = pickle.load(f)\n",
    "\n",
    "pretrained_config_file = os.path.join(pretrained_run_dir, \"config.txt\")\n",
    "with open(pretrained_config_file) as f:\n",
    "    pretrained_config = yaml.safe_load(f)\n",
    "\n",
    "pretrained_clusters, umap_cluster_labels = umap_dbscan(\n",
    "    pretrained_activations[\"v\"], pretrained_run_dir, pretrained_config, sac_array=None, plot=False\n",
    ")\n",
    "\n",
    "neural_points_pretrained = {}\n",
    "rate_maps_pretrained = {}\n",
    "for id in np.unique(umap_cluster_labels):\n",
    "    rate_maps_pretrained[id] = pretrained_activations[\"v\"][umap_cluster_labels == id]\n",
    "    neural_points_pretrained[id] = rate_maps_pretrained[id].reshape(len(rate_maps_pretrained[id]), -1).T"
   ]
  },
  {
   "cell_type": "markdown",
   "metadata": {},
   "source": [
    "Helper functions"
   ]
  },
  {
   "cell_type": "code",
   "execution_count": 3,
   "metadata": {},
   "outputs": [],
   "source": [
    "def _get_expt_activations_per_cluster(run_name):\n",
    "    activations = _load_expt_rate_maps(run_name)[\"v\"]\n",
    "    neural_points_expt = {}\n",
    "    rate_maps_expt = {}\n",
    "    for id in np.unique(umap_cluster_labels):\n",
    "        rate_maps_expt[id] = activations[umap_cluster_labels == id]\n",
    "        neural_points_expt[id] = rate_maps_expt[id].reshape(len(rate_maps_expt[id]), -1).T\n",
    "    return neural_points_expt, rate_maps_expt\n",
    "\n",
    "\n",
    "def _load_expt_rate_maps(run_name):\n",
    "    activations_dir = os.getcwd()\n",
    "    activations_file = os.path.join(activations_dir, f\"{run_name}_activations.pkl\")\n",
    "    with open(activations_file, \"rb\") as f:\n",
    "        return pickle.load(f)\n",
    "\n",
    "def _load_expt_config(run_name):\n",
    "    configs_dir = os.getcwd()\n",
    "    config_file = os.path.join(configs_dir, f\"{run_name}.json\")\n",
    "\n",
    "    with open(config_file) as file:\n",
    "        return yaml.safe_load(file)"
   ]
  },
  {
   "cell_type": "markdown",
   "metadata": {},
   "source": [
    "Load post-saliency training rate maps (\"expt\")"
   ]
  },
  {
   "cell_type": "code",
   "execution_count": 4,
   "metadata": {},
   "outputs": [],
   "source": [
    "run_name = \"run_qosfkmq5_s_0=1_sigma_saliency=0.05_x_saliency=0.5\"\n",
    "posttrained_activation_file_path = os.path.join(os.getcwd(), f'results/activations/{run_name}_activations.pkl')\n",
    "\n",
    "with open(posttrained_activation_file_path, \"rb\") as f:\n",
    "    posttrained_activations = pickle.load(f)\n",
    "\n",
    "expt_config = _load_expt_config(run_name)\n",
    "neural_points_expt, rate_maps_expt = _get_expt_activations_per_cluster(run_name)"
   ]
  },
  {
   "cell_type": "markdown",
   "metadata": {},
   "source": [
    "The dictionary keys represent the modules:"
   ]
  },
  {
   "cell_type": "code",
   "execution_count": 5,
   "metadata": {},
   "outputs": [
    {
     "name": "stdout",
     "output_type": "stream",
     "text": [
      "dict_keys([-1, 0, 1, 2, 3, 4, 5, 6, 7, 8, 9])\n",
      "dict_keys([-1, 0, 1, 2, 3, 4, 5, 6, 7, 8, 9])\n"
     ]
    }
   ],
   "source": [
    "print(rate_maps_pretrained.keys())\n",
    "print(rate_maps_expt.keys())"
   ]
  },
  {
   "cell_type": "markdown",
   "metadata": {},
   "source": [
    "Module #8 has 13 neurons, and rate maps with resolution 40 x 40"
   ]
  },
  {
   "cell_type": "code",
   "execution_count": 6,
   "metadata": {},
   "outputs": [
    {
     "name": "stdout",
     "output_type": "stream",
     "text": [
      "(13, 40, 40)\n",
      "(13, 40, 40)\n"
     ]
    }
   ],
   "source": [
    "print(rate_maps_pretrained[8].shape)\n",
    "print(rate_maps_expt[8].shape)"
   ]
  },
  {
   "cell_type": "markdown",
   "metadata": {},
   "source": [
    "Visualize rate maps for module 8, neuron 10"
   ]
  },
  {
   "cell_type": "code",
   "execution_count": 11,
   "metadata": {},
   "outputs": [
    {
     "data": {
      "image/png": "[encoded data removed]",
      "text/plain": [
       "<Figure size 1000x500 with 2 Axes>"
      ]
     },
     "metadata": {},
     "output_type": "display_data"
    }
   ],
   "source": [
    "module_id = 8\n",
    "neuron_id = 10\n",
    "#visualize both rate maps for cluster 8\n",
    "plt.figure(figsize=(10,5))\n",
    "plt.subplot(1,2,1)\n",
    "plt.imshow(rate_maps_pretrained[module_id][neuron_id],cmap=\"jet\");\n",
    "plt.subplot(1,2,2)\n",
    "plt.imshow(rate_maps_expt[module_id][neuron_id],cmap=\"jet\");\n",
    "plt.show()"
   ]
  },
  {
   "cell_type": "code",
   "execution_count": null,
   "metadata": {},
   "outputs": [],
   "source": []
  }
 ],
 "metadata": {
  "kernelspec": {
   "display_name": "neurometry",
   "language": "python",
   "name": "python3"
  },
  "language_info": {
   "codemirror_mode": {
    "name": "ipython",
    "version": 3
   },
   "file_extension": ".py",
   "mimetype": "text/x-python",
   "name": "python",
   "nbconvert_exporter": "python",
   "pygments_lexer": "ipython3",
   "version": "3.11.3"
  }
 },
 "nbformat": 4,
 "nbformat_minor": 2
}
