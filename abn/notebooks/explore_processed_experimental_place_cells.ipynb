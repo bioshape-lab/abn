{
 "cells": [
  {
   "cell_type": "code",
   "execution_count": 6,
   "id": "9f90201b",
   "metadata": {},
   "outputs": [],
   "source": [
    "import os\n",
    "import sys\n",
    "import warnings\n",
    "\n",
    "sys.path.append(os.path.dirname(os.getcwd()))\n",
    "warnings.filterwarnings(\"ignore\")"
   ]
  },
  {
   "cell_type": "code",
   "execution_count": 16,
   "id": "f6e1b382",
   "metadata": {},
   "outputs": [
    {
     "name": "stdout",
     "output_type": "stream",
     "text": [
      "Loading experiment 7_hd...\n",
      "(2359, 31)\n"
     ]
    }
   ],
   "source": [
    "import numpy as np\n",
    "\n",
    "expt_id = \"7_hd\"\n",
    "timestep_ns = 1000000\n",
    "\n",
    "data_path = f\"../data/place_cells_expt{expt_id}_timestep{timestep_ns}.npy\"\n",
    "times_path\n",
    "labels_path = f\"data/place_cells_labels_expt{expt_id}_timestep{timestep_ns}.txt\"\n",
    "\n",
    "#/Volumes/GoogleDrive/My Drive/code/abn/abn/data/place_cells_expt7_hd_timestep1000000.npy\n",
    "print(f\"Loading experiment {expt_id}...\")\n",
    "expt = np.load(data_path)\n",
    "\n",
    "print(expt.shape)"
   ]
  },
  {
   "cell_type": "code",
   "execution_count": 14,
   "id": "1dc866a8",
   "metadata": {},
   "outputs": [
    {
     "data": {
      "text/plain": [
       "'/Volumes/GoogleDrive/My Drive/code/abn/abn/notebooks'"
      ]
     },
     "execution_count": 14,
     "metadata": {},
     "output_type": "execute_result"
    }
   ],
   "source": [
    "os.getcwd()"
   ]
  },
  {
   "cell_type": "code",
   "execution_count": 30,
   "id": "8545fe11",
   "metadata": {},
   "outputs": [
    {
     "name": "stdout",
     "output_type": "stream",
     "text": [
      "Min Max 771 03: -1.537382258515833e+15, -1.537382258515829e+15\n",
      "Min Max 771 04: -1.537382495027162e+15, -1.537382495027159e+15\n",
      "Min Max 771 05: -1.537382197898348e+15, -1.537382197898344e+15\n",
      "Min Max 771 06: -1.537382022282778e+15, -1.537382022282774e+15\n",
      "Min Max 771 07: -1.537382276793936e+15, -1.537382276793932e+15\n",
      "Min Max 771 09: -1.537382366489580e+15, -1.537382366489576e+15\n",
      "Min Max 771 11: -1.539183367017422e+15, -1.539183367017419e+15\n",
      "Min Max 771 12: -1.539701357055006e+15, -1.539701357055003e+15\n"
     ]
    }
   ],
   "source": [
    "import datasets\n",
    "\n",
    "for day in [\"03\", \"04\", \"05\", \"06\", \"07\", \"09\", \"11\", \"12\"]:\n",
    "    tr = datasets.loadmat(f\"../data/771-{day}_trackingResults.mat\")\n",
    "    tmin = np.min(tr[\"tracked_results\"][\"t\"])\n",
    "    tmax = np.max(tr[\"tracked_results\"][\"t\"])\n",
    "    print(f\"Min Max 771 {day}: {tmin:.15e}, {tmax:.15e}\")\n"
   ]
  },
  {
   "cell_type": "code",
   "execution_count": 32,
   "id": "2382acc5",
   "metadata": {},
   "outputs": [
    {
     "name": "stdout",
     "output_type": "stream",
     "text": [
      "Min Max 791 05: -1.565125243594622e+15, -1.565125243594618e+15\n",
      "Min Max 791 06: -1.565274654562064e+15, -1.565274654562062e+15\n",
      "Min Max 791 07: -1.565275370805724e+15, -1.565275370805723e+15\n",
      "Min Max 791 09: -1.565275153198318e+15, -1.565275153198316e+15\n",
      "Min Max 791 11: -1.565791163554915e+15, -1.565791163554913e+15\n",
      "Min Max 791 12: -1.565791115446251e+15, -1.565791115446249e+15\n"
     ]
    }
   ],
   "source": [
    "for day in [\"05\", \"06\", \"07\", \"09\", \"11\", \"12\"]:\n",
    "    tr = datasets.loadmat(f\"../data/791-{day}_trackingResults.mat\")\n",
    "    tmin = np.min(tr[\"tracked_results\"][\"t\"])\n",
    "    tmax = np.max(tr[\"tracked_results\"][\"t\"])\n",
    "    print(f\"Min Max 791 {day}: {tmin:.15e}, {tmax:.15e}\")"
   ]
  },
  {
   "cell_type": "code",
   "execution_count": null,
   "id": "aaeb3a58",
   "metadata": {},
   "outputs": [],
   "source": []
  }
 ],
 "metadata": {
  "kernelspec": {
   "display_name": "Python 3 (ipykernel)",
   "language": "python",
   "name": "python3"
  },
  "language_info": {
   "codemirror_mode": {
    "name": "ipython",
    "version": 3
   },
   "file_extension": ".py",
   "mimetype": "text/x-python",
   "name": "python",
   "nbconvert_exporter": "python",
   "pygments_lexer": "ipython3",
   "version": "3.9.12"
  }
 },
 "nbformat": 4,
 "nbformat_minor": 5
}
