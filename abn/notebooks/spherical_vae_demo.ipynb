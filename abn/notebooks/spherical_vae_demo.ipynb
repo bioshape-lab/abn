{
 "cells": [
  {
   "cell_type": "code",
   "execution_count": 2,
   "metadata": {},
   "outputs": [],
   "source": [
    "%load_ext autoreload\n",
    "%autoreload 2\n",
    "\n",
    "import sys\n",
    "sys.path.append(\"../../\")\n",
    "\n",
    "import matplotlib.pyplot as plt\n",
    "import seaborn as sns\n",
    "sns.set_style(\"darkgrid\")\n",
    "%matplotlib inline"
   ]
  },
  {
   "cell_type": "code",
   "execution_count": 3,
   "metadata": {},
   "outputs": [
    {
     "name": "stderr",
     "output_type": "stream",
     "text": [
      "/Users/franciscoacosta/opt/anaconda3/envs/abn1/lib/python3.9/site-packages/tqdm/auto.py:22: TqdmWarning: IProgress not found. Please update jupyter and ipywidgets. See https://ipywidgets.readthedocs.io/en/stable/user_install.html\n",
      "  from .autonotebook import tqdm as notebook_tqdm\n",
      "INFO: Using pytorch backend\n"
     ]
    }
   ],
   "source": [
    "import numpy as np\n",
    "import torch\n",
    "import torch.optim as optim\n",
    "import pandas as pd\n",
    "from abn.models.spherical_vae import SphericalVAE\n",
    "from abn.trainer.svae_trainer import SphericalVAETrainer\n",
    "from abn.datasets.cyclic_walk import CyclicWalk\n",
    "from abn.new_vae.datasets.wiggles import Wiggles\n",
    "from abn.datasets.data_loader import TrainValLoader"
   ]
  },
  {
   "cell_type": "markdown",
   "metadata": {},
   "source": [
    "# Hyperspherical VAE"
   ]
  },
  {
   "cell_type": "markdown",
   "metadata": {},
   "source": [
    "## Load Dataset"
   ]
  },
  {
   "cell_type": "code",
   "execution_count": 19,
   "metadata": {},
   "outputs": [
    {
     "name": "stderr",
     "output_type": "stream",
     "text": [
      "40it [00:41,  1.03s/it]\n",
      "/Users/sophia/projects/abn/abn/notebooks/../../abn/datasets/cyclic_walk.py:75: UserWarning: To copy construct from a tensor, it is recommended to use sourceTensor.clone().detach() or sourceTensor.clone().detach().requires_grad_(True), rather than torch.tensor(sourceTensor).\n",
      "  self.labels = torch.tensor(angles, dtype=torch.float32)\n"
     ]
    },
    {
     "data": {
      "image/png": "[encoded data removed]",
      "text/plain": [
       "<Figure size 432x288 with 1 Axes>"
      ]
     },
     "metadata": {
      "needs_background": "light"
     },
     "output_type": "display_data"
    }
   ],
   "source": [
    "path = \"../data/expt34.mat\" # CHANGE TO YOUR DATA LOCATION IF NEEDED\n",
    "time_bin = 1000000\n",
    "dataset = CyclicWalk(path=path, time_bin=time_bin, velocity_threshold=0.3)"
   ]
  },
  {
   "cell_type": "code",
   "execution_count": 10,
   "metadata": {},
   "outputs": [],
   "source": [
    "# torch.save(dataset, \"../data/expt34_processed.pt\")"
   ]
  },
  {
   "cell_type": "code",
   "execution_count": 23,
   "metadata": {},
   "outputs": [],
   "source": [
    "dataset = torch.load(\"../data/expt34_processed.pt\")"
   ]
  },
  {
   "cell_type": "code",
   "execution_count": 4,
   "id": "d9d22347",
   "metadata": {},
   "outputs": [],
   "source": [
    "dataset = Wiggles(n_times=1000,n_wiggles=5, synth_radius=1,amp_wiggles=0.3,embedding_dim=2,rotation=True,noise_var=0.001)"
   ]
  },
  {
   "cell_type": "markdown",
   "metadata": {},
   "source": [
    "## Normalize the Data\n",
    "\n",
    "Note: Different normalization schemes have a *HUGE* impact on the training procedure.\n",
    "Options that should be explored include:\n",
    "- Z-scoring each neuron's response across the entire dataset\n",
    "- Setting min of the entire dataset to 0 and max to 1\n",
    "- Setting the norm of each neural state vector to 1\n",
    "\n",
    "They are each implemented below. Uncomment options to try them out"
   ]
  },
  {
   "cell_type": "code",
   "execution_count": 66,
   "metadata": {},
   "outputs": [
    {
     "data": {
      "text/plain": [
       "'\\nZ-Scoring\\n'"
      ]
     },
     "execution_count": 66,
     "metadata": {},
     "output_type": "execute_result"
    }
   ],
   "source": [
    "\"\"\"\n",
    "Z-Scoring\n",
    "\"\"\"\n",
    "# dataset.data = dataset.data - dataset.data.mean(axis=-1, keepdim=True)\n",
    "# dataset.data = dataset.data / dataset.data.std(axis=-1, keepdim=True)\n",
    "# print(dataset.data.std(axis=-1))"
   ]
  },
  {
   "cell_type": "code",
   "execution_count": 5,
   "metadata": {},
   "outputs": [],
   "source": [
    "\"\"\"\n",
    "Min 0 Max 1\n",
    "\"\"\"\n",
    "dataset.data = dataset.data - dataset.data.min()\n",
    "dataset.data = dataset.data / dataset.data.max()"
   ]
  },
  {
   "cell_type": "code",
   "execution_count": 21,
   "metadata": {},
   "outputs": [
    {
     "data": {
      "text/plain": [
       "'\\nUnit Norm\\n'"
      ]
     },
     "execution_count": 21,
     "metadata": {},
     "output_type": "execute_result"
    }
   ],
   "source": [
    "\"\"\"\n",
    "Unit Norm\n",
    "\"\"\"\n",
    "# dataset.data = dataset.data / torch.linalg.norm(dataset.data, dim=-1, keepdim=True)\n",
    "# print(torch.linalg.norm(dataset.data, dim=-1))"
   ]
  },
  {
   "cell_type": "markdown",
   "metadata": {},
   "source": [
    "## Train Val Split and Generate Batches"
   ]
  },
  {
   "cell_type": "code",
   "execution_count": 6,
   "metadata": {},
   "outputs": [],
   "source": [
    "data_loader = TrainValLoader(batch_size=20)\n",
    "data_loader.load(dataset)"
   ]
  },
  {
   "cell_type": "code",
   "execution_count": 7,
   "id": "f2785bfc",
   "metadata": {},
   "outputs": [
    {
     "data": {
      "text/plain": [
       "<matplotlib.collections.PathCollection at 0x7fa1de7b37f0>"
      ]
     },
     "execution_count": 7,
     "metadata": {},
     "output_type": "execute_result"
    },
    {
     "data": {
      "image/png": "[encoded data removed]",
      "text/plain": [
       "<Figure size 432x288 with 1 Axes>"
      ]
     },
     "metadata": {
      "needs_background": "light"
     },
     "output_type": "display_data"
    }
   ],
   "source": [
    "x=dataset.data[:,0]\n",
    "y = dataset.data[:,1]\n",
    "plt.scatter(x,y)"
   ]
  },
  {
   "cell_type": "markdown",
   "metadata": {},
   "source": [
    "## Construct Model"
   ]
  },
  {
   "cell_type": "code",
   "execution_count": 8,
   "metadata": {},
   "outputs": [],
   "source": [
    "model = SphericalVAE(input_dim=2,\n",
    "                     encoder_dims=[40,40,40,40,40],\n",
    "                     latent_dim=2,\n",
    "                     distribution=\"vmf\")\n",
    "\n",
    "optimizer = optim.Adam(model.parameters(), lr=0.001)\n",
    "\n",
    "trainer = SphericalVAETrainer(model=model, optimizer=optimizer)"
   ]
  },
  {
   "cell_type": "markdown",
   "metadata": {},
   "source": [
    "## Train Model"
   ]
  },
  {
   "cell_type": "code",
   "execution_count": 9,
   "metadata": {},
   "outputs": [
    {
     "name": "stderr",
     "output_type": "stream",
     "text": [
      "/Users/franciscoacosta/opt/anaconda3/envs/abn1/lib/python3.9/site-packages/torch/distributions/distribution.py:44: UserWarning: <class 'hyperspherical_vae.distributions.hyperspherical_uniform.HypersphericalUniform'> does not define `arg_constraints`. Please set `arg_constraints = {}` or initialize the distribution with `validate_args=False` to turn off validation.\n",
      "  warnings.warn(f'{self.__class__} does not define `arg_constraints`. ' +\n"
     ]
    },
    {
     "name": "stdout",
     "output_type": "stream",
     "text": [
      "Epoch 0 ||  N Examples 0 || Train Total Loss 1.42181 || Validation Total Loss 1.38111\n",
      "Epoch 1 ||  N Examples 800 || Train Total Loss 1.37088 || Validation Total Loss 1.35002\n",
      "Epoch 2 ||  N Examples 1600 || Train Total Loss 1.37372 || Validation Total Loss 1.37936\n",
      "Epoch 3 ||  N Examples 2400 || Train Total Loss 1.36623 || Validation Total Loss 1.37708\n",
      "Epoch 4 ||  N Examples 3200 || Train Total Loss 1.36508 || Validation Total Loss 1.36016\n",
      "Epoch 5 ||  N Examples 4000 || Train Total Loss 1.36899 || Validation Total Loss 1.34573\n",
      "Epoch 6 ||  N Examples 4800 || Train Total Loss 1.35985 || Validation Total Loss 1.36189\n",
      "Epoch 7 ||  N Examples 5600 || Train Total Loss 1.35405 || Validation Total Loss 1.36170\n",
      "Epoch 8 ||  N Examples 6400 || Train Total Loss 1.35253 || Validation Total Loss 1.33177\n",
      "Epoch 9 ||  N Examples 7200 || Train Total Loss 1.34408 || Validation Total Loss 1.34604\n",
      "Epoch 10 ||  N Examples 8000 || Train Total Loss 1.35204 || Validation Total Loss 1.33518\n",
      "Epoch 11 ||  N Examples 8800 || Train Total Loss 1.33895 || Validation Total Loss 1.31688\n",
      "Epoch 12 ||  N Examples 9600 || Train Total Loss 1.33618 || Validation Total Loss 1.33495\n",
      "Epoch 13 ||  N Examples 10400 || Train Total Loss 1.33867 || Validation Total Loss 1.33338\n",
      "Epoch 14 ||  N Examples 11200 || Train Total Loss 1.40704 || Validation Total Loss 1.39414\n",
      "Epoch 15 ||  N Examples 12000 || Train Total Loss 1.37530 || Validation Total Loss 1.37233\n",
      "Epoch 16 ||  N Examples 12800 || Train Total Loss 1.35737 || Validation Total Loss 1.36765\n",
      "Epoch 17 ||  N Examples 13600 || Train Total Loss 1.36686 || Validation Total Loss 1.37015\n",
      "Epoch 18 ||  N Examples 14400 || Train Total Loss 1.36425 || Validation Total Loss 1.36521\n",
      "Epoch 19 ||  N Examples 15200 || Train Total Loss 1.37679 || Validation Total Loss 1.36800\n",
      "Epoch 20 ||  N Examples 16000 || Train Total Loss 1.36239 || Validation Total Loss 1.37039\n",
      "Epoch 21 ||  N Examples 16800 || Train Total Loss 1.37058 || Validation Total Loss 1.36486\n",
      "Epoch 22 ||  N Examples 17600 || Train Total Loss 1.36376 || Validation Total Loss 1.36550\n",
      "Epoch 23 ||  N Examples 18400 || Train Total Loss 1.35830 || Validation Total Loss 1.36479\n",
      "Epoch 24 ||  N Examples 19200 || Train Total Loss 1.35758 || Validation Total Loss 1.36128\n",
      "Epoch 25 ||  N Examples 20000 || Train Total Loss 1.35439 || Validation Total Loss 1.35876\n",
      "Epoch 26 ||  N Examples 20800 || Train Total Loss 1.35340 || Validation Total Loss 1.34406\n",
      "Epoch 27 ||  N Examples 21600 || Train Total Loss 1.34491 || Validation Total Loss 1.36205\n",
      "Epoch 28 ||  N Examples 22400 || Train Total Loss 1.35261 || Validation Total Loss 1.33528\n",
      "Epoch 29 ||  N Examples 23200 || Train Total Loss 1.34197 || Validation Total Loss 1.34561\n",
      "Epoch 30 ||  N Examples 24000 || Train Total Loss 1.35297 || Validation Total Loss 1.34809\n",
      "Epoch 31 ||  N Examples 24800 || Train Total Loss 1.34710 || Validation Total Loss 1.34888\n",
      "Epoch 32 ||  N Examples 25600 || Train Total Loss 1.33955 || Validation Total Loss 1.33062\n",
      "Epoch 33 ||  N Examples 26400 || Train Total Loss 1.34759 || Validation Total Loss 1.35369\n",
      "Epoch 34 ||  N Examples 27200 || Train Total Loss 1.34093 || Validation Total Loss 1.35921\n",
      "Epoch 35 ||  N Examples 28000 || Train Total Loss 1.34454 || Validation Total Loss 1.32488\n",
      "Epoch 36 ||  N Examples 28800 || Train Total Loss 1.33420 || Validation Total Loss 1.33366\n",
      "Epoch 37 ||  N Examples 29600 || Train Total Loss 1.33151 || Validation Total Loss 1.33879\n",
      "Epoch 38 ||  N Examples 30400 || Train Total Loss 1.33098 || Validation Total Loss 1.32891\n",
      "Epoch 39 ||  N Examples 31200 || Train Total Loss 1.33382 || Validation Total Loss 1.33246\n",
      "Epoch 40 ||  N Examples 32000 || Train Total Loss 1.33218 || Validation Total Loss 1.34252\n",
      "Epoch 41 ||  N Examples 32800 || Train Total Loss 1.32896 || Validation Total Loss 1.34772\n",
      "Epoch 42 ||  N Examples 33600 || Train Total Loss 1.33085 || Validation Total Loss 1.32633\n",
      "Epoch 43 ||  N Examples 34400 || Train Total Loss 1.37321 || Validation Total Loss 1.36455\n",
      "Epoch 44 ||  N Examples 35200 || Train Total Loss 1.37220 || Validation Total Loss 1.35438\n",
      "Epoch 45 ||  N Examples 36000 || Train Total Loss 1.35114 || Validation Total Loss 1.37032\n",
      "Epoch 46 ||  N Examples 36800 || Train Total Loss 1.35178 || Validation Total Loss 1.36318\n",
      "Stopping and saving run at epoch 47\n"
     ]
    }
   ],
   "source": [
    "trainer.train(data_loader, 100)"
   ]
  },
  {
   "cell_type": "markdown",
   "metadata": {},
   "source": [
    "## Visualize Latent Space"
   ]
  },
  {
   "cell_type": "code",
   "execution_count": 71,
   "metadata": {},
   "outputs": [
    {
     "name": "stderr",
     "output_type": "stream",
     "text": [
      "/Users/franciscoacosta/opt/anaconda3/envs/abn1/lib/python3.9/site-packages/torch/distributions/distribution.py:44: UserWarning: <class 'hyperspherical_vae.distributions.hyperspherical_uniform.HypersphericalUniform'> does not define `arg_constraints`. Please set `arg_constraints = {}` or initialize the distribution with `validate_args=False` to turn off validation.\n",
      "  warnings.warn(f'{self.__class__} does not define `arg_constraints`. ' +\n"
     ]
    }
   ],
   "source": [
    "with torch.no_grad():\n",
    "    (z_mean, z_var), (q_z, p_z), z = model.to_latent(dataset.data)"
   ]
  },
  {
   "cell_type": "code",
   "execution_count": 66,
   "metadata": {},
   "outputs": [],
   "source": [
    "df = pd.DataFrame({\"z0\": z[:, 0], \n",
    "                    \"z1\": z[:, 1], \n",
    "                    \"pos\": dataset.labels % (2 * np.pi)})\n",
    "#                     \"pos\": (dataset.pos + dataset.angle) % (2 * np.pi)})"
   ]
  },
  {
   "cell_type": "code",
   "execution_count": 67,
   "metadata": {},
   "outputs": [
    {
     "data": {
      "text/plain": [
       "<AxesSubplot:xlabel='z0', ylabel='z1'>"
      ]
     },
     "execution_count": 67,
     "metadata": {},
     "output_type": "execute_result"
    },
    {
     "data": {
      "image/png": "[encoded data removed]",
      "text/plain": [
       "<Figure size 720x720 with 1 Axes>"
      ]
     },
     "metadata": {
      "needs_background": "light"
     },
     "output_type": "display_data"
    }
   ],
   "source": [
    "plt.figure(figsize=(10, 10))\n",
    "sns.scatterplot(x=\"z0\", y=\"z1\", hue=\"pos\", data=df, palette=\"rainbow\")"
   ]
  },
  {
   "cell_type": "code",
   "execution_count": 52,
   "metadata": {},
   "outputs": [],
   "source": [
    "def get_immersion(model):\n",
    "\n",
    "    def immersion(angle):\n",
    "        z = torch.tensor([torch.cos(angle), torch.sin(angle)], requires_grad=True)\n",
    "        x_rec = model.decode(z)\n",
    "        return x_rec\n",
    "\n",
    "    return immersion"
   ]
  },
  {
   "cell_type": "code",
   "execution_count": 31,
   "id": "cc91053a",
   "metadata": {},
   "outputs": [],
   "source": [
    "def plot_model(thetas, model):\n",
    "    immersion = get_immersion(model)\n",
    "    rec = [immersion(theta) for theta in thetas]\n",
    "    x = [vec[0].detach().numpy() for vec in rec]\n",
    "    y = [vec[1].detach().numpy() for vec in rec]\n",
    "    plt.scatter(x,y,c=thetas)"
   ]
  },
  {
   "cell_type": "code",
   "execution_count": 32,
   "id": "485fe563",
   "metadata": {},
   "outputs": [],
   "source": [
    "angles = torch.linspace(0,2*torch.pi,1000)"
   ]
  },
  {
   "cell_type": "code",
   "execution_count": 33,
   "id": "0561a8a2",
   "metadata": {},
   "outputs": [
    {
     "data": {
      "image/png": "[encoded data removed]",
      "text/plain": [
       "<Figure size 432x288 with 1 Axes>"
      ]
     },
     "metadata": {
      "needs_background": "light"
     },
     "output_type": "display_data"
    }
   ],
   "source": [
    "plot_model(angles, model)"
   ]
  },
  {
   "cell_type": "code",
   "execution_count": 76,
   "id": "c95f88c1",
   "metadata": {},
   "outputs": [
    {
     "data": {
      "text/plain": [
       "tensor(0.9802)"
      ]
     },
     "execution_count": 76,
     "metadata": {},
     "output_type": "execute_result"
    }
   ],
   "source": [
    "z[0][0]"
   ]
  },
  {
   "cell_type": "code",
   "execution_count": 74,
   "id": "8c539cc9",
   "metadata": {},
   "outputs": [
    {
     "data": {
      "text/plain": [
       "torch.Size([1000, 2])"
      ]
     },
     "execution_count": 74,
     "metadata": {},
     "output_type": "execute_result"
    }
   ],
   "source": [
    "theta = torch.tensor(torch.pi/3, requires_grad=True)\n",
    "\n",
    "def func(x):\n",
    "    return imm(x)[0]\n",
    "\n",
    "z = torch.tensor([torch.cos(theta), torch.sin(theta)])  \n",
    "\n",
    "z = q_z.rsample()\n",
    "\n",
    "\n",
    "def func(z):\n",
    "    return model.decode(z[0])[0]\n",
    "\n",
    "g = torch.autograd.grad(model.decode(z)[0], inputs=z[0])\n",
    "print(g)\n",
    "\n",
    "H = torch.autograd.functional.hessian(func, inputs=theta, strict=True)"
   ]
  },
  {
   "cell_type": "code",
   "execution_count": 94,
   "id": "b48c8cae",
   "metadata": {},
   "outputs": [
    {
     "ename": "RuntimeError",
     "evalue": "One of the differentiated Tensors does not require grad",
     "output_type": "error",
     "traceback": [
      "\u001b[0;31m---------------------------------------------------------------------------\u001b[0m",
      "\u001b[0;31mRuntimeError\u001b[0m                              Traceback (most recent call last)",
      "\u001b[0;32m/var/folders/7d/zvclhdrs7n711xctz2b91wd80000gn/T/ipykernel_52286/3950040117.py\u001b[0m in \u001b[0;36m<cell line: 7>\u001b[0;34m()\u001b[0m\n\u001b[1;32m      5\u001b[0m \u001b[0mfunc\u001b[0m\u001b[0;34m(\u001b[0m\u001b[0mz0\u001b[0m\u001b[0;34m)\u001b[0m\u001b[0;34m\u001b[0m\u001b[0;34m\u001b[0m\u001b[0m\n\u001b[1;32m      6\u001b[0m \u001b[0mH\u001b[0m \u001b[0;34m=\u001b[0m \u001b[0mtorch\u001b[0m\u001b[0;34m.\u001b[0m\u001b[0mautograd\u001b[0m\u001b[0;34m.\u001b[0m\u001b[0mfunctional\u001b[0m\u001b[0;34m.\u001b[0m\u001b[0mjacobian\u001b[0m\u001b[0;34m(\u001b[0m\u001b[0mfunc\u001b[0m\u001b[0;34m,\u001b[0m \u001b[0minputs\u001b[0m\u001b[0;34m=\u001b[0m\u001b[0mz0\u001b[0m\u001b[0;34m,\u001b[0m \u001b[0mstrict\u001b[0m\u001b[0;34m=\u001b[0m\u001b[0;32mTrue\u001b[0m\u001b[0;34m)\u001b[0m\u001b[0;34m\u001b[0m\u001b[0;34m\u001b[0m\u001b[0m\n\u001b[0;32m----> 7\u001b[0;31m \u001b[0mg\u001b[0m \u001b[0;34m=\u001b[0m \u001b[0mtorch\u001b[0m\u001b[0;34m.\u001b[0m\u001b[0mautograd\u001b[0m\u001b[0;34m.\u001b[0m\u001b[0mgrad\u001b[0m\u001b[0;34m(\u001b[0m\u001b[0mfunc\u001b[0m\u001b[0;34m(\u001b[0m\u001b[0mz0\u001b[0m\u001b[0;34m)\u001b[0m\u001b[0;34m,\u001b[0m \u001b[0mz0\u001b[0m\u001b[0;34m)\u001b[0m\u001b[0;34m\u001b[0m\u001b[0;34m\u001b[0m\u001b[0m\n\u001b[0m",
      "\u001b[0;32m~/opt/anaconda3/envs/abn1/lib/python3.9/site-packages/torch/autograd/__init__.py\u001b[0m in \u001b[0;36mgrad\u001b[0;34m(outputs, inputs, grad_outputs, retain_graph, create_graph, only_inputs, allow_unused, is_grads_batched)\u001b[0m\n\u001b[1;32m    274\u001b[0m         \u001b[0;32mreturn\u001b[0m \u001b[0m_vmap_internals\u001b[0m\u001b[0;34m.\u001b[0m\u001b[0m_vmap\u001b[0m\u001b[0;34m(\u001b[0m\u001b[0mvjp\u001b[0m\u001b[0;34m,\u001b[0m \u001b[0;36m0\u001b[0m\u001b[0;34m,\u001b[0m \u001b[0;36m0\u001b[0m\u001b[0;34m,\u001b[0m \u001b[0mallow_none_pass_through\u001b[0m\u001b[0;34m=\u001b[0m\u001b[0;32mTrue\u001b[0m\u001b[0;34m)\u001b[0m\u001b[0;34m(\u001b[0m\u001b[0mgrad_outputs_\u001b[0m\u001b[0;34m)\u001b[0m\u001b[0;34m\u001b[0m\u001b[0;34m\u001b[0m\u001b[0m\n\u001b[1;32m    275\u001b[0m     \u001b[0;32melse\u001b[0m\u001b[0;34m:\u001b[0m\u001b[0;34m\u001b[0m\u001b[0;34m\u001b[0m\u001b[0m\n\u001b[0;32m--> 276\u001b[0;31m         return Variable._execution_engine.run_backward(  # Calls into the C++ engine to run the backward pass\n\u001b[0m\u001b[1;32m    277\u001b[0m             \u001b[0mt_outputs\u001b[0m\u001b[0;34m,\u001b[0m \u001b[0mgrad_outputs_\u001b[0m\u001b[0;34m,\u001b[0m \u001b[0mretain_graph\u001b[0m\u001b[0;34m,\u001b[0m \u001b[0mcreate_graph\u001b[0m\u001b[0;34m,\u001b[0m \u001b[0mt_inputs\u001b[0m\u001b[0;34m,\u001b[0m\u001b[0;34m\u001b[0m\u001b[0;34m\u001b[0m\u001b[0m\n\u001b[1;32m    278\u001b[0m             allow_unused, accumulate_grad=False)  # Calls into the C++ engine to run the backward pass\n",
      "\u001b[0;31mRuntimeError\u001b[0m: One of the differentiated Tensors does not require grad"
     ]
    }
   ],
   "source": [
    "def func(z):\n",
    "    return model.decode(z)[0]\n",
    "\n",
    "z0 = z[40]\n",
    "func(z0)\n",
    "H = torch.autograd.functional.jacobian(func, inputs=z0, strict=True)\n",
    "g = torch.autograd.grad(func(z0), z0)"
   ]
  },
  {
   "cell_type": "code",
   "execution_count": 101,
   "id": "47de548c",
   "metadata": {},
   "outputs": [],
   "source": [
    "J = torch.autograd.functional.jacobian(model.decode, inputs = z0, strict=True)"
   ]
  },
  {
   "cell_type": "code",
   "execution_count": 103,
   "id": "4b51b28b",
   "metadata": {},
   "outputs": [],
   "source": [
    "def func(z):\n",
    "\n",
    "    return model.decode(z)[0]"
   ]
  },
  {
   "cell_type": "code",
   "execution_count": 107,
   "id": "da55ee43",
   "metadata": {},
   "outputs": [
    {
     "data": {
      "text/plain": [
       "False"
      ]
     },
     "execution_count": 107,
     "metadata": {},
     "output_type": "execute_result"
    }
   ],
   "source": []
  },
  {
   "cell_type": "code",
   "execution_count": 34,
   "id": "e7ef38c3",
   "metadata": {},
   "outputs": [
    {
     "data": {
      "text/plain": [
       "tensor([[-1.7735e-02, -1.1684e-02, -5.9883e-03,  0.0000e+00,  0.0000e+00,\n",
       "         -1.0751e-02,  0.0000e+00,  0.0000e+00, -1.0058e-02,  0.0000e+00,\n",
       "         -3.5588e-02, -1.8118e-02, -2.9693e-03, -2.0818e-02, -6.1335e-04,\n",
       "          0.0000e+00,  2.9269e-04, -5.5316e-03, -1.4035e-02, -1.7198e-02,\n",
       "         -2.1172e-03, -1.9190e-02, -5.8859e-03, -2.1042e-03, -5.1348e-04,\n",
       "         -1.3232e-02, -5.6513e-03, -1.7613e-02,  2.6353e-04, -1.7920e-03,\n",
       "         -4.5642e-06, -1.0914e-02, -1.5709e-02, -5.0534e-04,  0.0000e+00,\n",
       "          0.0000e+00, -1.2113e-02, -9.9021e-06,  1.3610e-04,  0.0000e+00],\n",
       "        [-2.3334e-03, -5.4143e-03,  2.1532e-05,  0.0000e+00,  0.0000e+00,\n",
       "          1.5034e-03,  0.0000e+00,  0.0000e+00,  3.7330e-03,  0.0000e+00,\n",
       "         -2.4006e-02, -3.4166e-03, -1.2741e-04,  1.4079e-03, -3.3328e-04,\n",
       "          0.0000e+00, -1.5237e-03, -4.6258e-03, -1.4839e-03, -2.0531e-02,\n",
       "          8.6496e-04,  7.7104e-03, -6.2519e-04, -6.0995e-05, -1.3899e-03,\n",
       "          2.7487e-03,  1.6146e-03,  7.6072e-04, -1.2899e-03,  7.4419e-04,\n",
       "          4.4723e-05, -2.1795e-03, -9.4815e-03,  1.8906e-04,  0.0000e+00,\n",
       "          0.0000e+00,  2.6315e-03, -1.8833e-03, -6.4748e-04,  0.0000e+00]])"
      ]
     },
     "execution_count": 34,
     "metadata": {},
     "output_type": "execute_result"
    }
   ],
   "source": [
    "model.mu.weight.grad"
   ]
  },
  {
   "cell_type": "code",
   "execution_count": 35,
   "id": "a011b98a",
   "metadata": {},
   "outputs": [],
   "source": [
    "def mean_curv(base_point, immersion, embedding_dim):\n",
    "    H = torch.zeros(embedding_dim)\n",
    "    for i in range(embedding_dim):\n",
    "        H[i] = torch.autograd.functional.hessian(\n",
    "            func=lambda x: immersion(x)[i], inputs=base_point\n",
    "        )\n",
    "    return H"
   ]
  },
  {
   "cell_type": "code",
   "execution_count": 45,
   "id": "6f8904b3",
   "metadata": {},
   "outputs": [
    {
     "data": {
      "text/plain": [
       "tensor(0.4116, grad_fn=<SelectBackward0>)"
      ]
     },
     "execution_count": 45,
     "metadata": {},
     "output_type": "execute_result"
    }
   ],
   "source": [
    "imm(theta)[0]"
   ]
  },
  {
   "cell_type": "code",
   "execution_count": 54,
   "id": "25f8a295",
   "metadata": {},
   "outputs": [],
   "source": [
    "imm = get_immersion(model)"
   ]
  },
  {
   "cell_type": "code",
   "execution_count": 37,
   "id": "2c4d71cc",
   "metadata": {},
   "outputs": [
    {
     "data": {
      "text/plain": [
       "tensor(0.4116)"
      ]
     },
     "execution_count": 37,
     "metadata": {},
     "output_type": "execute_result"
    }
   ],
   "source": [
    "imm(theta)[0]\n",
    "func(theta)"
   ]
  },
  {
   "cell_type": "code",
   "execution_count": 64,
   "id": "84a8dd45",
   "metadata": {},
   "outputs": [
    {
     "ename": "RuntimeError",
     "evalue": "grad can be implicitly created only for scalar outputs",
     "output_type": "error",
     "traceback": [
      "\u001b[0;31m---------------------------------------------------------------------------\u001b[0m",
      "\u001b[0;31mRuntimeError\u001b[0m                              Traceback (most recent call last)",
      "\u001b[0;32m/var/folders/7d/zvclhdrs7n711xctz2b91wd80000gn/T/ipykernel_52286/539517195.py\u001b[0m in \u001b[0;36m<cell line: 10>\u001b[0;34m()\u001b[0m\n\u001b[1;32m      8\u001b[0m \u001b[0mz\u001b[0m \u001b[0;34m=\u001b[0m \u001b[0mq_z\u001b[0m\u001b[0;34m.\u001b[0m\u001b[0mrsample\u001b[0m\u001b[0;34m(\u001b[0m\u001b[0;34m)\u001b[0m\u001b[0;34m\u001b[0m\u001b[0;34m\u001b[0m\u001b[0m\n\u001b[1;32m      9\u001b[0m \u001b[0;34m\u001b[0m\u001b[0m\n\u001b[0;32m---> 10\u001b[0;31m \u001b[0mg\u001b[0m \u001b[0;34m=\u001b[0m \u001b[0mtorch\u001b[0m\u001b[0;34m.\u001b[0m\u001b[0mautograd\u001b[0m\u001b[0;34m.\u001b[0m\u001b[0mgrad\u001b[0m\u001b[0;34m(\u001b[0m\u001b[0mmodel\u001b[0m\u001b[0;34m.\u001b[0m\u001b[0mdecode\u001b[0m\u001b[0;34m(\u001b[0m\u001b[0mz\u001b[0m\u001b[0;34m)\u001b[0m\u001b[0;34m[\u001b[0m\u001b[0;36m0\u001b[0m\u001b[0;34m]\u001b[0m\u001b[0;34m,\u001b[0m \u001b[0minputs\u001b[0m\u001b[0;34m=\u001b[0m\u001b[0mz\u001b[0m\u001b[0;34m[\u001b[0m\u001b[0;36m0\u001b[0m\u001b[0;34m]\u001b[0m\u001b[0;34m)\u001b[0m\u001b[0;34m\u001b[0m\u001b[0;34m\u001b[0m\u001b[0m\n\u001b[0m\u001b[1;32m     11\u001b[0m \u001b[0mprint\u001b[0m\u001b[0;34m(\u001b[0m\u001b[0mg\u001b[0m\u001b[0;34m)\u001b[0m\u001b[0;34m\u001b[0m\u001b[0;34m\u001b[0m\u001b[0m\n\u001b[1;32m     12\u001b[0m \u001b[0;34m\u001b[0m\u001b[0m\n",
      "\u001b[0;32m~/opt/anaconda3/envs/abn1/lib/python3.9/site-packages/torch/autograd/__init__.py\u001b[0m in \u001b[0;36mgrad\u001b[0;34m(outputs, inputs, grad_outputs, retain_graph, create_graph, only_inputs, allow_unused, is_grads_batched)\u001b[0m\n\u001b[1;32m    259\u001b[0m \u001b[0;34m\u001b[0m\u001b[0m\n\u001b[1;32m    260\u001b[0m     \u001b[0mgrad_outputs_\u001b[0m \u001b[0;34m=\u001b[0m \u001b[0m_tensor_or_tensors_to_tuple\u001b[0m\u001b[0;34m(\u001b[0m\u001b[0mgrad_outputs\u001b[0m\u001b[0;34m,\u001b[0m \u001b[0mlen\u001b[0m\u001b[0;34m(\u001b[0m\u001b[0mt_outputs\u001b[0m\u001b[0;34m)\u001b[0m\u001b[0;34m)\u001b[0m\u001b[0;34m\u001b[0m\u001b[0;34m\u001b[0m\u001b[0m\n\u001b[0;32m--> 261\u001b[0;31m     \u001b[0mgrad_outputs_\u001b[0m \u001b[0;34m=\u001b[0m \u001b[0m_make_grads\u001b[0m\u001b[0;34m(\u001b[0m\u001b[0mt_outputs\u001b[0m\u001b[0;34m,\u001b[0m \u001b[0mgrad_outputs_\u001b[0m\u001b[0;34m,\u001b[0m \u001b[0mis_grads_batched\u001b[0m\u001b[0;34m=\u001b[0m\u001b[0mis_grads_batched\u001b[0m\u001b[0;34m)\u001b[0m\u001b[0;34m\u001b[0m\u001b[0;34m\u001b[0m\u001b[0m\n\u001b[0m\u001b[1;32m    262\u001b[0m \u001b[0;34m\u001b[0m\u001b[0m\n\u001b[1;32m    263\u001b[0m     \u001b[0;32mif\u001b[0m \u001b[0mretain_graph\u001b[0m \u001b[0;32mis\u001b[0m \u001b[0;32mNone\u001b[0m\u001b[0;34m:\u001b[0m\u001b[0;34m\u001b[0m\u001b[0;34m\u001b[0m\u001b[0m\n",
      "\u001b[0;32m~/opt/anaconda3/envs/abn1/lib/python3.9/site-packages/torch/autograd/__init__.py\u001b[0m in \u001b[0;36m_make_grads\u001b[0;34m(outputs, grads, is_grads_batched)\u001b[0m\n\u001b[1;32m     65\u001b[0m             \u001b[0;32mif\u001b[0m \u001b[0mout\u001b[0m\u001b[0;34m.\u001b[0m\u001b[0mrequires_grad\u001b[0m\u001b[0;34m:\u001b[0m\u001b[0;34m\u001b[0m\u001b[0;34m\u001b[0m\u001b[0m\n\u001b[1;32m     66\u001b[0m                 \u001b[0;32mif\u001b[0m \u001b[0mout\u001b[0m\u001b[0;34m.\u001b[0m\u001b[0mnumel\u001b[0m\u001b[0;34m(\u001b[0m\u001b[0;34m)\u001b[0m \u001b[0;34m!=\u001b[0m \u001b[0;36m1\u001b[0m\u001b[0;34m:\u001b[0m\u001b[0;34m\u001b[0m\u001b[0;34m\u001b[0m\u001b[0m\n\u001b[0;32m---> 67\u001b[0;31m                     \u001b[0;32mraise\u001b[0m \u001b[0mRuntimeError\u001b[0m\u001b[0;34m(\u001b[0m\u001b[0;34m\"grad can be implicitly created only for scalar outputs\"\u001b[0m\u001b[0;34m)\u001b[0m\u001b[0;34m\u001b[0m\u001b[0;34m\u001b[0m\u001b[0m\n\u001b[0m\u001b[1;32m     68\u001b[0m                 \u001b[0mnew_grads\u001b[0m\u001b[0;34m.\u001b[0m\u001b[0mappend\u001b[0m\u001b[0;34m(\u001b[0m\u001b[0mtorch\u001b[0m\u001b[0;34m.\u001b[0m\u001b[0mones_like\u001b[0m\u001b[0;34m(\u001b[0m\u001b[0mout\u001b[0m\u001b[0;34m,\u001b[0m \u001b[0mmemory_format\u001b[0m\u001b[0;34m=\u001b[0m\u001b[0mtorch\u001b[0m\u001b[0;34m.\u001b[0m\u001b[0mpreserve_format\u001b[0m\u001b[0;34m)\u001b[0m\u001b[0;34m)\u001b[0m\u001b[0;34m\u001b[0m\u001b[0;34m\u001b[0m\u001b[0m\n\u001b[1;32m     69\u001b[0m             \u001b[0;32melse\u001b[0m\u001b[0;34m:\u001b[0m\u001b[0;34m\u001b[0m\u001b[0;34m\u001b[0m\u001b[0m\n",
      "\u001b[0;31mRuntimeError\u001b[0m: grad can be implicitly created only for scalar outputs"
     ]
    }
   ],
   "source": [
    "theta = torch.tensor(torch.pi/3, requires_grad=True)\n",
    "\n",
    "def func(x):\n",
    "    return imm(x)[0]\n",
    "\n",
    "z = torch.tensor([torch.cos(theta), torch.sin(theta)])  \n",
    "\n",
    "z = q_z.rsample()\n",
    "\n",
    "#g = torch.autograd.grad(model.decode(z)[0], inputs=z[0])\n",
    "#print(g)\n",
    "\n",
    "H = torch.autograd.functional.hessian(func, inputs=theta, strict=True)"
   ]
  },
  {
   "cell_type": "code",
   "execution_count": null,
   "id": "285c855e",
   "metadata": {},
   "outputs": [],
   "source": []
  },
  {
   "cell_type": "code",
   "execution_count": null,
   "id": "f209d7db",
   "metadata": {},
   "outputs": [
    {
     "data": {
      "text/plain": [
       "<matplotlib.collections.PathCollection at 0x7fb9f0cbde50>"
      ]
     },
     "execution_count": 246,
     "metadata": {},
     "output_type": "execute_result"
    },
    {
     "data": {
      "image/png": "[encoded data removed]",
      "text/plain": [
       "<Figure size 432x288 with 1 Axes>"
      ]
     },
     "metadata": {
      "needs_background": "light"
     },
     "output_type": "display_data"
    }
   ],
   "source": [
    "x = torch.linspace(0,2*torch.pi,100)\n",
    "y = [func(th).cpu().detach().numpy() for th in x]\n",
    "\n",
    "x = x.cpu().detach().numpy()\n",
    "y = y\n",
    "\n",
    "plt.scatter(x,y)"
   ]
  },
  {
   "cell_type": "code",
   "execution_count": 257,
   "id": "71b0e98d",
   "metadata": {},
   "outputs": [
    {
     "ename": "RuntimeError",
     "evalue": "While computing the hessian, found that the jacobian of the user-provided function with respect to input 0 is independent of the input. This is not allowed in strict mode. You should ensure that your function is twice differentiable and that the jacobian depends on the inputs (this would be violated by a linear function for example).",
     "output_type": "error",
     "traceback": [
      "\u001b[0;31m---------------------------------------------------------------------------\u001b[0m",
      "\u001b[0;31mRuntimeError\u001b[0m                              Traceback (most recent call last)",
      "\u001b[0;32m/var/folders/7d/zvclhdrs7n711xctz2b91wd80000gn/T/ipykernel_24601/3188443498.py\u001b[0m in \u001b[0;36m<cell line: 3>\u001b[0;34m()\u001b[0m\n\u001b[1;32m      1\u001b[0m \u001b[0mfunc\u001b[0m \u001b[0;34m=\u001b[0m \u001b[0;32mlambda\u001b[0m \u001b[0mx\u001b[0m\u001b[0;34m:\u001b[0m \u001b[0mimm\u001b[0m\u001b[0;34m(\u001b[0m\u001b[0mx\u001b[0m\u001b[0;34m)\u001b[0m\u001b[0;34m[\u001b[0m\u001b[0;36m0\u001b[0m\u001b[0;34m]\u001b[0m\u001b[0;34m\u001b[0m\u001b[0;34m\u001b[0m\u001b[0m\n\u001b[1;32m      2\u001b[0m \u001b[0;34m\u001b[0m\u001b[0m\n\u001b[0;32m----> 3\u001b[0;31m \u001b[0mg\u001b[0m \u001b[0;34m=\u001b[0m \u001b[0mtorch\u001b[0m\u001b[0;34m.\u001b[0m\u001b[0mautograd\u001b[0m\u001b[0;34m.\u001b[0m\u001b[0mfunctional\u001b[0m\u001b[0;34m.\u001b[0m\u001b[0mhessian\u001b[0m\u001b[0;34m(\u001b[0m\u001b[0mfunc\u001b[0m\u001b[0;34m,\u001b[0m\u001b[0minputs\u001b[0m\u001b[0;34m=\u001b[0m\u001b[0mtheta\u001b[0m\u001b[0;34m,\u001b[0m \u001b[0mstrict\u001b[0m\u001b[0;34m=\u001b[0m\u001b[0;32mTrue\u001b[0m\u001b[0;34m)\u001b[0m\u001b[0;34m\u001b[0m\u001b[0;34m\u001b[0m\u001b[0m\n\u001b[0m",
      "\u001b[0;32m~/opt/anaconda3/envs/abn1/lib/python3.9/site-packages/torch/autograd/functional.py\u001b[0m in \u001b[0;36mhessian\u001b[0;34m(func, inputs, create_graph, strict, vectorize, outer_jacobian_strategy)\u001b[0m\n\u001b[1;32m    806\u001b[0m         \u001b[0;32mreturn\u001b[0m \u001b[0mjac\u001b[0m\u001b[0;34m\u001b[0m\u001b[0;34m\u001b[0m\u001b[0m\n\u001b[1;32m    807\u001b[0m \u001b[0;34m\u001b[0m\u001b[0m\n\u001b[0;32m--> 808\u001b[0;31m     res = jacobian(jac_func, inputs, create_graph=create_graph, strict=strict, vectorize=vectorize,\n\u001b[0m\u001b[1;32m    809\u001b[0m                    strategy=outer_jacobian_strategy)\n\u001b[1;32m    810\u001b[0m     \u001b[0;32mreturn\u001b[0m \u001b[0m_tuple_postprocess\u001b[0m\u001b[0;34m(\u001b[0m\u001b[0mres\u001b[0m\u001b[0;34m,\u001b[0m \u001b[0;34m(\u001b[0m\u001b[0mis_inputs_tuple\u001b[0m\u001b[0;34m,\u001b[0m \u001b[0mis_inputs_tuple\u001b[0m\u001b[0;34m)\u001b[0m\u001b[0;34m)\u001b[0m\u001b[0;34m\u001b[0m\u001b[0;34m\u001b[0m\u001b[0m\n",
      "\u001b[0;32m~/opt/anaconda3/envs/abn1/lib/python3.9/site-packages/torch/autograd/functional.py\u001b[0m in \u001b[0;36mjacobian\u001b[0;34m(func, inputs, create_graph, strict, vectorize, strategy)\u001b[0m\n\u001b[1;32m    573\u001b[0m         \u001b[0minputs\u001b[0m \u001b[0;34m=\u001b[0m \u001b[0m_grad_preprocess\u001b[0m\u001b[0;34m(\u001b[0m\u001b[0minputs\u001b[0m\u001b[0;34m,\u001b[0m \u001b[0mcreate_graph\u001b[0m\u001b[0;34m=\u001b[0m\u001b[0mcreate_graph\u001b[0m\u001b[0;34m,\u001b[0m \u001b[0mneed_graph\u001b[0m\u001b[0;34m=\u001b[0m\u001b[0;32mTrue\u001b[0m\u001b[0;34m)\u001b[0m\u001b[0;34m\u001b[0m\u001b[0;34m\u001b[0m\u001b[0m\n\u001b[1;32m    574\u001b[0m \u001b[0;34m\u001b[0m\u001b[0m\n\u001b[0;32m--> 575\u001b[0;31m         \u001b[0moutputs\u001b[0m \u001b[0;34m=\u001b[0m \u001b[0mfunc\u001b[0m\u001b[0;34m(\u001b[0m\u001b[0;34m*\u001b[0m\u001b[0minputs\u001b[0m\u001b[0;34m)\u001b[0m\u001b[0;34m\u001b[0m\u001b[0;34m\u001b[0m\u001b[0m\n\u001b[0m\u001b[1;32m    576\u001b[0m         is_outputs_tuple, outputs = _as_tuple(outputs,\n\u001b[1;32m    577\u001b[0m                                               \u001b[0;34m\"outputs of the user-provided function\"\u001b[0m\u001b[0;34m,\u001b[0m\u001b[0;34m\u001b[0m\u001b[0;34m\u001b[0m\u001b[0m\n",
      "\u001b[0;32m~/opt/anaconda3/envs/abn1/lib/python3.9/site-packages/torch/autograd/functional.py\u001b[0m in \u001b[0;36mjac_func\u001b[0;34m(*inp)\u001b[0m\n\u001b[1;32m    803\u001b[0m             \u001b[0minp\u001b[0m \u001b[0;34m=\u001b[0m \u001b[0mtuple\u001b[0m\u001b[0;34m(\u001b[0m\u001b[0mt\u001b[0m\u001b[0;34m.\u001b[0m\u001b[0mrequires_grad_\u001b[0m\u001b[0;34m(\u001b[0m\u001b[0;32mTrue\u001b[0m\u001b[0;34m)\u001b[0m \u001b[0;32mfor\u001b[0m \u001b[0mt\u001b[0m \u001b[0;32min\u001b[0m \u001b[0minp\u001b[0m\u001b[0;34m)\u001b[0m\u001b[0;34m\u001b[0m\u001b[0;34m\u001b[0m\u001b[0m\n\u001b[1;32m    804\u001b[0m         \u001b[0mjac\u001b[0m \u001b[0;34m=\u001b[0m \u001b[0mjacobian\u001b[0m\u001b[0;34m(\u001b[0m\u001b[0mensure_single_output_function\u001b[0m\u001b[0;34m,\u001b[0m \u001b[0minp\u001b[0m\u001b[0;34m,\u001b[0m \u001b[0mcreate_graph\u001b[0m\u001b[0;34m=\u001b[0m\u001b[0;32mTrue\u001b[0m\u001b[0;34m)\u001b[0m\u001b[0;34m\u001b[0m\u001b[0;34m\u001b[0m\u001b[0m\n\u001b[0;32m--> 805\u001b[0;31m         \u001b[0m_check_requires_grad\u001b[0m\u001b[0;34m(\u001b[0m\u001b[0mjac\u001b[0m\u001b[0;34m,\u001b[0m \u001b[0;34m\"jacobian\"\u001b[0m\u001b[0;34m,\u001b[0m \u001b[0mstrict\u001b[0m\u001b[0;34m=\u001b[0m\u001b[0mstrict\u001b[0m\u001b[0;34m)\u001b[0m\u001b[0;34m\u001b[0m\u001b[0;34m\u001b[0m\u001b[0m\n\u001b[0m\u001b[1;32m    806\u001b[0m         \u001b[0;32mreturn\u001b[0m \u001b[0mjac\u001b[0m\u001b[0;34m\u001b[0m\u001b[0;34m\u001b[0m\u001b[0m\n\u001b[1;32m    807\u001b[0m \u001b[0;34m\u001b[0m\u001b[0m\n",
      "\u001b[0;32m~/opt/anaconda3/envs/abn1/lib/python3.9/site-packages/torch/autograd/functional.py\u001b[0m in \u001b[0;36m_check_requires_grad\u001b[0;34m(inputs, input_type, strict)\u001b[0m\n\u001b[1;32m    124\u001b[0m                                    \" the hessian depends on the inputs.\".format(i))\n\u001b[1;32m    125\u001b[0m             \u001b[0;32melif\u001b[0m \u001b[0minput_type\u001b[0m \u001b[0;34m==\u001b[0m \u001b[0;34m\"jacobian\"\u001b[0m\u001b[0;34m:\u001b[0m\u001b[0;34m\u001b[0m\u001b[0;34m\u001b[0m\u001b[0m\n\u001b[0;32m--> 126\u001b[0;31m                 raise RuntimeError(\"While computing the hessian, found that the jacobian of the user-provided\"\n\u001b[0m\u001b[1;32m    127\u001b[0m                                    \u001b[0;34m\" function with respect to input {} is independent of the input. This is not\"\u001b[0m\u001b[0;34m\u001b[0m\u001b[0;34m\u001b[0m\u001b[0m\n\u001b[1;32m    128\u001b[0m                                    \u001b[0;34m\" allowed in strict mode. You should ensure that your function is twice\"\u001b[0m\u001b[0;34m\u001b[0m\u001b[0;34m\u001b[0m\u001b[0m\n",
      "\u001b[0;31mRuntimeError\u001b[0m: While computing the hessian, found that the jacobian of the user-provided function with respect to input 0 is independent of the input. This is not allowed in strict mode. You should ensure that your function is twice differentiable and that the jacobian depends on the inputs (this would be violated by a linear function for example)."
     ]
    }
   ],
   "source": [
    "func = lambda x: imm(x)[0]\n",
    "\n",
    "g = torch.autograd.functional.hessian(func,inputs=theta, strict=True)"
   ]
  },
  {
   "cell_type": "code",
   "execution_count": 261,
   "id": "c5332860",
   "metadata": {},
   "outputs": [],
   "source": [
    "torch.save(model.state_dict(),\"../results/modelsd.pt\")"
   ]
  },
  {
   "cell_type": "code",
   "execution_count": 172,
   "id": "5ed989a6",
   "metadata": {},
   "outputs": [],
   "source": [
    "def get_curv_profile(angles,model,embedding_dim):\n",
    "    immersion = get_immersion(model)\n",
    "    mean_curv_vecs = [mean_curv(angle,immersion,embedding_dim) for angle in angles]\n",
    "    norms = [torch.linalg.norm(vec) for vec in mean_curv_vecs]\n",
    "    return norms"
   ]
  },
  {
   "cell_type": "code",
   "execution_count": 197,
   "id": "328002ab",
   "metadata": {},
   "outputs": [],
   "source": [
    "angles = torch.linspace(0,2*torch.pi,1000)\n",
    "\n",
    "norms = get_curv_profile(angles,model,2)"
   ]
  },
  {
   "cell_type": "code",
   "execution_count": 198,
   "id": "93a38805",
   "metadata": {},
   "outputs": [
    {
     "data": {
      "text/plain": [
       "[<matplotlib.lines.Line2D at 0x7fba06d7d6d0>]"
      ]
     },
     "execution_count": 198,
     "metadata": {},
     "output_type": "execute_result"
    },
    {
     "data": {
      "image/png": "[encoded data removed]",
      "text/plain": [
       "<Figure size 432x288 with 1 Axes>"
      ]
     },
     "metadata": {
      "needs_background": "light"
     },
     "output_type": "display_data"
    }
   ],
   "source": [
    "plt.plot(norms)"
   ]
  },
  {
   "cell_type": "code",
   "execution_count": 199,
   "id": "cad8a934",
   "metadata": {},
   "outputs": [
    {
     "name": "stderr",
     "output_type": "stream",
     "text": [
      "/Users/franciscoacosta/opt/anaconda3/envs/abn1/lib/python3.9/site-packages/torch/distributions/distribution.py:44: UserWarning: <class 'hyperspherical_vae.distributions.hyperspherical_uniform.HypersphericalUniform'> does not define `arg_constraints`. Please set `arg_constraints = {}` or initialize the distribution with `validate_args=False` to turn off validation.\n",
      "  warnings.warn(f'{self.__class__} does not define `arg_constraints`. ' +\n"
     ]
    }
   ],
   "source": [
    "x_ = model(dataset.data)[-1]"
   ]
  },
  {
   "cell_type": "code",
   "execution_count": 227,
   "id": "2e007ac9",
   "metadata": {},
   "outputs": [
    {
     "data": {
      "text/plain": [
       "<matplotlib.collections.PathCollection at 0x7fba06709ac0>"
      ]
     },
     "execution_count": 227,
     "metadata": {},
     "output_type": "execute_result"
    },
    {
     "data": {
      "image/png": "[encoded data removed]",
      "text/plain": [
       "<Figure size 432x288 with 1 Axes>"
      ]
     },
     "metadata": {
      "needs_background": "light"
     },
     "output_type": "display_data"
    }
   ],
   "source": [
    "a = dataset.data[:,0]\n",
    "b = dataset.data[:,1]\n",
    "\n",
    "plt.scatter(a,b)"
   ]
  },
  {
   "cell_type": "code",
   "execution_count": 228,
   "id": "5bbfce31",
   "metadata": {},
   "outputs": [
    {
     "data": {
      "text/plain": [
       "<matplotlib.collections.PathCollection at 0x7fb9f07bfd60>"
      ]
     },
     "execution_count": 228,
     "metadata": {},
     "output_type": "execute_result"
    },
    {
     "data": {
      "image/png": "[encoded data removed]",
      "text/plain": [
       "<Figure size 432x288 with 1 Axes>"
      ]
     },
     "metadata": {
      "needs_background": "light"
     },
     "output_type": "display_data"
    }
   ],
   "source": [
    "a_ = x_[:,0].cpu().detach().numpy()\n",
    "b_ = x_[:,1].cpu().detach().numpy()\n",
    "\n",
    "plt.scatter(a_,b_)"
   ]
  },
  {
   "cell_type": "code",
   "execution_count": 48,
   "id": "06798cd0",
   "metadata": {},
   "outputs": [],
   "source": [
    "z_mean, z_var = model.encode(dataset.data)"
   ]
  },
  {
   "cell_type": "code",
   "execution_count": 49,
   "id": "eea84f06",
   "metadata": {},
   "outputs": [
    {
     "name": "stderr",
     "output_type": "stream",
     "text": [
      "/Users/franciscoacosta/opt/anaconda3/envs/abn1/lib/python3.9/site-packages/torch/distributions/distribution.py:44: UserWarning: <class 'hyperspherical_vae.distributions.hyperspherical_uniform.HypersphericalUniform'> does not define `arg_constraints`. Please set `arg_constraints = {}` or initialize the distribution with `validate_args=False` to turn off validation.\n",
      "  warnings.warn(f'{self.__class__} does not define `arg_constraints`. ' +\n"
     ]
    }
   ],
   "source": [
    "q_z, p_z = model.reparameterize(z_mean, z_var)"
   ]
  },
  {
   "cell_type": "code",
   "execution_count": 51,
   "id": "fe645ead",
   "metadata": {},
   "outputs": [
    {
     "data": {
      "text/plain": [
       "True"
      ]
     },
     "execution_count": 51,
     "metadata": {},
     "output_type": "execute_result"
    }
   ],
   "source": [
    "q_z.rsample().requires_grad"
   ]
  },
  {
   "cell_type": "code",
   "execution_count": 109,
   "id": "1db8e169",
   "metadata": {},
   "outputs": [
    {
     "data": {
      "text/plain": [
       "torch.Size([1000, 2])"
      ]
     },
     "execution_count": 109,
     "metadata": {},
     "output_type": "execute_result"
    }
   ],
   "source": [
    "z.shape"
   ]
  },
  {
   "cell_type": "code",
   "execution_count": 133,
   "id": "451f8465",
   "metadata": {},
   "outputs": [],
   "source": [
    "def func(z):\n",
    "    x_rec0 = model.decode(z)[0]\n",
    "    return x_rec0"
   ]
  },
  {
   "cell_type": "code",
   "execution_count": 123,
   "id": "a098bd5c",
   "metadata": {},
   "outputs": [],
   "source": [
    "xrec0 = func(z)"
   ]
  },
  {
   "cell_type": "code",
   "execution_count": 131,
   "id": "c03174f1",
   "metadata": {},
   "outputs": [],
   "source": [
    "z0 =z[0]"
   ]
  },
  {
   "cell_type": "code",
   "execution_count": 134,
   "id": "7ba0cdf0",
   "metadata": {},
   "outputs": [],
   "source": [
    "H0 = torch.autograd.functional.hessian(func=func, inputs = z0, strict=True)"
   ]
  },
  {
   "cell_type": "code",
   "execution_count": 138,
   "id": "7a92e4fb",
   "metadata": {},
   "outputs": [
    {
     "data": {
      "text/plain": [
       "tensor(0.2198, grad_fn=<SelectBackward0>)"
      ]
     },
     "execution_count": 138,
     "metadata": {},
     "output_type": "execute_result"
    }
   ],
   "source": [
    "func(z0)"
   ]
  },
  {
   "cell_type": "code",
   "execution_count": 136,
   "id": "296d578c",
   "metadata": {},
   "outputs": [],
   "source": [
    "J = torch.autograd.functional.jacobian(func=func, inputs=z0, strict=True)"
   ]
  },
  {
   "cell_type": "code",
   "execution_count": 137,
   "id": "311e5e72",
   "metadata": {},
   "outputs": [
    {
     "data": {
      "text/plain": [
       "tensor([0.1168, 0.1596])"
      ]
     },
     "execution_count": 137,
     "metadata": {},
     "output_type": "execute_result"
    }
   ],
   "source": [
    "J"
   ]
  },
  {
   "cell_type": "code",
   "execution_count": null,
   "id": "efcba21b",
   "metadata": {},
   "outputs": [],
   "source": []
  }
 ],
 "metadata": {
  "interpreter": {
   "hash": "e26aa08b03816bccd8ffda99e3c08bc836ee5e15be100f93c2f64087c2307a11"
  },
  "kernelspec": {
   "display_name": "geomstats",
   "language": "python",
   "name": "python3"
  },
  "language_info": {
   "codemirror_mode": {
    "name": "ipython",
    "version": 3
   },
   "file_extension": ".py",
   "mimetype": "text/x-python",
   "name": "python",
   "nbconvert_exporter": "python",
   "pygments_lexer": "ipython3",
   "version": "3.9.12"
  }
 },
 "nbformat": 4,
 "nbformat_minor": 5
}
