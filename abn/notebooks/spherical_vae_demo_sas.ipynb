{
 "cells": [
  {
   "cell_type": "code",
   "execution_count": 2,
   "metadata": {},
   "outputs": [],
   "source": [
    "%load_ext autoreload\n",
    "%autoreload 2\n",
    "\n",
    "import sys\n",
    "sys.path.append(\"../../\")\n",
    "\n",
    "import matplotlib.pyplot as plt\n",
    "import seaborn as sns\n",
    "sns.set_style(\"darkgrid\")\n",
    "%matplotlib inline"
   ]
  },
  {
   "cell_type": "code",
   "execution_count": 3,
   "metadata": {},
   "outputs": [],
   "source": [
    "import numpy as np\n",
    "import torch\n",
    "import torch.optim as optim\n",
    "import pandas as pd\n",
    "from abn.models.spherical_vae import SphericalVAE\n",
    "from abn.trainer.svae_trainer import SphericalVAETrainer\n",
    "from abn.datasets.cyclic_walk import CyclicWalk, CyclicWalkLoader"
   ]
  },
  {
   "cell_type": "markdown",
   "metadata": {},
   "source": [
    "# Hyperspherical VAE"
   ]
  },
  {
   "cell_type": "markdown",
   "metadata": {},
   "source": [
    "## Load Dataset"
   ]
  },
  {
   "cell_type": "code",
   "execution_count": 12,
   "metadata": {},
   "outputs": [
    {
     "name": "stderr",
     "output_type": "stream",
     "text": [
      "40it [00:36,  1.10it/s]\n"
     ]
    },
    {
     "data": {
      "image/png": "[encoded data removed]",
      "text/plain": [
       "<Figure size 432x288 with 1 Axes>"
      ]
     },
     "metadata": {
      "needs_background": "light"
     },
     "output_type": "display_data"
    }
   ],
   "source": [
    "path = \"../data/expt34.mat\" # CHANGE TO YOUR DATA LOCATION IF NEEDED\n",
    "time_bin = 1000000\n",
    "dataset = CyclicWalk(path=path, randomize_pairs=True, time_bin=time_bin, velocity_threshold=0.3)"
   ]
  },
  {
   "cell_type": "code",
   "execution_count": 16,
   "metadata": {},
   "outputs": [],
   "source": [
    "torch.save(dataset, \"../data/expt34_processed.pt\")"
   ]
  },
  {
   "cell_type": "code",
   "execution_count": 65,
   "metadata": {},
   "outputs": [],
   "source": [
    "dataset = torch.load(\"../data/expt34_processed.pt\")"
   ]
  },
  {
   "cell_type": "markdown",
   "metadata": {},
   "source": [
    "## Normalize the Data\n",
    "\n",
    "Note: Different normalization schemes have a *HUGE* impact on the training procedure.\n",
    "Options that should be explored include:\n",
    "- Z-scoring each neuron's response across the entire dataset\n",
    "- Setting min of the entire dataset to 0 and max to 1\n",
    "- Setting the norm of each neural state vector to 1\n",
    "\n",
    "They are each implemented below. Uncomment options to try them out"
   ]
  },
  {
   "cell_type": "code",
   "execution_count": 66,
   "metadata": {},
   "outputs": [
    {
     "data": {
      "text/plain": [
       "'\\nZ-Scoring\\n'"
      ]
     },
     "execution_count": 66,
     "metadata": {},
     "output_type": "execute_result"
    }
   ],
   "source": [
    "\"\"\"\n",
    "Z-Scoring\n",
    "\"\"\"\n",
    "# dataset.data = dataset.data - dataset.data.mean(axis=-1, keepdim=True)\n",
    "# dataset.data = dataset.data / dataset.data.std(axis=-1, keepdim=True)\n",
    "# print(dataset.data.std(axis=-1))"
   ]
  },
  {
   "cell_type": "code",
   "execution_count": 69,
   "metadata": {},
   "outputs": [],
   "source": [
    "\"\"\"\n",
    "Min 0 Max 1\n",
    "\"\"\"\n",
    "dataset.data = dataset.data - dataset.data.min()\n",
    "dataset.data = dataset.data / dataset.data.max()"
   ]
  },
  {
   "cell_type": "code",
   "execution_count": 70,
   "metadata": {},
   "outputs": [
    {
     "data": {
      "text/plain": [
       "'\\nUnit Norm\\n'"
      ]
     },
     "execution_count": 70,
     "metadata": {},
     "output_type": "execute_result"
    }
   ],
   "source": [
    "\"\"\"\n",
    "Unit Norm\n",
    "\"\"\"\n",
    "# dataset.data = dataset.data / torch.linalg.norm(dataset.data, dim=-1, keepdim=True)\n",
    "# print(torch.linalg.norm(dataset.data, dim=-1))"
   ]
  },
  {
   "cell_type": "markdown",
   "metadata": {},
   "source": [
    "## Train Val Split and Generate Batches"
   ]
  },
  {
   "cell_type": "code",
   "execution_count": 71,
   "metadata": {},
   "outputs": [],
   "source": [
    "data_loader = CyclicWalkLoader(batch_size=20)\n",
    "data_loader.load(dataset)"
   ]
  },
  {
   "cell_type": "markdown",
   "metadata": {},
   "source": [
    "## Construct Model"
   ]
  },
  {
   "cell_type": "code",
   "execution_count": 72,
   "metadata": {},
   "outputs": [],
   "source": [
    "model = SphericalVAE(input_dim=40,\n",
    "                     encoder_dims=[40, 30, 20, 10],\n",
    "                     latent_dim=2,\n",
    "                     distribution=\"vmf\")\n",
    "\n",
    "optimizer = optim.Adam(model.parameters(), lr=0.001)\n",
    "\n",
    "trainer = SphericalVAETrainer(model=model, optimizer=optimizer)"
   ]
  },
  {
   "cell_type": "code",
   "execution_count": 73,
   "metadata": {},
   "outputs": [
    {
     "data": {
      "text/plain": [
       "SphericalVAE(\n",
       "  (encoder): Sequential(\n",
       "    (fullyconnected_0): Linear(in_features=40, out_features=40, bias=True)\n",
       "    (activation_0): ReLU()\n",
       "    (fullyconnected_1): Linear(in_features=40, out_features=30, bias=True)\n",
       "    (activation_1): ReLU()\n",
       "    (fullyconnected_2): Linear(in_features=30, out_features=20, bias=True)\n",
       "    (activation_2): ReLU()\n",
       "    (fullyconnected_3): Linear(in_features=20, out_features=10, bias=True)\n",
       "    (out_3): ReLU()\n",
       "  )\n",
       "  (mu): Linear(in_features=10, out_features=2, bias=True)\n",
       "  (var): Linear(in_features=10, out_features=1, bias=True)\n",
       "  (decoder): Sequential(\n",
       "    (fullyconnected_0): Linear(in_features=2, out_features=10, bias=True)\n",
       "    (activation_0): ReLU()\n",
       "    (fullyconnected_1): Linear(in_features=10, out_features=20, bias=True)\n",
       "    (activation_1): ReLU()\n",
       "    (fullyconnected_2): Linear(in_features=20, out_features=30, bias=True)\n",
       "    (activation_2): ReLU()\n",
       "    (fullyconnected_3): Linear(in_features=30, out_features=40, bias=True)\n",
       "    (activation_3): ReLU()\n",
       "    (fullyconnected_4): Linear(in_features=40, out_features=40, bias=True)\n",
       "  )\n",
       ")"
      ]
     },
     "execution_count": 73,
     "metadata": {},
     "output_type": "execute_result"
    }
   ],
   "source": [
    "model"
   ]
  },
  {
   "cell_type": "markdown",
   "metadata": {},
   "source": [
    "## Train Model"
   ]
  },
  {
   "cell_type": "code",
   "execution_count": null,
   "metadata": {},
   "outputs": [
    {
     "name": "stderr",
     "output_type": "stream",
     "text": [
      "/Users/sophia/opt/anaconda3/envs/py3/lib/python3.8/site-packages/torch/distributions/distribution.py:44: UserWarning: <class 'hyperspherical_vae.distributions.hyperspherical_uniform.HypersphericalUniform'> does not define `arg_constraints`. Please set `arg_constraints = {}` or initialize the distribution with `validate_args=False` to turn off validation.\n",
      "  warnings.warn(f'{self.__class__} does not define `arg_constraints`. ' +\n"
     ]
    },
    {
     "name": "stdout",
     "output_type": "stream",
     "text": [
      "Epoch 0 ||  N Examples 0 || Train Total Loss 24.66295 || Validation Total Loss 18.59746\n",
      "Epoch 1 ||  N Examples 890 || Train Total Loss 13.03072 || Validation Total Loss 10.94129\n",
      "Epoch 2 ||  N Examples 1780 || Train Total Loss 10.70170 || Validation Total Loss 10.62810\n",
      "Epoch 3 ||  N Examples 2670 || Train Total Loss 10.55940 || Validation Total Loss 10.53782\n",
      "Epoch 4 ||  N Examples 3560 || Train Total Loss 10.50370 || Validation Total Loss 10.49549\n",
      "Epoch 5 ||  N Examples 4450 || Train Total Loss 10.47753 || Validation Total Loss 10.45507\n",
      "Epoch 6 ||  N Examples 5340 || Train Total Loss 10.47633 || Validation Total Loss 10.49424\n",
      "Epoch 7 ||  N Examples 6230 || Train Total Loss 10.46954 || Validation Total Loss 10.44508\n",
      "Epoch 8 ||  N Examples 7120 || Train Total Loss 10.47160 || Validation Total Loss 10.49756\n",
      "Epoch 9 ||  N Examples 8010 || Train Total Loss 10.46683 || Validation Total Loss 10.43796\n",
      "Epoch 10 ||  N Examples 8900 || Train Total Loss 10.46958 || Validation Total Loss 10.44526\n",
      "Epoch 11 ||  N Examples 9790 || Train Total Loss 10.46575 || Validation Total Loss 10.42701\n",
      "Epoch 12 ||  N Examples 10680 || Train Total Loss 10.46577 || Validation Total Loss 10.42157\n",
      "Epoch 13 ||  N Examples 11570 || Train Total Loss 10.46604 || Validation Total Loss 10.49538\n",
      "Epoch 14 ||  N Examples 12460 || Train Total Loss 10.46452 || Validation Total Loss 10.44313\n",
      "Epoch 15 ||  N Examples 13350 || Train Total Loss 10.46291 || Validation Total Loss 10.45094\n",
      "Epoch 16 ||  N Examples 14240 || Train Total Loss 10.45541 || Validation Total Loss 10.44282\n",
      "Epoch 17 ||  N Examples 15130 || Train Total Loss 10.43893 || Validation Total Loss 10.42473\n",
      "Epoch 18 ||  N Examples 16020 || Train Total Loss 10.39939 || Validation Total Loss 10.35779\n",
      "Epoch 19 ||  N Examples 16910 || Train Total Loss 10.32051 || Validation Total Loss 10.31597\n",
      "Epoch 20 ||  N Examples 17800 || Train Total Loss 10.27813 || Validation Total Loss 10.22900\n",
      "Epoch 21 ||  N Examples 18690 || Train Total Loss 10.26482 || Validation Total Loss 10.19125\n",
      "Epoch 22 ||  N Examples 19580 || Train Total Loss 10.24194 || Validation Total Loss 10.20172\n",
      "Epoch 23 ||  N Examples 20470 || Train Total Loss 10.21495 || Validation Total Loss 10.19030\n",
      "Epoch 24 ||  N Examples 21360 || Train Total Loss 10.22743 || Validation Total Loss 10.20019\n",
      "Epoch 25 ||  N Examples 22250 || Train Total Loss 10.22277 || Validation Total Loss 10.17867\n",
      "Epoch 26 ||  N Examples 23140 || Train Total Loss 10.18903 || Validation Total Loss 10.17927\n",
      "Epoch 27 ||  N Examples 24030 || Train Total Loss 10.20697 || Validation Total Loss 10.30668\n",
      "Epoch 28 ||  N Examples 24920 || Train Total Loss 10.20285 || Validation Total Loss 10.16792\n",
      "Epoch 29 ||  N Examples 25810 || Train Total Loss 10.20161 || Validation Total Loss 10.21459\n",
      "Epoch 30 ||  N Examples 26700 || Train Total Loss 10.20236 || Validation Total Loss 10.09644\n",
      "Epoch 31 ||  N Examples 27590 || Train Total Loss 10.19975 || Validation Total Loss 10.11617\n",
      "Epoch 32 ||  N Examples 28480 || Train Total Loss 10.18064 || Validation Total Loss 10.23964\n",
      "Epoch 33 ||  N Examples 29370 || Train Total Loss 10.16625 || Validation Total Loss 10.10501\n",
      "Epoch 34 ||  N Examples 30260 || Train Total Loss 10.17470 || Validation Total Loss 10.15571\n",
      "Epoch 35 ||  N Examples 31150 || Train Total Loss 10.16493 || Validation Total Loss 10.11005\n",
      "Epoch 36 ||  N Examples 32040 || Train Total Loss 10.16405 || Validation Total Loss 10.16199\n",
      "Epoch 37 ||  N Examples 32930 || Train Total Loss 10.14006 || Validation Total Loss 10.08200\n",
      "Epoch 38 ||  N Examples 33820 || Train Total Loss 10.14327 || Validation Total Loss 10.14779\n",
      "Epoch 39 ||  N Examples 34710 || Train Total Loss 10.13518 || Validation Total Loss 10.14984\n",
      "Epoch 40 ||  N Examples 35600 || Train Total Loss 10.13247 || Validation Total Loss 10.10182\n",
      "Epoch 41 ||  N Examples 36490 || Train Total Loss 10.14212 || Validation Total Loss 10.09349\n",
      "Epoch 42 ||  N Examples 37380 || Train Total Loss 10.12648 || Validation Total Loss 10.12420\n",
      "Epoch 43 ||  N Examples 38270 || Train Total Loss 10.13103 || Validation Total Loss 10.11004\n",
      "Epoch 44 ||  N Examples 39160 || Train Total Loss 10.11167 || Validation Total Loss 10.10331\n",
      "Epoch 45 ||  N Examples 40050 || Train Total Loss 10.10417 || Validation Total Loss 10.06019\n",
      "Epoch 46 ||  N Examples 40940 || Train Total Loss 10.09576 || Validation Total Loss 10.14363\n",
      "Epoch 47 ||  N Examples 41830 || Train Total Loss 10.11229 || Validation Total Loss 10.00614\n",
      "Epoch 48 ||  N Examples 42720 || Train Total Loss 10.07141 || Validation Total Loss 10.07214\n",
      "Epoch 49 ||  N Examples 43610 || Train Total Loss 10.08843 || Validation Total Loss 10.08959\n",
      "Epoch 50 ||  N Examples 44500 || Train Total Loss 10.06680 || Validation Total Loss 9.97694\n",
      "Epoch 51 ||  N Examples 45390 || Train Total Loss 10.02122 || Validation Total Loss 10.08748\n",
      "Epoch 52 ||  N Examples 46280 || Train Total Loss 10.01978 || Validation Total Loss 9.97520\n",
      "Epoch 53 ||  N Examples 47170 || Train Total Loss 9.95683 || Validation Total Loss 9.90948\n",
      "Epoch 54 ||  N Examples 48060 || Train Total Loss 9.96887 || Validation Total Loss 9.92975\n",
      "Epoch 55 ||  N Examples 48950 || Train Total Loss 9.93975 || Validation Total Loss 9.91922\n",
      "Epoch 56 ||  N Examples 49840 || Train Total Loss 9.90336 || Validation Total Loss 9.90683\n",
      "Epoch 57 ||  N Examples 50730 || Train Total Loss 9.88743 || Validation Total Loss 9.95020\n",
      "Epoch 58 ||  N Examples 51620 || Train Total Loss 9.88215 || Validation Total Loss 9.92718\n",
      "Epoch 59 ||  N Examples 52510 || Train Total Loss 9.86160 || Validation Total Loss 9.84728\n",
      "Epoch 60 ||  N Examples 53400 || Train Total Loss 9.85978 || Validation Total Loss 9.84938\n",
      "Epoch 61 ||  N Examples 54290 || Train Total Loss 9.82290 || Validation Total Loss 9.88267\n",
      "Epoch 62 ||  N Examples 55180 || Train Total Loss 9.80800 || Validation Total Loss 9.70458\n",
      "Epoch 63 ||  N Examples 56070 || Train Total Loss 9.75986 || Validation Total Loss 9.73271\n",
      "Epoch 64 ||  N Examples 56960 || Train Total Loss 9.73969 || Validation Total Loss 9.72348\n",
      "Epoch 65 ||  N Examples 57850 || Train Total Loss 9.70770 || Validation Total Loss 9.60716\n",
      "Epoch 66 ||  N Examples 58740 || Train Total Loss 9.67275 || Validation Total Loss 9.65161\n",
      "Epoch 67 ||  N Examples 59630 || Train Total Loss 9.65263 || Validation Total Loss 9.65501\n",
      "Epoch 68 ||  N Examples 60520 || Train Total Loss 9.62176 || Validation Total Loss 9.63768\n",
      "Epoch 69 ||  N Examples 61410 || Train Total Loss 9.57595 || Validation Total Loss 9.56307\n",
      "Epoch 70 ||  N Examples 62300 || Train Total Loss 9.55670 || Validation Total Loss 9.53382\n",
      "Epoch 71 ||  N Examples 63190 || Train Total Loss 9.55314 || Validation Total Loss 9.51313\n",
      "Epoch 72 ||  N Examples 64080 || Train Total Loss 9.53232 || Validation Total Loss 9.57718\n",
      "Epoch 73 ||  N Examples 64970 || Train Total Loss 9.52499 || Validation Total Loss 9.53337\n",
      "Epoch 74 ||  N Examples 65860 || Train Total Loss 9.50336 || Validation Total Loss 9.54333\n",
      "Epoch 75 ||  N Examples 66750 || Train Total Loss 9.49577 || Validation Total Loss 9.49078\n",
      "Epoch 76 ||  N Examples 67640 || Train Total Loss 9.59090 || Validation Total Loss 10.06310\n",
      "Epoch 77 ||  N Examples 68530 || Train Total Loss 9.72102 || Validation Total Loss 9.59593\n",
      "Epoch 78 ||  N Examples 69420 || Train Total Loss 9.52472 || Validation Total Loss 9.48993\n",
      "Epoch 79 ||  N Examples 70310 || Train Total Loss 9.47627 || Validation Total Loss 9.42063\n",
      "Epoch 80 ||  N Examples 71200 || Train Total Loss 9.45410 || Validation Total Loss 9.40536\n",
      "Epoch 81 ||  N Examples 72090 || Train Total Loss 9.45341 || Validation Total Loss 9.41659\n",
      "Epoch 82 ||  N Examples 72980 || Train Total Loss 9.45204 || Validation Total Loss 9.40532\n",
      "Epoch 83 ||  N Examples 73870 || Train Total Loss 9.44224 || Validation Total Loss 9.38990\n",
      "Epoch 84 ||  N Examples 74760 || Train Total Loss 9.45090 || Validation Total Loss 9.43424\n",
      "Epoch 85 ||  N Examples 75650 || Train Total Loss 9.42663 || Validation Total Loss 9.38066\n",
      "Epoch 86 ||  N Examples 76540 || Train Total Loss 9.51658 || Validation Total Loss 9.46425\n",
      "Epoch 87 ||  N Examples 77430 || Train Total Loss 9.44808 || Validation Total Loss 9.49966\n",
      "Epoch 88 ||  N Examples 78320 || Train Total Loss 9.42320 || Validation Total Loss 9.43489\n",
      "Epoch 89 ||  N Examples 79210 || Train Total Loss 9.41727 || Validation Total Loss 9.33260\n",
      "Epoch 90 ||  N Examples 80100 || Train Total Loss 9.41023 || Validation Total Loss 9.41579\n",
      "Epoch 91 ||  N Examples 80990 || Train Total Loss 9.39329 || Validation Total Loss 9.40096\n",
      "Epoch 92 ||  N Examples 81880 || Train Total Loss 9.38973 || Validation Total Loss 9.36089\n",
      "Epoch 93 ||  N Examples 82770 || Train Total Loss 9.38241 || Validation Total Loss 9.33414\n",
      "Epoch 94 ||  N Examples 83660 || Train Total Loss 9.37571 || Validation Total Loss 9.31641\n",
      "Epoch 95 ||  N Examples 84550 || Train Total Loss 9.38096 || Validation Total Loss 9.37728\n",
      "Epoch 96 ||  N Examples 85440 || Train Total Loss 9.37259 || Validation Total Loss 9.32286\n",
      "Epoch 97 ||  N Examples 86330 || Train Total Loss 9.36365 || Validation Total Loss 9.34765\n",
      "Epoch 98 ||  N Examples 87220 || Train Total Loss 9.36377 || Validation Total Loss 9.41416\n",
      "Epoch 99 ||  N Examples 88110 || Train Total Loss 9.35839 || Validation Total Loss 9.33499\n",
      "Epoch 100 ||  N Examples 89000 || Train Total Loss 9.35524 || Validation Total Loss 9.36221\n",
      "Epoch 101 ||  N Examples 89890 || Train Total Loss 9.35694 || Validation Total Loss 9.30483\n",
      "Epoch 102 ||  N Examples 90780 || Train Total Loss 9.35783 || Validation Total Loss 9.33563\n",
      "Epoch 103 ||  N Examples 91670 || Train Total Loss 9.35674 || Validation Total Loss 9.40076\n",
      "Epoch 104 ||  N Examples 92560 || Train Total Loss 9.34739 || Validation Total Loss 9.33622\n",
      "Epoch 105 ||  N Examples 93450 || Train Total Loss 9.33782 || Validation Total Loss 9.34110\n",
      "Epoch 106 ||  N Examples 94340 || Train Total Loss 9.33658 || Validation Total Loss 9.34713\n",
      "Epoch 107 ||  N Examples 95230 || Train Total Loss 9.34435 || Validation Total Loss 9.30047\n",
      "Epoch 108 ||  N Examples 96120 || Train Total Loss 9.33278 || Validation Total Loss 9.37526\n",
      "Epoch 109 ||  N Examples 97010 || Train Total Loss 9.32567 || Validation Total Loss 9.39212\n",
      "Epoch 110 ||  N Examples 97900 || Train Total Loss 9.33696 || Validation Total Loss 9.26858\n",
      "Epoch 111 ||  N Examples 98790 || Train Total Loss 9.33317 || Validation Total Loss 9.28496\n",
      "Epoch 112 ||  N Examples 99680 || Train Total Loss 9.32990 || Validation Total Loss 9.33498\n",
      "Epoch 113 ||  N Examples 100570 || Train Total Loss 9.33386 || Validation Total Loss 9.23203\n",
      "Epoch 114 ||  N Examples 101460 || Train Total Loss 9.32518 || Validation Total Loss 9.36856\n",
      "Epoch 115 ||  N Examples 102350 || Train Total Loss 9.32261 || Validation Total Loss 9.27982\n",
      "Epoch 116 ||  N Examples 103240 || Train Total Loss 9.32455 || Validation Total Loss 9.22450\n",
      "Epoch 117 ||  N Examples 104130 || Train Total Loss 9.32483 || Validation Total Loss 9.26300\n",
      "Epoch 118 ||  N Examples 105020 || Train Total Loss 9.33153 || Validation Total Loss 9.43883\n",
      "Epoch 119 ||  N Examples 105910 || Train Total Loss 9.31703 || Validation Total Loss 9.33249\n",
      "Epoch 120 ||  N Examples 106800 || Train Total Loss 9.32402 || Validation Total Loss 9.23559\n",
      "Epoch 121 ||  N Examples 107690 || Train Total Loss 9.31640 || Validation Total Loss 9.31011\n",
      "Epoch 122 ||  N Examples 108580 || Train Total Loss 9.30917 || Validation Total Loss 9.36261\n",
      "Epoch 123 ||  N Examples 109470 || Train Total Loss 9.32461 || Validation Total Loss 9.24373\n",
      "Epoch 124 ||  N Examples 110360 || Train Total Loss 9.31072 || Validation Total Loss 9.27271\n",
      "Epoch 125 ||  N Examples 111250 || Train Total Loss 9.30588 || Validation Total Loss 9.39316\n",
      "Epoch 126 ||  N Examples 112140 || Train Total Loss 9.29775 || Validation Total Loss 9.32440\n",
      "Epoch 127 ||  N Examples 113030 || Train Total Loss 9.29775 || Validation Total Loss 9.29578\n",
      "Epoch 128 ||  N Examples 113920 || Train Total Loss 9.30843 || Validation Total Loss 9.30316\n",
      "Epoch 129 ||  N Examples 114810 || Train Total Loss 9.28868 || Validation Total Loss 9.32095\n",
      "Epoch 130 ||  N Examples 115700 || Train Total Loss 9.31033 || Validation Total Loss 9.23628\n",
      "Epoch 131 ||  N Examples 116590 || Train Total Loss 9.30379 || Validation Total Loss 9.26122\n",
      "Epoch 132 ||  N Examples 117480 || Train Total Loss 9.30555 || Validation Total Loss 9.31028\n",
      "Epoch 133 ||  N Examples 118370 || Train Total Loss 9.29436 || Validation Total Loss 9.21971\n",
      "Epoch 134 ||  N Examples 119260 || Train Total Loss 9.30131 || Validation Total Loss 9.42801\n",
      "Epoch 135 ||  N Examples 120150 || Train Total Loss 9.29255 || Validation Total Loss 9.29426\n",
      "Epoch 136 ||  N Examples 121040 || Train Total Loss 9.29828 || Validation Total Loss 9.25082\n",
      "Epoch 137 ||  N Examples 121930 || Train Total Loss 9.30616 || Validation Total Loss 9.23898\n",
      "Epoch 138 ||  N Examples 122820 || Train Total Loss 9.28852 || Validation Total Loss 9.23641\n",
      "Epoch 139 ||  N Examples 123710 || Train Total Loss 9.29028 || Validation Total Loss 9.28409\n",
      "Epoch 140 ||  N Examples 124600 || Train Total Loss 9.30099 || Validation Total Loss 9.24887\n",
      "Epoch 141 ||  N Examples 125490 || Train Total Loss 9.29002 || Validation Total Loss 9.37457\n",
      "Epoch 142 ||  N Examples 126380 || Train Total Loss 9.30132 || Validation Total Loss 9.34811\n",
      "Epoch 143 ||  N Examples 127270 || Train Total Loss 9.29038 || Validation Total Loss 9.23336\n",
      "Epoch 144 ||  N Examples 128160 || Train Total Loss 9.28190 || Validation Total Loss 9.22088\n",
      "Epoch 145 ||  N Examples 129050 || Train Total Loss 9.28292 || Validation Total Loss 9.32889\n",
      "Epoch 146 ||  N Examples 129940 || Train Total Loss 9.27837 || Validation Total Loss 9.27827\n",
      "Epoch 147 ||  N Examples 130830 || Train Total Loss 9.28862 || Validation Total Loss 9.22691\n",
      "Epoch 148 ||  N Examples 131720 || Train Total Loss 9.28903 || Validation Total Loss 9.24344\n",
      "Epoch 149 ||  N Examples 132610 || Train Total Loss 9.28517 || Validation Total Loss 9.25806\n",
      "Epoch 150 ||  N Examples 133500 || Train Total Loss 9.26814 || Validation Total Loss 9.25354\n",
      "Epoch 151 ||  N Examples 134390 || Train Total Loss 9.27802 || Validation Total Loss 9.32521\n",
      "Epoch 152 ||  N Examples 135280 || Train Total Loss 9.28413 || Validation Total Loss 9.23304\n",
      "Epoch 153 ||  N Examples 136170 || Train Total Loss 9.27238 || Validation Total Loss 9.29735\n",
      "Epoch 154 ||  N Examples 137060 || Train Total Loss 9.26036 || Validation Total Loss 9.28826\n",
      "Epoch 155 ||  N Examples 137950 || Train Total Loss 9.26770 || Validation Total Loss 9.24120\n",
      "Epoch 156 ||  N Examples 138840 || Train Total Loss 9.27680 || Validation Total Loss 9.24879\n",
      "Epoch 157 ||  N Examples 139730 || Train Total Loss 9.25481 || Validation Total Loss 9.21787\n",
      "Epoch 158 ||  N Examples 140620 || Train Total Loss 9.25145 || Validation Total Loss 9.21135\n",
      "Epoch 159 ||  N Examples 141510 || Train Total Loss 9.25835 || Validation Total Loss 9.22471\n",
      "Epoch 160 ||  N Examples 142400 || Train Total Loss 9.25564 || Validation Total Loss 9.36917\n",
      "Epoch 161 ||  N Examples 143290 || Train Total Loss 9.25447 || Validation Total Loss 9.30535\n",
      "Epoch 162 ||  N Examples 144180 || Train Total Loss 9.25877 || Validation Total Loss 9.21512\n",
      "Epoch 163 ||  N Examples 145070 || Train Total Loss 9.24925 || Validation Total Loss 9.21576\n",
      "Epoch 164 ||  N Examples 145960 || Train Total Loss 9.25865 || Validation Total Loss 9.23778\n",
      "Epoch 165 ||  N Examples 146850 || Train Total Loss 9.26321 || Validation Total Loss 9.18024\n",
      "Epoch 166 ||  N Examples 147740 || Train Total Loss 9.25073 || Validation Total Loss 9.32010\n",
      "Epoch 167 ||  N Examples 148630 || Train Total Loss 9.24835 || Validation Total Loss 9.24287\n",
      "Epoch 168 ||  N Examples 149520 || Train Total Loss 9.23497 || Validation Total Loss 9.25231\n",
      "Epoch 169 ||  N Examples 150410 || Train Total Loss 9.24864 || Validation Total Loss 9.25083\n",
      "Epoch 170 ||  N Examples 151300 || Train Total Loss 9.25109 || Validation Total Loss 9.24657\n",
      "Epoch 171 ||  N Examples 152190 || Train Total Loss 9.24096 || Validation Total Loss 9.36534\n",
      "Epoch 172 ||  N Examples 153080 || Train Total Loss 9.23356 || Validation Total Loss 9.26648\n",
      "Epoch 173 ||  N Examples 153970 || Train Total Loss 9.23596 || Validation Total Loss 9.23247\n",
      "Epoch 174 ||  N Examples 154860 || Train Total Loss 9.24154 || Validation Total Loss 9.19108\n",
      "Epoch 175 ||  N Examples 155750 || Train Total Loss 9.23321 || Validation Total Loss 9.33480\n",
      "Epoch 176 ||  N Examples 156640 || Train Total Loss 9.24462 || Validation Total Loss 9.24735\n",
      "Epoch 177 ||  N Examples 157530 || Train Total Loss 9.23310 || Validation Total Loss 9.31562\n",
      "Epoch 178 ||  N Examples 158420 || Train Total Loss 9.22752 || Validation Total Loss 9.24986\n",
      "Epoch 179 ||  N Examples 159310 || Train Total Loss 9.23418 || Validation Total Loss 9.22369\n",
      "Epoch 180 ||  N Examples 160200 || Train Total Loss 9.23298 || Validation Total Loss 9.25970\n",
      "Epoch 181 ||  N Examples 161090 || Train Total Loss 9.22256 || Validation Total Loss 9.20246\n",
      "Epoch 182 ||  N Examples 161980 || Train Total Loss 9.23069 || Validation Total Loss 9.23064\n",
      "Epoch 183 ||  N Examples 162870 || Train Total Loss 9.22937 || Validation Total Loss 9.17603\n",
      "Epoch 184 ||  N Examples 163760 || Train Total Loss 9.22621 || Validation Total Loss 9.21088\n",
      "Epoch 185 ||  N Examples 164650 || Train Total Loss 9.21281 || Validation Total Loss 9.24294\n",
      "Epoch 186 ||  N Examples 165540 || Train Total Loss 9.20682 || Validation Total Loss 9.23286\n",
      "Epoch 187 ||  N Examples 166430 || Train Total Loss 9.22748 || Validation Total Loss 9.23512\n",
      "Epoch 188 ||  N Examples 167320 || Train Total Loss 9.25861 || Validation Total Loss 9.24930\n",
      "Epoch 189 ||  N Examples 168210 || Train Total Loss 9.24812 || Validation Total Loss 9.25303\n",
      "Epoch 190 ||  N Examples 169100 || Train Total Loss 9.21930 || Validation Total Loss 9.18323\n",
      "Epoch 191 ||  N Examples 169990 || Train Total Loss 9.21144 || Validation Total Loss 9.30486\n",
      "Epoch 192 ||  N Examples 170880 || Train Total Loss 9.21249 || Validation Total Loss 9.20944\n",
      "Epoch 193 ||  N Examples 171770 || Train Total Loss 9.20703 || Validation Total Loss 9.27146\n",
      "Epoch 194 ||  N Examples 172660 || Train Total Loss 9.20468 || Validation Total Loss 9.17700\n",
      "Epoch 195 ||  N Examples 173550 || Train Total Loss 9.20361 || Validation Total Loss 9.15405\n",
      "Epoch 196 ||  N Examples 174440 || Train Total Loss 9.18984 || Validation Total Loss 9.24541\n",
      "Epoch 197 ||  N Examples 175330 || Train Total Loss 9.19891 || Validation Total Loss 9.24539\n",
      "Epoch 198 ||  N Examples 176220 || Train Total Loss 9.20093 || Validation Total Loss 9.21796\n",
      "Epoch 199 ||  N Examples 177110 || Train Total Loss 9.20170 || Validation Total Loss 9.22089\n",
      "Epoch 200 ||  N Examples 178000 || Train Total Loss 9.20670 || Validation Total Loss 9.16959\n",
      "Epoch 201 ||  N Examples 178890 || Train Total Loss 9.21680 || Validation Total Loss 9.22110\n",
      "Epoch 202 ||  N Examples 179780 || Train Total Loss 9.20040 || Validation Total Loss 9.29163\n",
      "Epoch 203 ||  N Examples 180670 || Train Total Loss 9.19013 || Validation Total Loss 9.19778\n",
      "Epoch 204 ||  N Examples 181560 || Train Total Loss 9.19847 || Validation Total Loss 9.25354\n",
      "Epoch 205 ||  N Examples 182450 || Train Total Loss 9.19078 || Validation Total Loss 9.24427\n",
      "Epoch 206 ||  N Examples 183340 || Train Total Loss 9.17685 || Validation Total Loss 9.31490\n",
      "Epoch 207 ||  N Examples 184230 || Train Total Loss 9.18596 || Validation Total Loss 9.31876\n",
      "Epoch 208 ||  N Examples 185120 || Train Total Loss 9.19797 || Validation Total Loss 9.24122\n",
      "Epoch 209 ||  N Examples 186010 || Train Total Loss 9.19368 || Validation Total Loss 9.19832\n",
      "Epoch 210 ||  N Examples 186900 || Train Total Loss 9.18321 || Validation Total Loss 9.33511\n",
      "Epoch 211 ||  N Examples 187790 || Train Total Loss 9.18391 || Validation Total Loss 9.22012\n",
      "Epoch 212 ||  N Examples 188680 || Train Total Loss 9.18298 || Validation Total Loss 9.18914\n",
      "Epoch 213 ||  N Examples 189570 || Train Total Loss 9.17155 || Validation Total Loss 9.18707\n",
      "Epoch 214 ||  N Examples 190460 || Train Total Loss 9.18103 || Validation Total Loss 9.24010\n",
      "Epoch 215 ||  N Examples 191350 || Train Total Loss 9.18022 || Validation Total Loss 9.23931\n",
      "Epoch 216 ||  N Examples 192240 || Train Total Loss 9.17782 || Validation Total Loss 9.19158\n",
      "Epoch 217 ||  N Examples 193130 || Train Total Loss 9.17738 || Validation Total Loss 9.11259\n",
      "Epoch 218 ||  N Examples 194020 || Train Total Loss 9.17601 || Validation Total Loss 9.21362\n",
      "Epoch 219 ||  N Examples 194910 || Train Total Loss 9.17553 || Validation Total Loss 9.21027\n",
      "Epoch 220 ||  N Examples 195800 || Train Total Loss 9.18129 || Validation Total Loss 9.19491\n",
      "Epoch 221 ||  N Examples 196690 || Train Total Loss 9.18425 || Validation Total Loss 9.19588\n",
      "Epoch 222 ||  N Examples 197580 || Train Total Loss 9.16431 || Validation Total Loss 9.18212\n",
      "Epoch 223 ||  N Examples 198470 || Train Total Loss 9.17450 || Validation Total Loss 9.12174\n",
      "Epoch 224 ||  N Examples 199360 || Train Total Loss 9.18870 || Validation Total Loss 9.20633\n",
      "Epoch 225 ||  N Examples 200250 || Train Total Loss 9.16799 || Validation Total Loss 9.18586\n",
      "Epoch 226 ||  N Examples 201140 || Train Total Loss 9.16896 || Validation Total Loss 9.19172\n",
      "Epoch 227 ||  N Examples 202030 || Train Total Loss 9.16980 || Validation Total Loss 9.23487\n",
      "Epoch 228 ||  N Examples 202920 || Train Total Loss 9.18118 || Validation Total Loss 9.22754\n",
      "Epoch 229 ||  N Examples 203810 || Train Total Loss 9.17189 || Validation Total Loss 9.40418\n",
      "Epoch 230 ||  N Examples 204700 || Train Total Loss 9.15833 || Validation Total Loss 9.12993\n",
      "Epoch 231 ||  N Examples 205590 || Train Total Loss 9.17063 || Validation Total Loss 9.20163\n",
      "Epoch 232 ||  N Examples 206480 || Train Total Loss 9.17127 || Validation Total Loss 9.16002\n",
      "Epoch 233 ||  N Examples 207370 || Train Total Loss 9.16064 || Validation Total Loss 9.16686\n",
      "Epoch 234 ||  N Examples 208260 || Train Total Loss 9.15465 || Validation Total Loss 9.12216\n",
      "Epoch 235 ||  N Examples 209150 || Train Total Loss 9.16473 || Validation Total Loss 9.13498\n",
      "Epoch 236 ||  N Examples 210040 || Train Total Loss 9.15775 || Validation Total Loss 9.24652\n",
      "Epoch 237 ||  N Examples 210930 || Train Total Loss 9.17440 || Validation Total Loss 9.24550\n",
      "Epoch 238 ||  N Examples 211820 || Train Total Loss 9.15515 || Validation Total Loss 9.21805\n",
      "Epoch 239 ||  N Examples 212710 || Train Total Loss 9.15964 || Validation Total Loss 9.16190\n",
      "Epoch 240 ||  N Examples 213600 || Train Total Loss 9.15231 || Validation Total Loss 9.22206\n",
      "Epoch 241 ||  N Examples 214490 || Train Total Loss 9.15020 || Validation Total Loss 9.21704\n",
      "Epoch 242 ||  N Examples 215380 || Train Total Loss 9.17116 || Validation Total Loss 9.45876\n",
      "Epoch 243 ||  N Examples 216270 || Train Total Loss 9.25136 || Validation Total Loss 9.22992\n",
      "Epoch 244 ||  N Examples 217160 || Train Total Loss 9.16990 || Validation Total Loss 9.24438\n",
      "Epoch 245 ||  N Examples 218050 || Train Total Loss 9.16077 || Validation Total Loss 9.23318\n",
      "Epoch 246 ||  N Examples 218940 || Train Total Loss 9.17075 || Validation Total Loss 9.24922\n",
      "Epoch 247 ||  N Examples 219830 || Train Total Loss 9.16749 || Validation Total Loss 9.24238\n",
      "Epoch 248 ||  N Examples 220720 || Train Total Loss 9.16017 || Validation Total Loss 9.33626\n",
      "Epoch 249 ||  N Examples 221610 || Train Total Loss 9.15863 || Validation Total Loss 9.19975\n",
      "Epoch 250 ||  N Examples 222500 || Train Total Loss 9.14941 || Validation Total Loss 9.21125\n",
      "Epoch 251 ||  N Examples 223390 || Train Total Loss 9.14629 || Validation Total Loss 9.16653\n",
      "Epoch 252 ||  N Examples 224280 || Train Total Loss 9.14893 || Validation Total Loss 9.18788\n",
      "Epoch 253 ||  N Examples 225170 || Train Total Loss 9.15438 || Validation Total Loss 9.17287\n",
      "Epoch 254 ||  N Examples 226060 || Train Total Loss 9.15452 || Validation Total Loss 9.20951\n",
      "Epoch 255 ||  N Examples 226950 || Train Total Loss 9.15807 || Validation Total Loss 9.18669\n",
      "Epoch 256 ||  N Examples 227840 || Train Total Loss 9.15516 || Validation Total Loss 9.18507\n",
      "Epoch 257 ||  N Examples 228730 || Train Total Loss 9.16341 || Validation Total Loss 9.22813\n",
      "Epoch 258 ||  N Examples 229620 || Train Total Loss 9.14909 || Validation Total Loss 9.17450\n",
      "Epoch 259 ||  N Examples 230510 || Train Total Loss 9.14092 || Validation Total Loss 9.19652\n",
      "Epoch 260 ||  N Examples 231400 || Train Total Loss 9.14040 || Validation Total Loss 9.19440\n",
      "Epoch 261 ||  N Examples 232290 || Train Total Loss 9.14489 || Validation Total Loss 9.17575\n",
      "Epoch 262 ||  N Examples 233180 || Train Total Loss 9.22242 || Validation Total Loss 9.28758\n",
      "Epoch 263 ||  N Examples 234070 || Train Total Loss 9.19214 || Validation Total Loss 9.43116\n",
      "Epoch 264 ||  N Examples 234960 || Train Total Loss 9.15970 || Validation Total Loss 9.26175\n",
      "Epoch 265 ||  N Examples 235850 || Train Total Loss 9.15558 || Validation Total Loss 9.22603\n",
      "Epoch 266 ||  N Examples 236740 || Train Total Loss 9.14434 || Validation Total Loss 9.16247\n",
      "Epoch 267 ||  N Examples 237630 || Train Total Loss 9.14587 || Validation Total Loss 9.29705\n",
      "Epoch 268 ||  N Examples 238520 || Train Total Loss 9.13557 || Validation Total Loss 9.14948\n",
      "Epoch 269 ||  N Examples 239410 || Train Total Loss 9.14210 || Validation Total Loss 9.29361\n",
      "Epoch 270 ||  N Examples 240300 || Train Total Loss 9.14685 || Validation Total Loss 9.15369\n",
      "Epoch 271 ||  N Examples 241190 || Train Total Loss 9.13456 || Validation Total Loss 9.17805\n",
      "Epoch 272 ||  N Examples 242080 || Train Total Loss 9.14007 || Validation Total Loss 9.26210\n",
      "Epoch 273 ||  N Examples 242970 || Train Total Loss 9.13288 || Validation Total Loss 9.18900\n",
      "Epoch 274 ||  N Examples 243860 || Train Total Loss 9.13961 || Validation Total Loss 9.20010\n",
      "Epoch 275 ||  N Examples 244750 || Train Total Loss 9.13783 || Validation Total Loss 9.20366\n",
      "Epoch 276 ||  N Examples 245640 || Train Total Loss 9.13874 || Validation Total Loss 9.19769\n",
      "Epoch 277 ||  N Examples 246530 || Train Total Loss 9.14214 || Validation Total Loss 9.14439\n",
      "Epoch 278 ||  N Examples 247420 || Train Total Loss 9.13938 || Validation Total Loss 9.15174\n",
      "Epoch 279 ||  N Examples 248310 || Train Total Loss 9.13480 || Validation Total Loss 9.19702\n",
      "Epoch 280 ||  N Examples 249200 || Train Total Loss 9.12347 || Validation Total Loss 9.16395\n",
      "Epoch 281 ||  N Examples 250090 || Train Total Loss 9.13031 || Validation Total Loss 9.21460\n",
      "Epoch 282 ||  N Examples 250980 || Train Total Loss 9.11846 || Validation Total Loss 9.14702\n",
      "Epoch 283 ||  N Examples 251870 || Train Total Loss 9.13411 || Validation Total Loss 9.14831\n",
      "Epoch 284 ||  N Examples 252760 || Train Total Loss 9.12809 || Validation Total Loss 9.18510\n",
      "Epoch 285 ||  N Examples 253650 || Train Total Loss 9.13319 || Validation Total Loss 9.16980\n",
      "Epoch 286 ||  N Examples 254540 || Train Total Loss 9.12755 || Validation Total Loss 9.20262\n",
      "Epoch 287 ||  N Examples 255430 || Train Total Loss 9.12488 || Validation Total Loss 9.19903\n",
      "Epoch 288 ||  N Examples 256320 || Train Total Loss 9.13869 || Validation Total Loss 9.24164\n",
      "Epoch 289 ||  N Examples 257210 || Train Total Loss 9.13137 || Validation Total Loss 9.28422\n",
      "Epoch 290 ||  N Examples 258100 || Train Total Loss 9.12998 || Validation Total Loss 9.42610\n",
      "Epoch 291 ||  N Examples 258990 || Train Total Loss 9.12355 || Validation Total Loss 9.17148\n",
      "Epoch 292 ||  N Examples 259880 || Train Total Loss 9.12118 || Validation Total Loss 9.14926\n",
      "Epoch 293 ||  N Examples 260770 || Train Total Loss 9.12248 || Validation Total Loss 9.19862\n",
      "Epoch 294 ||  N Examples 261660 || Train Total Loss 9.13184 || Validation Total Loss 9.25990\n",
      "Epoch 295 ||  N Examples 262550 || Train Total Loss 9.12688 || Validation Total Loss 9.16006\n",
      "Epoch 296 ||  N Examples 263440 || Train Total Loss 9.13401 || Validation Total Loss 9.23989\n",
      "Epoch 297 ||  N Examples 264330 || Train Total Loss 9.13112 || Validation Total Loss 9.22900\n",
      "Epoch 298 ||  N Examples 265220 || Train Total Loss 9.11821 || Validation Total Loss 9.15053\n",
      "Epoch 299 ||  N Examples 266110 || Train Total Loss 9.13102 || Validation Total Loss 9.24214\n",
      "Epoch 300 ||  N Examples 267000 || Train Total Loss 9.12475 || Validation Total Loss 9.19458\n",
      "Epoch 301 ||  N Examples 267890 || Train Total Loss 9.12894 || Validation Total Loss 9.15318\n",
      "Epoch 302 ||  N Examples 268780 || Train Total Loss 9.12834 || Validation Total Loss 9.23575\n",
      "Epoch 303 ||  N Examples 269670 || Train Total Loss 9.12460 || Validation Total Loss 9.28518\n",
      "Epoch 304 ||  N Examples 270560 || Train Total Loss 9.12952 || Validation Total Loss 9.15887\n",
      "Epoch 305 ||  N Examples 271450 || Train Total Loss 9.13086 || Validation Total Loss 9.10350\n",
      "Epoch 306 ||  N Examples 272340 || Train Total Loss 9.12404 || Validation Total Loss 9.17146\n",
      "Epoch 307 ||  N Examples 273230 || Train Total Loss 9.12072 || Validation Total Loss 9.17456\n",
      "Epoch 308 ||  N Examples 274120 || Train Total Loss 9.12700 || Validation Total Loss 9.17134\n",
      "Epoch 309 ||  N Examples 275010 || Train Total Loss 9.11607 || Validation Total Loss 9.16090\n",
      "Epoch 310 ||  N Examples 275900 || Train Total Loss 9.12243 || Validation Total Loss 9.19030\n",
      "Epoch 311 ||  N Examples 276790 || Train Total Loss 9.13204 || Validation Total Loss 9.15262\n",
      "Epoch 312 ||  N Examples 277680 || Train Total Loss 9.11894 || Validation Total Loss 9.12653\n",
      "Epoch 313 ||  N Examples 278570 || Train Total Loss 9.10698 || Validation Total Loss 9.12770\n",
      "Epoch 314 ||  N Examples 279460 || Train Total Loss 9.13035 || Validation Total Loss 9.19402\n",
      "Epoch 315 ||  N Examples 280350 || Train Total Loss 9.10750 || Validation Total Loss 9.19560\n",
      "Epoch 316 ||  N Examples 281240 || Train Total Loss 9.12728 || Validation Total Loss 9.19706\n",
      "Epoch 317 ||  N Examples 282130 || Train Total Loss 9.12873 || Validation Total Loss 9.20151\n",
      "Epoch 318 ||  N Examples 283020 || Train Total Loss 9.11693 || Validation Total Loss 9.17935\n",
      "Epoch 319 ||  N Examples 283910 || Train Total Loss 9.10554 || Validation Total Loss 9.14310\n",
      "Epoch 320 ||  N Examples 284800 || Train Total Loss 9.12510 || Validation Total Loss 9.20694\n",
      "Epoch 321 ||  N Examples 285690 || Train Total Loss 9.11959 || Validation Total Loss 9.13879\n",
      "Epoch 322 ||  N Examples 286580 || Train Total Loss 9.11262 || Validation Total Loss 9.12406\n",
      "Epoch 323 ||  N Examples 287470 || Train Total Loss 9.11545 || Validation Total Loss 9.15884\n",
      "Epoch 324 ||  N Examples 288360 || Train Total Loss 9.11646 || Validation Total Loss 9.14461\n",
      "Epoch 325 ||  N Examples 289250 || Train Total Loss 9.11756 || Validation Total Loss 9.24028\n",
      "Epoch 326 ||  N Examples 290140 || Train Total Loss 9.11695 || Validation Total Loss 9.13088\n",
      "Epoch 327 ||  N Examples 291030 || Train Total Loss 9.10494 || Validation Total Loss 9.14508\n",
      "Epoch 328 ||  N Examples 291920 || Train Total Loss 9.12264 || Validation Total Loss 9.25404\n",
      "Epoch 329 ||  N Examples 292810 || Train Total Loss 9.10991 || Validation Total Loss 9.14021\n",
      "Epoch 330 ||  N Examples 293700 || Train Total Loss 9.10602 || Validation Total Loss 9.23891\n",
      "Epoch 331 ||  N Examples 294590 || Train Total Loss 9.10872 || Validation Total Loss 9.19245\n",
      "Epoch 332 ||  N Examples 295480 || Train Total Loss 9.11099 || Validation Total Loss 9.18120\n",
      "Epoch 333 ||  N Examples 296370 || Train Total Loss 9.11360 || Validation Total Loss 9.15003\n",
      "Epoch 334 ||  N Examples 297260 || Train Total Loss 9.12050 || Validation Total Loss 9.21891\n",
      "Epoch 335 ||  N Examples 298150 || Train Total Loss 9.11789 || Validation Total Loss 9.13055\n",
      "Epoch 336 ||  N Examples 299040 || Train Total Loss 9.10441 || Validation Total Loss 9.17289\n",
      "Epoch 337 ||  N Examples 299930 || Train Total Loss 9.10683 || Validation Total Loss 9.26349\n",
      "Epoch 338 ||  N Examples 300820 || Train Total Loss 9.10592 || Validation Total Loss 9.16792\n",
      "Epoch 339 ||  N Examples 301710 || Train Total Loss 9.10086 || Validation Total Loss 9.30364\n",
      "Epoch 340 ||  N Examples 302600 || Train Total Loss 9.10796 || Validation Total Loss 9.18248\n",
      "Epoch 341 ||  N Examples 303490 || Train Total Loss 9.11448 || Validation Total Loss 9.26261\n",
      "Epoch 342 ||  N Examples 304380 || Train Total Loss 9.11190 || Validation Total Loss 9.23704\n",
      "Epoch 343 ||  N Examples 305270 || Train Total Loss 9.10662 || Validation Total Loss 9.28340\n",
      "Epoch 344 ||  N Examples 306160 || Train Total Loss 9.69906 || Validation Total Loss 9.50054\n",
      "Epoch 345 ||  N Examples 307050 || Train Total Loss 9.35298 || Validation Total Loss 9.30919\n",
      "Epoch 346 ||  N Examples 307940 || Train Total Loss 9.23674 || Validation Total Loss 9.30764\n",
      "Epoch 347 ||  N Examples 308830 || Train Total Loss 9.19584 || Validation Total Loss 9.25253\n",
      "Epoch 348 ||  N Examples 309720 || Train Total Loss 9.17925 || Validation Total Loss 9.25301\n",
      "Epoch 349 ||  N Examples 310610 || Train Total Loss 9.17593 || Validation Total Loss 9.17064\n",
      "Epoch 350 ||  N Examples 311500 || Train Total Loss 9.16066 || Validation Total Loss 9.15425\n",
      "Epoch 351 ||  N Examples 312390 || Train Total Loss 9.15808 || Validation Total Loss 9.21672\n",
      "Epoch 352 ||  N Examples 313280 || Train Total Loss 9.14284 || Validation Total Loss 9.17157\n",
      "Epoch 353 ||  N Examples 314170 || Train Total Loss 9.15716 || Validation Total Loss 9.19414\n",
      "Epoch 354 ||  N Examples 315060 || Train Total Loss 9.14211 || Validation Total Loss 9.19252\n",
      "Epoch 355 ||  N Examples 315950 || Train Total Loss 9.13830 || Validation Total Loss 9.16377\n",
      "Epoch 356 ||  N Examples 316840 || Train Total Loss 9.14109 || Validation Total Loss 9.25840\n",
      "Epoch 357 ||  N Examples 317730 || Train Total Loss 9.13218 || Validation Total Loss 9.14225\n",
      "Epoch 358 ||  N Examples 318620 || Train Total Loss 9.11910 || Validation Total Loss 9.30494\n",
      "Epoch 359 ||  N Examples 319510 || Train Total Loss 9.12855 || Validation Total Loss 9.15780\n",
      "Epoch 360 ||  N Examples 320400 || Train Total Loss 9.13144 || Validation Total Loss 9.25490\n",
      "Epoch 361 ||  N Examples 321290 || Train Total Loss 9.11995 || Validation Total Loss 9.17083\n",
      "Epoch 362 ||  N Examples 322180 || Train Total Loss 9.11740 || Validation Total Loss 9.28275\n",
      "Epoch 363 ||  N Examples 323070 || Train Total Loss 9.11726 || Validation Total Loss 9.13485\n",
      "Epoch 364 ||  N Examples 323960 || Train Total Loss 9.12313 || Validation Total Loss 9.22241\n",
      "Epoch 365 ||  N Examples 324850 || Train Total Loss 9.11134 || Validation Total Loss 9.24282\n",
      "Epoch 366 ||  N Examples 325740 || Train Total Loss 9.11850 || Validation Total Loss 9.30322\n",
      "Epoch 367 ||  N Examples 326630 || Train Total Loss 9.12345 || Validation Total Loss 9.28947\n",
      "Epoch 368 ||  N Examples 327520 || Train Total Loss 9.11225 || Validation Total Loss 9.14053\n",
      "Epoch 369 ||  N Examples 328410 || Train Total Loss 9.11363 || Validation Total Loss 9.29113\n",
      "Epoch 370 ||  N Examples 329300 || Train Total Loss 9.11526 || Validation Total Loss 9.21029\n",
      "Epoch 371 ||  N Examples 330190 || Train Total Loss 9.10422 || Validation Total Loss 9.17930\n",
      "Epoch 372 ||  N Examples 331080 || Train Total Loss 9.09823 || Validation Total Loss 9.23574\n",
      "Epoch 373 ||  N Examples 331970 || Train Total Loss 9.10745 || Validation Total Loss 9.16166\n",
      "Epoch 374 ||  N Examples 332860 || Train Total Loss 9.11277 || Validation Total Loss 9.14082\n",
      "Epoch 375 ||  N Examples 333750 || Train Total Loss 9.10599 || Validation Total Loss 9.16531\n",
      "Epoch 376 ||  N Examples 334640 || Train Total Loss 9.10216 || Validation Total Loss 9.29776\n",
      "Epoch 377 ||  N Examples 335530 || Train Total Loss 9.09179 || Validation Total Loss 9.24054\n",
      "Epoch 378 ||  N Examples 336420 || Train Total Loss 9.09326 || Validation Total Loss 9.20105\n",
      "Epoch 379 ||  N Examples 337310 || Train Total Loss 9.10366 || Validation Total Loss 9.19378\n",
      "Epoch 380 ||  N Examples 338200 || Train Total Loss 9.09998 || Validation Total Loss 9.26397\n",
      "Epoch 381 ||  N Examples 339090 || Train Total Loss 9.09800 || Validation Total Loss 9.19217\n",
      "Epoch 382 ||  N Examples 339980 || Train Total Loss 9.10582 || Validation Total Loss 9.24584\n",
      "Epoch 383 ||  N Examples 340870 || Train Total Loss 9.10355 || Validation Total Loss 9.19212\n",
      "Epoch 384 ||  N Examples 341760 || Train Total Loss 9.09796 || Validation Total Loss 9.17236\n",
      "Epoch 385 ||  N Examples 342650 || Train Total Loss 9.13315 || Validation Total Loss 9.16127\n",
      "Epoch 386 ||  N Examples 343540 || Train Total Loss 9.10449 || Validation Total Loss 9.26118\n",
      "Epoch 387 ||  N Examples 344430 || Train Total Loss 9.09674 || Validation Total Loss 9.15975\n",
      "Epoch 388 ||  N Examples 345320 || Train Total Loss 9.09951 || Validation Total Loss 9.27764\n",
      "Epoch 389 ||  N Examples 346210 || Train Total Loss 9.10004 || Validation Total Loss 9.20248\n",
      "Epoch 390 ||  N Examples 347100 || Train Total Loss 9.09632 || Validation Total Loss 9.19918\n",
      "Epoch 391 ||  N Examples 347990 || Train Total Loss 9.09455 || Validation Total Loss 9.12650\n"
     ]
    }
   ],
   "source": [
    "trainer.train(data_loader, 1000)"
   ]
  },
  {
   "cell_type": "markdown",
   "metadata": {},
   "source": [
    "## Visualize Latent Space"
   ]
  },
  {
   "cell_type": "code",
   "execution_count": 62,
   "metadata": {},
   "outputs": [],
   "source": [
    "with torch.no_grad():\n",
    "    (z_mean, z_var), (q_z, p_z), z = model.to_latent(dataset.data)"
   ]
  },
  {
   "cell_type": "code",
   "execution_count": 63,
   "metadata": {},
   "outputs": [],
   "source": [
    "df = pd.DataFrame({\"z0\": z[:, 0], \n",
    "                    \"z1\": z[:, 1], \n",
    "                    \"pos\": dataset.pos % (2 * np.pi)})\n",
    "#                     \"pos\": (dataset.pos + dataset.angle) % (2 * np.pi)})"
   ]
  },
  {
   "cell_type": "code",
   "execution_count": 64,
   "metadata": {},
   "outputs": [
    {
     "data": {
      "text/plain": [
       "<AxesSubplot:xlabel='z0', ylabel='z1'>"
      ]
     },
     "execution_count": 64,
     "metadata": {},
     "output_type": "execute_result"
    },
    {
     "data": {
      "image/png": "[encoded data removed]",
      "text/plain": [
       "<Figure size 720x720 with 1 Axes>"
      ]
     },
     "metadata": {
      "needs_background": "light"
     },
     "output_type": "display_data"
    }
   ],
   "source": [
    "plt.figure(figsize=(10, 10))\n",
    "sns.scatterplot(x=\"z0\", y=\"z1\", hue=\"pos\", data=df, palette=\"rainbow\")"
   ]
  },
  {
   "cell_type": "code",
   "execution_count": null,
   "metadata": {},
   "outputs": [],
   "source": []
  }
 ],
 "metadata": {
  "kernelspec": {
   "display_name": "py3",
   "language": "python",
   "name": "py3"
  },
  "language_info": {
   "codemirror_mode": {
    "name": "ipython",
    "version": 3
   },
   "file_extension": ".py",
   "mimetype": "text/x-python",
   "name": "python",
   "nbconvert_exporter": "python",
   "pygments_lexer": "ipython3",
   "version": "3.8.8"
  }
 },
 "nbformat": 4,
 "nbformat_minor": 5
}
