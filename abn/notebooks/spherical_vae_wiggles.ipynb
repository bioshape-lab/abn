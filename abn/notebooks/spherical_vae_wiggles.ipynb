{
 "cells": [
  {
   "cell_type": "code",
   "execution_count": 1,
   "metadata": {},
   "outputs": [],
   "source": [
    "%load_ext autoreload\n",
    "%autoreload 2\n",
    "\n",
    "import sys\n",
    "sys.path.append(\"../../\")\n",
    "\n",
    "import matplotlib.pyplot as plt\n",
    "import seaborn as sns\n",
    "sns.set_style(\"darkgrid\")\n",
    "%matplotlib inline"
   ]
  },
  {
   "cell_type": "code",
   "execution_count": 3,
   "metadata": {},
   "outputs": [],
   "source": [
    "import numpy as np\n",
    "import torch\n",
    "import torch.optim as optim\n",
    "import pandas as pd\n",
    "from abn.models.spherical_vae import SphericalVAE\n",
    "from abn.trainer.svae_trainer import SphericalVAETrainer\n",
    "from abn.datasets.wiggles import Wiggles\n",
    "from abn.datasets.data_loader import TrainValLoader"
   ]
  },
  {
   "cell_type": "markdown",
   "metadata": {},
   "source": [
    "# Hyperspherical VAE"
   ]
  },
  {
   "cell_type": "markdown",
   "metadata": {},
   "source": [
    "wiggles_dataset = Wiggles()## Load Dataset"
   ]
  },
  {
   "cell_type": "code",
   "execution_count": 65,
   "metadata": {},
   "outputs": [
    {
     "name": "stderr",
     "output_type": "stream",
     "text": [
      "/Users/sophia/projects/abn/abn/notebooks/../../abn/datasets/wiggles.py:64: UserWarning: To copy construct from a tensor, it is recommended to use sourceTensor.clone().detach() or sourceTensor.clone().detach().requires_grad_(True), rather than torch.tensor(sourceTensor).\n",
      "  return torch.tensor(torch.stack([torch.cos(angle), torch.sin(angle)], axis=0))\n",
      "/Users/sophia/projects/abn/abn/notebooks/../../abn/datasets/wiggles.py:69: UserWarning: To copy construct from a tensor, it is recommended to use sourceTensor.clone().detach() or sourceTensor.clone().detach().requires_grad_(True), rather than torch.tensor(sourceTensor).\n",
      "  \"ik,jk->ij\", polar(angles), torch.diag(torch.tensor(amplitudes))\n",
      "/Users/sophia/projects/abn/abn/notebooks/../../abn/datasets/wiggles.py:71: UserWarning: To copy construct from a tensor, it is recommended to use sourceTensor.clone().detach() or sourceTensor.clone().detach().requires_grad_(True), rather than torch.tensor(sourceTensor).\n",
      "  wiggly_circle = torch.tensor(wiggly_circle)\n"
     ]
    }
   ],
   "source": [
    "dataset = Wiggles(amp_wiggles=0)"
   ]
  },
  {
   "cell_type": "markdown",
   "metadata": {},
   "source": [
    "## Normalize the Data\n",
    "\n",
    "Note: Different normalization schemes have a *HUGE* impact on the training procedure.\n",
    "Options that should be explored include:\n",
    "- Z-scoring each neuron's response across the entire dataset\n",
    "- Setting min of the entire dataset to 0 and max to 1\n",
    "- Setting the norm of each neural state vector to 1\n",
    "\n",
    "They are each implemented below. Uncomment options to try them out"
   ]
  },
  {
   "cell_type": "code",
   "execution_count": 66,
   "metadata": {},
   "outputs": [
    {
     "data": {
      "text/plain": [
       "'\\nZ-Scoring\\n'"
      ]
     },
     "execution_count": 66,
     "metadata": {},
     "output_type": "execute_result"
    }
   ],
   "source": [
    "\"\"\"\n",
    "Z-Scoring\n",
    "\"\"\"\n",
    "# dataset.data = dataset.data - dataset.data.mean(axis=-1, keepdim=True)\n",
    "# dataset.data = dataset.data / dataset.data.std(axis=-1, keepdim=True)\n",
    "# print(dataset.data.std(axis=-1))"
   ]
  },
  {
   "cell_type": "code",
   "execution_count": 67,
   "metadata": {},
   "outputs": [
    {
     "data": {
      "text/plain": [
       "'\\nMin 0 Max 1\\n'"
      ]
     },
     "execution_count": 67,
     "metadata": {},
     "output_type": "execute_result"
    }
   ],
   "source": [
    "\"\"\"\n",
    "Min 0 Max 1\n",
    "\"\"\"\n",
    "# dataset.data = dataset.data - dataset.data.min()\n",
    "# dataset.data = dataset.data / dataset.data.max()"
   ]
  },
  {
   "cell_type": "code",
   "execution_count": 68,
   "metadata": {},
   "outputs": [],
   "source": [
    "\"\"\"\n",
    "Sum to 1\n",
    "\"\"\"\n",
    "dataset.data = dataset.data - dataset.data.min(axis=-1, keepdim=True)[0]\n",
    "dataset.data = dataset.data / dataset.data.sum(axis=-1, keepdim=True)"
   ]
  },
  {
   "cell_type": "code",
   "execution_count": 69,
   "metadata": {},
   "outputs": [
    {
     "data": {
      "text/plain": [
       "'\\nUnit Norm\\n'"
      ]
     },
     "execution_count": 69,
     "metadata": {},
     "output_type": "execute_result"
    }
   ],
   "source": [
    "\"\"\"\n",
    "Unit Norm\n",
    "\"\"\"\n",
    "# dataset.data = dataset.data / torch.linalg.norm(dataset.data, dim=-1, keepdim=True)\n",
    "# print(torch.linalg.norm(dataset.data, dim=-1))"
   ]
  },
  {
   "cell_type": "markdown",
   "metadata": {},
   "source": [
    "## Train Val Split and Generate Batches"
   ]
  },
  {
   "cell_type": "code",
   "execution_count": 70,
   "metadata": {},
   "outputs": [],
   "source": [
    "data_loader = TrainValLoader(batch_size=20, fraction_val=0.2)\n",
    "data_loader.load(dataset)"
   ]
  },
  {
   "cell_type": "markdown",
   "metadata": {},
   "source": [
    "## Construct Model"
   ]
  },
  {
   "cell_type": "code",
   "execution_count": 71,
   "metadata": {},
   "outputs": [],
   "source": [
    "model = SphericalVAE(input_dim=10,\n",
    "                     encoder_dims=[10, 10, 5, 5],\n",
    "                     latent_dim=2,\n",
    "                     distribution=\"vmf\")\n",
    "\n",
    "optimizer = optim.Adam(model.parameters(), lr=0.001)\n",
    "\n",
    "trainer = SphericalVAETrainer(model=model, optimizer=optimizer)"
   ]
  },
  {
   "cell_type": "code",
   "execution_count": 72,
   "metadata": {},
   "outputs": [
    {
     "data": {
      "text/plain": [
       "SphericalVAE(\n",
       "  (encoder): Sequential(\n",
       "    (fullyconnected_0): Linear(in_features=10, out_features=10, bias=True)\n",
       "    (activation_0): ReLU()\n",
       "    (fullyconnected_1): Linear(in_features=10, out_features=10, bias=True)\n",
       "    (activation_1): ReLU()\n",
       "    (fullyconnected_2): Linear(in_features=10, out_features=5, bias=True)\n",
       "    (activation_2): ReLU()\n",
       "    (fullyconnected_3): Linear(in_features=5, out_features=5, bias=True)\n",
       "    (out_3): ReLU()\n",
       "  )\n",
       "  (mu): Linear(in_features=5, out_features=2, bias=True)\n",
       "  (var): Linear(in_features=5, out_features=1, bias=True)\n",
       "  (decoder): Sequential(\n",
       "    (fullyconnected_0): Linear(in_features=2, out_features=5, bias=True)\n",
       "    (activation_0): ReLU()\n",
       "    (fullyconnected_1): Linear(in_features=5, out_features=5, bias=True)\n",
       "    (activation_1): ReLU()\n",
       "    (fullyconnected_2): Linear(in_features=5, out_features=10, bias=True)\n",
       "    (activation_2): ReLU()\n",
       "    (fullyconnected_3): Linear(in_features=10, out_features=10, bias=True)\n",
       "    (activation_3): ReLU()\n",
       "    (fullyconnected_4): Linear(in_features=10, out_features=10, bias=True)\n",
       "  )\n",
       ")"
      ]
     },
     "execution_count": 72,
     "metadata": {},
     "output_type": "execute_result"
    }
   ],
   "source": [
    "model"
   ]
  },
  {
   "cell_type": "markdown",
   "metadata": {},
   "source": [
    "## Train Model"
   ]
  },
  {
   "cell_type": "code",
   "execution_count": 73,
   "metadata": {},
   "outputs": [
    {
     "name": "stderr",
     "output_type": "stream",
     "text": [
      "/Users/sophia/opt/anaconda3/envs/geomstats/lib/python3.8/site-packages/torch/distributions/distribution.py:45: UserWarning: <class 'abn.hyperspherical_vae.distributions.hyperspherical_uniform.HypersphericalUniform'> does not define `arg_constraints`. Please set `arg_constraints = {}` or initialize the distribution with `validate_args=False` to turn off validation.\n",
      "  warnings.warn(f'{self.__class__} does not define `arg_constraints`. ' +\n"
     ]
    },
    {
     "name": "stdout",
     "output_type": "stream",
     "text": [
      "Epoch 0 ||  N Examples 0 || Train Total Loss 6.62652 || Validation Total Loss 6.09364\n",
      "Epoch 1 ||  N Examples 1200 || Train Total Loss 5.21222 || Validation Total Loss 4.27548\n",
      "Epoch 2 ||  N Examples 2400 || Train Total Loss 3.78163 || Validation Total Loss 3.52565\n",
      "Epoch 3 ||  N Examples 3600 || Train Total Loss 3.43319 || Validation Total Loss 3.38843\n",
      "Epoch 4 ||  N Examples 4800 || Train Total Loss 3.35377 || Validation Total Loss 3.34021\n",
      "Epoch 5 ||  N Examples 6000 || Train Total Loss 3.31741 || Validation Total Loss 3.30862\n",
      "Epoch 6 ||  N Examples 7200 || Train Total Loss 3.30201 || Validation Total Loss 3.30295\n",
      "Epoch 7 ||  N Examples 8400 || Train Total Loss 3.29812 || Validation Total Loss 3.29862\n",
      "Epoch 8 ||  N Examples 9600 || Train Total Loss 3.29471 || Validation Total Loss 3.29643\n",
      "Epoch 9 ||  N Examples 10800 || Train Total Loss 3.29289 || Validation Total Loss 3.29615\n",
      "Epoch 10 ||  N Examples 12000 || Train Total Loss 3.29168 || Validation Total Loss 3.29268\n",
      "Epoch 11 ||  N Examples 13200 || Train Total Loss 3.29004 || Validation Total Loss 3.29072\n",
      "Epoch 12 ||  N Examples 14400 || Train Total Loss 3.28870 || Validation Total Loss 3.28966\n",
      "Epoch 13 ||  N Examples 15600 || Train Total Loss 3.28703 || Validation Total Loss 3.28872\n",
      "Epoch 14 ||  N Examples 16800 || Train Total Loss 3.28550 || Validation Total Loss 3.28688\n",
      "Epoch 15 ||  N Examples 18000 || Train Total Loss 3.28440 || Validation Total Loss 3.28565\n",
      "Epoch 16 ||  N Examples 19200 || Train Total Loss 3.28202 || Validation Total Loss 3.28275\n",
      "Epoch 17 ||  N Examples 20400 || Train Total Loss 3.27698 || Validation Total Loss 3.27541\n",
      "Epoch 18 ||  N Examples 21600 || Train Total Loss 3.27055 || Validation Total Loss 3.27208\n",
      "Epoch 19 ||  N Examples 22800 || Train Total Loss 3.26923 || Validation Total Loss 3.27151\n",
      "Epoch 20 ||  N Examples 24000 || Train Total Loss 3.26907 || Validation Total Loss 3.27108\n",
      "Epoch 21 ||  N Examples 25200 || Train Total Loss 3.26872 || Validation Total Loss 3.27122\n",
      "Epoch 22 ||  N Examples 26400 || Train Total Loss 3.26896 || Validation Total Loss 3.27116\n",
      "Epoch 23 ||  N Examples 27600 || Train Total Loss 3.26876 || Validation Total Loss 3.27131\n",
      "Epoch 24 ||  N Examples 28800 || Train Total Loss 3.26874 || Validation Total Loss 3.27056\n",
      "Epoch 25 ||  N Examples 30000 || Train Total Loss 3.26872 || Validation Total Loss 3.27138\n",
      "Epoch 26 ||  N Examples 31200 || Train Total Loss 3.26880 || Validation Total Loss 3.27078\n",
      "Epoch 27 ||  N Examples 32400 || Train Total Loss 3.26868 || Validation Total Loss 3.27095\n",
      "Epoch 28 ||  N Examples 33600 || Train Total Loss 3.26862 || Validation Total Loss 3.27103\n",
      "Epoch 29 ||  N Examples 34800 || Train Total Loss 3.26880 || Validation Total Loss 3.27115\n",
      "Epoch 30 ||  N Examples 36000 || Train Total Loss 3.26850 || Validation Total Loss 3.27108\n",
      "Epoch 31 ||  N Examples 37200 || Train Total Loss 3.26875 || Validation Total Loss 3.27120\n",
      "Epoch 32 ||  N Examples 38400 || Train Total Loss 3.26879 || Validation Total Loss 3.27097\n",
      "Epoch 33 ||  N Examples 39600 || Train Total Loss 3.26880 || Validation Total Loss 3.27094\n",
      "Epoch 34 ||  N Examples 40800 || Train Total Loss 3.26873 || Validation Total Loss 3.27059\n",
      "Epoch 35 ||  N Examples 42000 || Train Total Loss 3.26843 || Validation Total Loss 3.27110\n",
      "Epoch 36 ||  N Examples 43200 || Train Total Loss 3.26858 || Validation Total Loss 3.27066\n",
      "Epoch 37 ||  N Examples 44400 || Train Total Loss 3.26862 || Validation Total Loss 3.27074\n",
      "Epoch 38 ||  N Examples 45600 || Train Total Loss 3.26851 || Validation Total Loss 3.27133\n",
      "Epoch 39 ||  N Examples 46800 || Train Total Loss 3.26873 || Validation Total Loss 3.27026\n",
      "Epoch 40 ||  N Examples 48000 || Train Total Loss 3.26858 || Validation Total Loss 3.27070\n",
      "Epoch 41 ||  N Examples 49200 || Train Total Loss 3.26841 || Validation Total Loss 3.27085\n",
      "Epoch 42 ||  N Examples 50400 || Train Total Loss 3.26846 || Validation Total Loss 3.27108\n",
      "Epoch 43 ||  N Examples 51600 || Train Total Loss 3.26846 || Validation Total Loss 3.27021\n",
      "Epoch 44 ||  N Examples 52800 || Train Total Loss 3.26837 || Validation Total Loss 3.27105\n",
      "Epoch 45 ||  N Examples 54000 || Train Total Loss 3.26855 || Validation Total Loss 3.27078\n",
      "Epoch 46 ||  N Examples 55200 || Train Total Loss 3.26867 || Validation Total Loss 3.27127\n",
      "Epoch 47 ||  N Examples 56400 || Train Total Loss 3.26855 || Validation Total Loss 3.27084\n",
      "Stopping and saving run at epoch 48\n"
     ]
    }
   ],
   "source": [
    "trainer.train(data_loader, 1000)"
   ]
  },
  {
   "cell_type": "markdown",
   "metadata": {},
   "source": [
    "## Visualize Latent Space"
   ]
  },
  {
   "cell_type": "code",
   "execution_count": 74,
   "metadata": {},
   "outputs": [],
   "source": [
    "with torch.no_grad():\n",
    "    (z_mean, z_var), (q_z, p_z), z = model.to_latent(dataset.data)"
   ]
  },
  {
   "cell_type": "code",
   "execution_count": 75,
   "metadata": {},
   "outputs": [],
   "source": [
    "df = pd.DataFrame({\"z0\": z[:, 0], \n",
    "                    \"z1\": z[:, 1], \n",
    "                    \"pos\": dataset.labels})\n",
    "#                     \"pos\": (dataset.pos + dataset.angle) % (2 * np.pi)})"
   ]
  },
  {
   "cell_type": "code",
   "execution_count": 76,
   "metadata": {},
   "outputs": [
    {
     "data": {
      "text/plain": [
       "<AxesSubplot:xlabel='z0', ylabel='z1'>"
      ]
     },
     "execution_count": 76,
     "metadata": {},
     "output_type": "execute_result"
    },
    {
     "data": {
      "image/png": "[encoded data removed]",
      "text/plain": [
       "<Figure size 720x720 with 1 Axes>"
      ]
     },
     "metadata": {
      "needs_background": "light"
     },
     "output_type": "display_data"
    }
   ],
   "source": [
    "plt.figure(figsize=(10, 10))\n",
    "sns.scatterplot(x=\"z0\", y=\"z1\", hue=\"pos\", data=df, palette=\"rainbow\")"
   ]
  },
  {
   "cell_type": "code",
   "execution_count": null,
   "metadata": {},
   "outputs": [],
   "source": []
  }
 ],
 "metadata": {
  "kernelspec": {
   "display_name": "geomstats",
   "language": "python",
   "name": "geomstats"
  },
  "language_info": {
   "codemirror_mode": {
    "name": "ipython",
    "version": 3
   },
   "file_extension": ".py",
   "mimetype": "text/x-python",
   "name": "python",
   "nbconvert_exporter": "python",
   "pygments_lexer": "ipython3",
   "version": "3.8.13"
  }
 },
 "nbformat": 4,
 "nbformat_minor": 5
}
