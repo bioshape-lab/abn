{
 "cells": [
  {
   "cell_type": "code",
   "execution_count": 1,
   "metadata": {},
   "outputs": [
    {
     "name": "stderr",
     "output_type": "stream",
     "text": [
      "/Users/franciscoacosta/opt/anaconda3/envs/abn1/lib/python3.9/site-packages/tqdm/auto.py:22: TqdmWarning: IProgress not found. Please update jupyter and ipywidgets. See https://ipywidgets.readthedocs.io/en/stable/user_install.html\n",
      "  from .autonotebook import tqdm as notebook_tqdm\n",
      "INFO:numexpr.utils:NumExpr defaulting to 4 threads.\n",
      "INFO:root:Using pytorch backend\n"
     ]
    }
   ],
   "source": [
    "import default_config as config\n",
    "import newvae\n",
    "import torch\n",
    "import seaborn as sns\n",
    "import numpy as np\n",
    "import matplotlib.pyplot as plt\n",
    "import os\n",
    "os.environ[\"GEOMSTATS_BACKEND\"] = \"pytorch\"\n",
    "\n",
    "from datasets.wiggles import Wiggles\n",
    "from datasets.data_loader import TrainValLoader\n",
    "import pandas as pd\n",
    "import train"
   ]
  },
  {
   "cell_type": "code",
   "execution_count": 2,
   "metadata": {},
   "outputs": [],
   "source": [
    "def get_immersion(model):\n",
    "\n",
    "    def immersion(angle):\n",
    "        z = torch.tensor([torch.cos(angle), torch.sin(angle)])\n",
    "        x_rec = model.decode(z)\n",
    "        return x_rec\n",
    "\n",
    "    return immersion"
   ]
  },
  {
   "cell_type": "code",
   "execution_count": 3,
   "metadata": {},
   "outputs": [],
   "source": [
    "def mean_curv(base_point, immersion, embedding_dim):\n",
    "    H = torch.zeros(embedding_dim)\n",
    "    for i in range(embedding_dim):\n",
    "        H[i] = torch.autograd.functional.hessian(\n",
    "            func=lambda x: immersion(x)[i], inputs=base_point\n",
    "        )\n",
    "    return H"
   ]
  },
  {
   "cell_type": "code",
   "execution_count": 4,
   "metadata": {},
   "outputs": [],
   "source": [
    "def get_curv_profile(angles,model,embedding_dim):\n",
    "    immersion = get_immersion(model)\n",
    "    mean_curv_vecs = [mean_curv(angle,immersion,embedding_dim) for angle in angles]\n",
    "    norms = [torch.linalg.norm(vec) for vec in mean_curv_vecs]\n",
    "    return norms"
   ]
  },
  {
   "cell_type": "code",
   "execution_count": 5,
   "metadata": {},
   "outputs": [],
   "source": [
    "def plot_model(thetas, model):\n",
    "    immersion = get_immersion(model)\n",
    "    z = [immersion(theta) for theta in thetas]\n",
    "    x = [vec[0].detach().numpy() for vec in z]\n",
    "    y = [vec[1].detach().numpy() for vec in z]\n",
    "    plt.scatter(x,y,c=thetas)"
   ]
  },
  {
   "cell_type": "code",
   "execution_count": 6,
   "metadata": {},
   "outputs": [],
   "source": [
    "embedding_dim = 2\n",
    "\n",
    "model = newvae.VAE(\n",
    "    input_dim=embedding_dim,\n",
    "    encoder_dims=[40, 30, 20, 10],\n",
    "    latent_dim=2,\n",
    "    latent_geometry=\"hyperspherical\",\n",
    "    decoder_dims=[10,20,30,40],\n",
    ").to(config.device)"
   ]
  },
  {
   "cell_type": "code",
   "execution_count": 7,
   "metadata": {},
   "outputs": [],
   "source": [
    "dataset = Wiggles(\n",
    "    n_times=1000,\n",
    "    n_wiggles=5,\n",
    "    synth_radius=1,\n",
    "    amp_wiggles=0.2,\n",
    "    embedding_dim=embedding_dim,\n",
    "    noise_var=0.0001,\n",
    "    rotation=True,\n",
    ")"
   ]
  },
  {
   "cell_type": "code",
   "execution_count": 8,
   "metadata": {},
   "outputs": [],
   "source": [
    "#Normalize Data\n",
    "\n",
    "dataset.data = dataset.data - dataset.data.min()\n",
    "dataset.data = dataset.data / dataset.data.max()"
   ]
  },
  {
   "cell_type": "code",
   "execution_count": 9,
   "metadata": {},
   "outputs": [],
   "source": [
    "data = dataset.data\n",
    "labels = dataset.labels\n",
    "\n",
    "labels = pd.DataFrame(\n",
    "    {\n",
    "        \"angles\": labels,\n",
    "    }\n",
    ")\n",
    "\n",
    "data_loader = TrainValLoader(batch_size=config.batch_size)\n",
    "\n",
    "data_loader.load(dataset)\n",
    "\n",
    "train_loader = data_loader.train\n",
    "\n",
    "test_loader = data_loader.val"
   ]
  },
  {
   "cell_type": "code",
   "execution_count": 13,
   "metadata": {},
   "outputs": [
    {
     "name": "stdout",
     "output_type": "stream",
     "text": [
      "====> Epoch: 1 Average loss: 0.0364\n",
      "====> Test set loss: 0.0357\n",
      "====> Epoch: 2 Average loss: 0.0357\n",
      "====> Test set loss: 0.0356\n",
      "====> Epoch: 3 Average loss: 0.0357\n",
      "====> Test set loss: 0.0355\n",
      "====> Epoch: 4 Average loss: 0.0356\n",
      "====> Test set loss: 0.0356\n",
      "====> Epoch: 5 Average loss: 0.0357\n",
      "====> Test set loss: 0.0352\n",
      "====> Epoch: 6 Average loss: 0.0356\n",
      "====> Test set loss: 0.0356\n",
      "====> Epoch: 7 Average loss: 0.0358\n",
      "====> Test set loss: 0.0354\n",
      "====> Epoch: 8 Average loss: 0.0355\n",
      "====> Test set loss: 0.0355\n",
      "====> Epoch: 9 Average loss: 0.0354\n",
      "====> Test set loss: 0.0357\n",
      "====> Epoch: 10 Average loss: 0.0356\n",
      "====> Test set loss: 0.0355\n",
      "====> Epoch: 11 Average loss: 0.0354\n",
      "====> Test set loss: 0.0351\n",
      "====> Epoch: 12 Average loss: 0.0353\n",
      "====> Test set loss: 0.0354\n",
      "====> Epoch: 13 Average loss: 0.0353\n",
      "====> Test set loss: 0.0353\n",
      "====> Epoch: 14 Average loss: 0.0352\n",
      "====> Test set loss: 0.0352\n",
      "====> Epoch: 15 Average loss: 0.0355\n",
      "====> Test set loss: 0.0352\n",
      "====> Epoch: 16 Average loss: 0.0352\n",
      "====> Test set loss: 0.0348\n",
      "====> Epoch: 17 Average loss: 0.0353\n",
      "====> Test set loss: 0.0353\n",
      "====> Epoch: 18 Average loss: 0.0352\n",
      "====> Test set loss: 0.0351\n",
      "====> Epoch: 19 Average loss: 0.0353\n",
      "====> Test set loss: 0.0350\n",
      "====> Epoch: 20 Average loss: 0.0352\n",
      "====> Test set loss: 0.0350\n",
      "====> Epoch: 21 Average loss: 0.0352\n",
      "====> Test set loss: 0.0352\n",
      "====> Epoch: 22 Average loss: 0.0352\n",
      "====> Test set loss: 0.0350\n",
      "====> Epoch: 23 Average loss: 0.0352\n",
      "====> Test set loss: 0.0351\n",
      "====> Epoch: 24 Average loss: 0.0353\n",
      "====> Test set loss: 0.0350\n",
      "====> Epoch: 25 Average loss: 0.0350\n",
      "====> Test set loss: 0.0347\n",
      "====> Epoch: 26 Average loss: 0.0352\n",
      "====> Test set loss: 0.0350\n",
      "====> Epoch: 27 Average loss: 0.0351\n",
      "====> Test set loss: 0.0349\n",
      "====> Epoch: 28 Average loss: 0.0352\n",
      "====> Test set loss: 0.0351\n",
      "====> Epoch: 29 Average loss: 0.0351\n",
      "====> Test set loss: 0.0347\n",
      "====> Epoch: 30 Average loss: 0.0350\n",
      "====> Test set loss: 0.0351\n",
      "====> Epoch: 31 Average loss: 0.0351\n",
      "====> Test set loss: 0.0351\n",
      "====> Epoch: 32 Average loss: 0.0351\n",
      "====> Test set loss: 0.0352\n",
      "====> Epoch: 33 Average loss: 0.0351\n",
      "====> Test set loss: 0.0347\n",
      "====> Epoch: 34 Average loss: 0.0351\n",
      "====> Test set loss: 0.0349\n",
      "====> Epoch: 35 Average loss: 0.0351\n",
      "====> Test set loss: 0.0350\n",
      "====> Epoch: 36 Average loss: 0.0351\n",
      "====> Test set loss: 0.0351\n",
      "====> Epoch: 37 Average loss: 0.0351\n",
      "====> Test set loss: 0.0348\n",
      "====> Epoch: 38 Average loss: 0.0352\n",
      "====> Test set loss: 0.0352\n",
      "====> Epoch: 39 Average loss: 0.0353\n",
      "====> Test set loss: 0.0349\n",
      "====> Epoch: 40 Average loss: 0.0353\n",
      "====> Test set loss: 0.0348\n",
      "====> Epoch: 41 Average loss: 0.0350\n",
      "====> Test set loss: 0.0348\n",
      "====> Epoch: 42 Average loss: 0.0351\n",
      "====> Test set loss: 0.0351\n",
      "====> Epoch: 43 Average loss: 0.0350\n",
      "====> Test set loss: 0.0350\n",
      "====> Epoch: 44 Average loss: 0.0350\n",
      "====> Test set loss: 0.0350\n",
      "====> Epoch: 45 Average loss: 0.0351\n",
      "====> Test set loss: 0.0352\n",
      "====> Epoch: 46 Average loss: 0.0351\n",
      "====> Test set loss: 0.0350\n",
      "====> Epoch: 47 Average loss: 0.0350\n",
      "====> Test set loss: 0.0349\n",
      "====> Epoch: 48 Average loss: 0.0350\n",
      "====> Test set loss: 0.0355\n",
      "====> Epoch: 49 Average loss: 0.0350\n",
      "====> Test set loss: 0.0352\n",
      "====> Epoch: 50 Average loss: 0.0351\n",
      "====> Test set loss: 0.0348\n",
      "====> Epoch: 51 Average loss: 0.0352\n",
      "====> Test set loss: 0.0349\n",
      "====> Epoch: 52 Average loss: 0.0350\n",
      "====> Test set loss: 0.0352\n",
      "====> Epoch: 53 Average loss: 0.0351\n",
      "====> Test set loss: 0.0349\n",
      "====> Epoch: 54 Average loss: 0.0352\n",
      "====> Test set loss: 0.0354\n",
      "====> Epoch: 55 Average loss: 0.0351\n",
      "====> Test set loss: 0.0349\n",
      "====> Epoch: 56 Average loss: 0.0351\n",
      "====> Test set loss: 0.0350\n",
      "====> Epoch: 57 Average loss: 0.0352\n",
      "====> Test set loss: 0.0350\n",
      "====> Epoch: 58 Average loss: 0.0351\n",
      "====> Test set loss: 0.0348\n",
      "====> Epoch: 59 Average loss: 0.0348\n",
      "====> Test set loss: 0.0348\n",
      "====> Epoch: 60 Average loss: 0.0351\n",
      "====> Test set loss: 0.0350\n",
      "====> Epoch: 61 Average loss: 0.0352\n",
      "====> Test set loss: 0.0349\n",
      "====> Epoch: 62 Average loss: 0.0351\n",
      "====> Test set loss: 0.0351\n",
      "====> Epoch: 63 Average loss: 0.0351\n",
      "====> Test set loss: 0.0350\n",
      "====> Epoch: 64 Average loss: 0.0352\n",
      "====> Test set loss: 0.0351\n",
      "====> Epoch: 65 Average loss: 0.0350\n",
      "====> Test set loss: 0.0352\n",
      "====> Epoch: 66 Average loss: 0.0353\n",
      "====> Test set loss: 0.0348\n",
      "====> Epoch: 67 Average loss: 0.0352\n",
      "====> Test set loss: 0.0351\n",
      "====> Epoch: 68 Average loss: 0.0351\n",
      "====> Test set loss: 0.0349\n",
      "====> Epoch: 69 Average loss: 0.0351\n",
      "====> Test set loss: 0.0350\n",
      "====> Epoch: 70 Average loss: 0.0352\n",
      "====> Test set loss: 0.0348\n",
      "====> Epoch: 71 Average loss: 0.0351\n",
      "====> Test set loss: 0.0350\n",
      "====> Epoch: 72 Average loss: 0.0351\n",
      "====> Test set loss: 0.0351\n",
      "====> Epoch: 73 Average loss: 0.0351\n",
      "====> Test set loss: 0.0351\n",
      "====> Epoch: 74 Average loss: 0.0352\n",
      "====> Test set loss: 0.0349\n",
      "====> Epoch: 75 Average loss: 0.0352\n",
      "====> Test set loss: 0.0349\n",
      "====> Epoch: 76 Average loss: 0.0352\n",
      "====> Test set loss: 0.0351\n",
      "====> Epoch: 77 Average loss: 0.0352\n",
      "====> Test set loss: 0.0350\n",
      "====> Epoch: 78 Average loss: 0.0352\n",
      "====> Test set loss: 0.0350\n",
      "====> Epoch: 79 Average loss: 0.0350\n",
      "====> Test set loss: 0.0349\n",
      "====> Epoch: 80 Average loss: 0.0351\n",
      "====> Test set loss: 0.0350\n",
      "====> Epoch: 81 Average loss: 0.0350\n",
      "====> Test set loss: 0.0355\n",
      "====> Epoch: 82 Average loss: 0.0352\n",
      "====> Test set loss: 0.0351\n",
      "====> Epoch: 83 Average loss: 0.0351\n",
      "====> Test set loss: 0.0352\n",
      "====> Epoch: 84 Average loss: 0.0350\n",
      "====> Test set loss: 0.0352\n",
      "====> Epoch: 85 Average loss: 0.0349\n",
      "====> Test set loss: 0.0349\n",
      "====> Epoch: 86 Average loss: 0.0352\n",
      "====> Test set loss: 0.0351\n",
      "====> Epoch: 87 Average loss: 0.0351\n",
      "====> Test set loss: 0.0349\n",
      "====> Epoch: 88 Average loss: 0.0351\n",
      "====> Test set loss: 0.0353\n",
      "====> Epoch: 89 Average loss: 0.0351\n",
      "====> Test set loss: 0.0348\n",
      "====> Epoch: 90 Average loss: 0.0351\n",
      "====> Test set loss: 0.0348\n",
      "====> Epoch: 91 Average loss: 0.0351\n",
      "====> Test set loss: 0.0352\n",
      "====> Epoch: 92 Average loss: 0.0349\n",
      "====> Test set loss: 0.0351\n",
      "====> Epoch: 93 Average loss: 0.0352\n",
      "====> Test set loss: 0.0349\n",
      "====> Epoch: 94 Average loss: 0.0351\n",
      "====> Test set loss: 0.0351\n",
      "====> Epoch: 95 Average loss: 0.0352\n",
      "====> Test set loss: 0.0352\n",
      "====> Epoch: 96 Average loss: 0.0351\n",
      "====> Test set loss: 0.0350\n",
      "====> Epoch: 97 Average loss: 0.0351\n",
      "====> Test set loss: 0.0350\n",
      "====> Epoch: 98 Average loss: 0.0350\n",
      "====> Test set loss: 0.0350\n",
      "====> Epoch: 99 Average loss: 0.0350\n",
      "====> Test set loss: 0.0350\n",
      "====> Epoch: 100 Average loss: 0.0350\n",
      "====> Test set loss: 0.0349\n"
     ]
    },
    {
     "data": {
      "text/plain": [
       "<Figure size 432x288 with 0 Axes>"
      ]
     },
     "metadata": {},
     "output_type": "display_data"
    },
    {
     "data": {
      "image/png": "[encoded data removed]",
      "text/plain": [
       "<Figure size 432x288 with 2 Axes>"
      ]
     },
     "metadata": {},
     "output_type": "display_data"
    },
    {
     "data": {
      "text/plain": [
       "<Figure size 432x288 with 0 Axes>"
      ]
     },
     "metadata": {},
     "output_type": "display_data"
    },
    {
     "data": {
      "image/png": "[encoded data removed]",
      "text/plain": [
       "<Figure size 432x288 with 2 Axes>"
      ]
     },
     "metadata": {},
     "output_type": "display_data"
    },
    {
     "data": {
      "text/plain": [
       "<Figure size 432x288 with 0 Axes>"
      ]
     },
     "metadata": {},
     "output_type": "display_data"
    },
    {
     "data": {
      "image/png": "[encoded data removed]",
      "text/plain": [
       "<Figure size 432x288 with 2 Axes>"
      ]
     },
     "metadata": {},
     "output_type": "display_data"
    },
    {
     "data": {
      "text/plain": [
       "<Figure size 432x288 with 0 Axes>"
      ]
     },
     "metadata": {},
     "output_type": "display_data"
    },
    {
     "data": {
      "image/png": "[encoded data removed]",
      "text/plain": [
       "<Figure size 432x288 with 2 Axes>"
      ]
     },
     "metadata": {},
     "output_type": "display_data"
    },
    {
     "data": {
      "text/plain": [
       "<Figure size 432x288 with 0 Axes>"
      ]
     },
     "metadata": {},
     "output_type": "display_data"
    },
    {
     "data": {
      "image/png": "[encoded data removed]",
      "text/plain": [
       "<Figure size 432x288 with 2 Axes>"
      ]
     },
     "metadata": {},
     "output_type": "display_data"
    },
    {
     "data": {
      "text/plain": [
       "<Figure size 432x288 with 0 Axes>"
      ]
     },
     "metadata": {},
     "output_type": "display_data"
    },
    {
     "data": {
      "image/png": "[encoded data removed]",
      "text/plain": [
       "<Figure size 432x288 with 2 Axes>"
      ]
     },
     "metadata": {},
     "output_type": "display_data"
    },
    {
     "data": {
      "text/plain": [
       "<Figure size 432x288 with 0 Axes>"
      ]
     },
     "metadata": {},
     "output_type": "display_data"
    },
    {
     "data": {
      "image/png": "[encoded data removed]",
      "text/plain": [
       "<Figure size 432x288 with 2 Axes>"
      ]
     },
     "metadata": {},
     "output_type": "display_data"
    },
    {
     "data": {
      "text/plain": [
       "<Figure size 432x288 with 0 Axes>"
      ]
     },
     "metadata": {},
     "output_type": "display_data"
    },
    {
     "data": {
      "image/png": "[encoded data removed]",
      "text/plain": [
       "<Figure size 432x288 with 2 Axes>"
      ]
     },
     "metadata": {},
     "output_type": "display_data"
    },
    {
     "data": {
      "text/plain": [
       "<Figure size 432x288 with 0 Axes>"
      ]
     },
     "metadata": {},
     "output_type": "display_data"
    },
    {
     "data": {
      "image/png": "[encoded data removed]",
      "text/plain": [
       "<Figure size 432x288 with 2 Axes>"
      ]
     },
     "metadata": {},
     "output_type": "display_data"
    },
    {
     "data": {
      "text/plain": [
       "<Figure size 432x288 with 0 Axes>"
      ]
     },
     "metadata": {},
     "output_type": "display_data"
    },
    {
     "data": {
      "image/png": "[encoded data removed]",
      "text/plain": [
       "<Figure size 432x288 with 2 Axes>"
      ]
     },
     "metadata": {},
     "output_type": "display_data"
    }
   ],
   "source": [
    "optimizer = torch.optim.Adam(model.parameters(), lr=config.learning_rate)\n",
    "\n",
    "\n",
    "losses = train.train_model(\n",
    "    model, data, labels, train_loader, test_loader, optimizer, config\n",
    ")"
   ]
  },
  {
   "cell_type": "code",
   "execution_count": 10,
   "metadata": {},
   "outputs": [],
   "source": [
    "angles = torch.linspace(0,2*torch.pi,1000)\n",
    "\n",
    "norms = get_curv_profile(angles,model,embedding_dim)"
   ]
  },
  {
   "cell_type": "code",
   "execution_count": 14,
   "metadata": {},
   "outputs": [
    {
     "data": {
      "image/png": "[encoded data removed]",
      "text/plain": [
       "<Figure size 432x288 with 1 Axes>"
      ]
     },
     "metadata": {},
     "output_type": "display_data"
    }
   ],
   "source": [
    "plot_model(angles, model)"
   ]
  },
  {
   "cell_type": "code",
   "execution_count": 15,
   "metadata": {},
   "outputs": [
    {
     "data": {
      "text/plain": [
       "[<matplotlib.lines.Line2D at 0x7fc739b2fe80>]"
      ]
     },
     "execution_count": 15,
     "metadata": {},
     "output_type": "execute_result"
    },
    {
     "data": {
      "image/png": "[encoded data removed]",
      "text/plain": [
       "<Figure size 432x288 with 1 Axes>"
      ]
     },
     "metadata": {},
     "output_type": "display_data"
    }
   ],
   "source": [
    "plt.plot(norms)"
   ]
  },
  {
   "cell_type": "code",
   "execution_count": null,
   "metadata": {},
   "outputs": [],
   "source": []
  }
 ],
 "metadata": {
  "interpreter": {
   "hash": "e26aa08b03816bccd8ffda99e3c08bc836ee5e15be100f93c2f64087c2307a11"
  },
  "kernelspec": {
   "display_name": "Python 3.9.12 ('abn1')",
   "language": "python",
   "name": "python3"
  },
  "language_info": {
   "codemirror_mode": {
    "name": "ipython",
    "version": 3
   },
   "file_extension": ".py",
   "mimetype": "text/x-python",
   "name": "python",
   "nbconvert_exporter": "python",
   "pygments_lexer": "ipython3",
   "version": "3.9.12"
  },
  "orig_nbformat": 4
 },
 "nbformat": 4,
 "nbformat_minor": 2
}
