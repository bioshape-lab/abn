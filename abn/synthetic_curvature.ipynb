{
 "cells": [
  {
   "cell_type": "code",
   "execution_count": 1,
   "metadata": {},
   "outputs": [
    {
     "name": "stderr",
     "output_type": "stream",
     "text": [
      "/Users/franciscoacosta/opt/anaconda3/envs/abn1/lib/python3.9/site-packages/tqdm/auto.py:22: TqdmWarning: IProgress not found. Please update jupyter and ipywidgets. See https://ipywidgets.readthedocs.io/en/stable/user_install.html\n",
      "  from .autonotebook import tqdm as notebook_tqdm\n",
      "INFO: Using pytorch backend\n"
     ]
    }
   ],
   "source": [
    "import os\n",
    "\n",
    "os.environ[\"GEOMSTATS_BACKEND\"] = \"pytorch\"\n",
    "\n",
    "import geomstats.backend as gs\n",
    "import matplotlib.pyplot as plt\n",
    "import torch\n",
    "\n",
    "from geomstats.geometry.special_orthogonal import SpecialOrthogonal\n"
   ]
  },
  {
   "cell_type": "code",
   "execution_count": 50,
   "metadata": {},
   "outputs": [],
   "source": [
    "def get_synth_immersion(a, m, r, embedding_dim):\n",
    "    \"\"\" Create \"wiggly\" circles\n",
    " \n",
    "\n",
    "        Parameters\n",
    "        ----------\n",
    "        \n",
    "        a : float\n",
    "            Primary circle radius/\n",
    "        m : int\n",
    "            Number of \"wiggles\"\n",
    "        r : float, < 1 \n",
    "            Amplitude of \"wiggles\"\n",
    "        \n",
    "        Returns\n",
    "        -------\n",
    "        synth_immersion : function\n",
    "            Synthetic immersion from S1 to R^N\n",
    "        \"\"\"\n",
    "    def polar(theta):\n",
    "        return gs.stack([gs.cos(theta), gs.sin(theta)], axis=-1)\n",
    "\n",
    "    def synth_immersion(theta):\n",
    "        #look at einsum\n",
    "        n_thetas = len(theta)\n",
    "        wiggly_circle = torch.matmul(\n",
    "            torch.diag(a * (1 + r * gs.cos(m * theta))),\n",
    "            polar(theta))\n",
    "        padded_wiggly_circle = gs.hstack(\n",
    "            [wiggly_circle, gs.zeros((n_thetas, embedding_dim - 2))])\n",
    "\n",
    "        so = SpecialOrthogonal(n=embedding_dim)\n",
    "        \n",
    "        rot = so.random_point() \n",
    "\n",
    "        \n",
    "        return gs.matmul(rot, padded_wiggly_circle)\n",
    "\n",
    "    return synth_immersion\n"
   ]
  },
  {
   "cell_type": "code",
   "execution_count": 48,
   "metadata": {},
   "outputs": [],
   "source": [
    "g = get_synth_immersion(a = 1, m = 5, r = 0.4)\n",
    "theta = gs.linspace(0,2*gs.pi,200)\n",
    "X = g(theta)"
   ]
  },
  {
   "cell_type": "code",
   "execution_count": 49,
   "metadata": {},
   "outputs": [
    {
     "data": {
      "text/plain": [
       "<matplotlib.collections.PathCollection at 0x7fb6a79a1250>"
      ]
     },
     "execution_count": 49,
     "metadata": {},
     "output_type": "execute_result"
    },
    {
     "data": {
      "image/png": "[encoded data removed]",
      "text/plain": [
       "<Figure size 432x288 with 1 Axes>"
      ]
     },
     "metadata": {
      "needs_background": "light"
     },
     "output_type": "display_data"
    }
   ],
   "source": [
    "import matplotlib.pyplot as plt\n",
    "\n",
    "plt.scatter(X[:,0], X[:,1])"
   ]
  }
 ],
 "metadata": {
  "interpreter": {
   "hash": "aee8b7b246df8f9039afb4144a1f6fd8d2ca17a180786b69acc140d282b71a49"
  },
  "kernelspec": {
   "display_name": "Python 3.8.1 64-bit",
   "language": "python",
   "name": "python3"
  },
  "language_info": {
   "codemirror_mode": {
    "name": "ipython",
    "version": 3
   },
   "file_extension": ".py",
   "mimetype": "text/x-python",
   "name": "python",
   "nbconvert_exporter": "python",
   "pygments_lexer": "ipython3",
   "version": "3.9.12"
  },
  "orig_nbformat": 4
 },
 "nbformat": 4,
 "nbformat_minor": 2
}
