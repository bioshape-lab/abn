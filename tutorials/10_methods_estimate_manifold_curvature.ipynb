{
 "cells": [
  {
   "cell_type": "markdown",
   "metadata": {},
   "source": [
    "# Estimate Neural Manifold Curvature"
   ]
  },
  {
   "cell_type": "markdown",
   "metadata": {},
   "source": [
    "### Set-up + Imports"
   ]
  },
  {
   "cell_type": "code",
   "execution_count": 1,
   "metadata": {},
   "outputs": [
    {
     "name": "stdout",
     "output_type": "stream",
     "text": [
      "Working directory:  /home/facosta/neurometry/neurometry\n",
      "Directory added to path:  /home/facosta/neurometry\n",
      "Directory added to path:  /home/facosta/neurometry/neurometry\n"
     ]
    },
    {
     "data": {
      "text/html": [
       "\n",
       "                <script type=\"application/javascript\" id=\"jupyter_black\">\n",
       "                (function() {\n",
       "                    if (window.IPython === undefined) {\n",
       "                        return\n",
       "                    }\n",
       "                    var msg = \"WARNING: it looks like you might have loaded \" +\n",
       "                        \"jupyter_black in a non-lab notebook with \" +\n",
       "                        \"`is_lab=True`. Please double check, and if \" +\n",
       "                        \"loading with `%load_ext` please review the README!\"\n",
       "                    console.log(msg)\n",
       "                    alert(msg)\n",
       "                })()\n",
       "                </script>\n",
       "                "
      ],
      "text/plain": [
       "<IPython.core.display.HTML object>"
      ]
     },
     "metadata": {},
     "output_type": "display_data"
    }
   ],
   "source": [
    "import setup\n",
    "\n",
    "setup.main()\n",
    "%load_ext autoreload\n",
    "%autoreload 2\n",
    "%load_ext jupyter_black\n",
    "\n",
    "import os\n",
    "\n",
    "import matplotlib.pyplot as plt\n",
    "import numpy as np\n",
    "import skdim\n",
    "\n",
    "import neurometry.datasets.synthetic as synthetic\n",
    "from neurometry.dimension.dimension import (\n",
    "    plot_dimension_experiments,\n",
    "    skdim_dimension_estimation,\n",
    ")\n",
    "\n",
    "os.environ[\"GEOMSTATS_BACKEND\"] = \"pytorch\"\n",
    "import geomstats.backend as gs"
   ]
  },
  {
   "cell_type": "code",
   "execution_count": 2,
   "metadata": {},
   "outputs": [
    {
     "name": "stdout",
     "output_type": "stream",
     "text": [
      "/home/facosta/neurometry/neurometry/results/configs\n",
      "/home/facosta/neurometry/neurometry/results/trained_models\n"
     ]
    }
   ],
   "source": [
    "from neurometry.curvature.main import (\n",
    "    create_model_and_train_test,\n",
    "    training_plot_log,\n",
    "    curvature_compute_plot_log,\n",
    ")"
   ]
  },
  {
   "cell_type": "code",
   "execution_count": 4,
   "metadata": {},
   "outputs": [],
   "source": [
    "import neurometry.curvature.default_config as default_config\n",
    "\n",
    "sweep_config = {\n",
    "    \"lr\": 0.01,\n",
    "    \"batch_size\": 64,\n",
    "    \"encoder_width\": 400,\n",
    "    \"encoder_depth\": 8,\n",
    "    \"decoder_width\": 200,\n",
    "    \"decoder_depth\": 4,\n",
    "    \"drop_out_p\": 0.1,\n",
    "    \"wandb\": {\n",
    "        \"project\": \"neurometry\",\n",
    "        \"api_key\": default_config.api_key,\n",
    "    },\n",
    "}"
   ]
  },
  {
   "cell_type": "code",
   "execution_count": 5,
   "metadata": {},
   "outputs": [],
   "source": [
    "dataset_name = \"s1_synthetic\"\n",
    "sweep_name = f\"{dataset_name}\"\n",
    "fixed_config = {\n",
    "    # Parameters constant across runs of the sweep (unique value):\n",
    "    \"dataset_name\": dataset_name,\n",
    "    \"sweep_name\": sweep_name,\n",
    "    \"expt_id\": None,\n",
    "    \"timestep_microsec\": None,\n",
    "    \"smooth\": None,\n",
    "    \"select_gain_1\": None,\n",
    "    \"n_times\": 2500,\n",
    "    \"embedding_dim\": 5,\n",
    "    \"geodesic_distortion_amp\": 0.4,\n",
    "    \"noise_var\": 0.1,\n",
    "    \"grid_scale\": None,\n",
    "    \"arena_dims\": None,\n",
    "    \"n_cells\": None,\n",
    "    \"grid_orientation_mean\": None,\n",
    "    \"grid_orientation_std\": None,\n",
    "    \"field_width\": None,\n",
    "    \"resolution\": None,\n",
    "    # Parameters fixed across runs and sweeps\n",
    "    # (unique value depending on dataset_name):\n",
    "    \"manifold_dim\": default_config.manifold_dim[dataset_name],\n",
    "    \"latent_dim\": default_config.latent_dim[dataset_name],\n",
    "    \"posterior_type\": default_config.posterior_type[dataset_name],\n",
    "    \"geodesic_distortion_func\": default_config.geodesic_distortion_func[dataset_name],\n",
    "    \"n_wiggles\": default_config.n_wiggles[dataset_name],\n",
    "    \"radius\": default_config.radius[dataset_name],\n",
    "    \"major_radius\": default_config.major_radius[dataset_name],\n",
    "    \"minor_radius\": default_config.minor_radius[dataset_name],\n",
    "    \"synthetic_rotation\": default_config.synthetic_rotation[dataset_name],\n",
    "    # Else:\n",
    "    \"device\": default_config.device,\n",
    "    \"log_interval\": default_config.log_interval,\n",
    "    \"checkpt_interval\": default_config.checkpt_interval,\n",
    "    \"batch_shuffle\": default_config.batch_shuffle,\n",
    "    \"scheduler\": default_config.scheduler,\n",
    "    \"n_epochs\": default_config.n_epochs,\n",
    "    \"alpha\": default_config.alpha,\n",
    "    \"beta\": default_config.beta,\n",
    "    \"gamma\": default_config.gamma,\n",
    "    \"gamma_moving\": default_config.gamma_moving,\n",
    "    \"gamma_dynamic\": default_config.gamma_dynamic,\n",
    "    \"sftbeta\": default_config.sftbeta,\n",
    "    \"gen_likelihood_type\": default_config.gen_likelihood_type,\n",
    "    \"n_grid_points\": default_config.n_grid_points,\n",
    "}"
   ]
  },
  {
   "cell_type": "code",
   "execution_count": 6,
   "metadata": {},
   "outputs": [
    {
     "name": "stderr",
     "output_type": "stream",
     "text": [
      "ERROR:wandb.jupyter:Failed to detect the name of this notebook, you can set it manually with the WANDB_NOTEBOOK_NAME environment variable to enable code saving.\n",
      "\u001b[34m\u001b[1mwandb\u001b[0m: Logging into wandb.ai. (Learn how to deploy a W&B server locally: https://wandb.me/wandb-server)\n",
      "\u001b[34m\u001b[1mwandb\u001b[0m: You can find your API key in your browser here: https://wandb.ai/authorize\n",
      "\u001b[34m\u001b[1mwandb\u001b[0m: Paste an API key from your profile and hit enter, or press ctrl+c to quit:\u001b[34m\u001b[1mwandb\u001b[0m: Paste an API key from your profile and hit enter, or press ctrl+c to quit:\u001b[34m\u001b[1mwandb\u001b[0m: Appending key for api.wandb.ai to your netrc file: /home/facosta/.netrc\n"
     ]
    },
    {
     "data": {
      "text/html": [
       "Tracking run with wandb version 0.16.6"
      ],
      "text/plain": [
       "<IPython.core.display.HTML object>"
      ]
     },
     "metadata": {},
     "output_type": "display_data"
    },
    {
     "data": {
      "text/html": [
       "Run data is saved locally in <code>/home/facosta/neurometry/neurometry/wandb/run-20240424_000906-zq9ohvqh</code>"
      ],
      "text/plain": [
       "<IPython.core.display.HTML object>"
      ]
     },
     "metadata": {},
     "output_type": "display_data"
    },
    {
     "data": {
      "text/html": [
       "Syncing run <strong><a href='https://wandb.ai/facosta/neurometry-neurometry/runs/zq9ohvqh' target=\"_blank\">astral-microwave-1</a></strong> to <a href='https://wandb.ai/facosta/neurometry-neurometry' target=\"_blank\">Weights & Biases</a> (<a href='https://wandb.me/run' target=\"_blank\">docs</a>)<br/>"
      ],
      "text/plain": [
       "<IPython.core.display.HTML object>"
      ]
     },
     "metadata": {},
     "output_type": "display_data"
    },
    {
     "data": {
      "text/html": [
       " View project at <a href='https://wandb.ai/facosta/neurometry-neurometry' target=\"_blank\">https://wandb.ai/facosta/neurometry-neurometry</a>"
      ],
      "text/plain": [
       "<IPython.core.display.HTML object>"
      ]
     },
     "metadata": {},
     "output_type": "display_data"
    },
    {
     "data": {
      "text/html": [
       " View run at <a href='https://wandb.ai/facosta/neurometry-neurometry/runs/zq9ohvqh' target=\"_blank\">https://wandb.ai/facosta/neurometry-neurometry/runs/zq9ohvqh</a>"
      ],
      "text/plain": [
       "<IPython.core.display.HTML object>"
      ]
     },
     "metadata": {},
     "output_type": "display_data"
    }
   ],
   "source": [
    "import wandb\n",
    "import json\n",
    "import logging\n",
    "import neurometry.curvature.datasets.utils as utils\n",
    "\n",
    "wandb.init(config=sweep_config)\n",
    "wandb_config = wandb.config\n",
    "wandb_config.update(fixed_config)\n",
    "# wandb_config.update(sweep_config)\n",
    "\n",
    "run_name = \"run_\" + wandb.run.id + \"_\" + sweep_name\n",
    "wandb.run.name = run_name"
   ]
  },
  {
   "cell_type": "code",
   "execution_count": 8,
   "metadata": {},
   "outputs": [
    {
     "name": "stdout",
     "output_type": "stream",
     "text": [
      "Dataset shape: torch.Size([2500, 5]).\n",
      "Train Epoch: 1 [0/1750 (0%)]\tLoss: 0.152046\n",
      "Train Epoch: 1 [1280/1750 (71%)]\tLoss: 0.139183\n",
      "====> Epoch: 1 Average loss: 76.3644\n",
      "====> Test set loss: 0.2465\n",
      "Train Epoch: 2 [0/1750 (0%)]\tLoss: 0.136094\n",
      "Train Epoch: 2 [1280/1750 (71%)]\tLoss: 0.137244\n",
      "====> Epoch: 2 Average loss: 0.1681\n",
      "====> Test set loss: 0.2463\n",
      "Train Epoch: 3 [0/1750 (0%)]\tLoss: 0.135392\n",
      "Train Epoch: 3 [1280/1750 (71%)]\tLoss: 0.137922\n",
      "====> Epoch: 3 Average loss: 0.1678\n",
      "====> Test set loss: 0.2453\n",
      "Train Epoch: 4 [0/1750 (0%)]\tLoss: 0.134395\n",
      "Train Epoch: 4 [1280/1750 (71%)]\tLoss: 0.135546\n",
      "====> Epoch: 4 Average loss: 0.1677\n",
      "====> Test set loss: 0.2447\n",
      "Train Epoch: 5 [0/1750 (0%)]\tLoss: 0.132604\n",
      "Train Epoch: 5 [1280/1750 (71%)]\tLoss: 0.138701\n",
      "====> Epoch: 5 Average loss: 0.1670\n",
      "====> Test set loss: 0.2444\n",
      "Train Epoch: 6 [0/1750 (0%)]\tLoss: 0.129852\n",
      "Train Epoch: 6 [1280/1750 (71%)]\tLoss: 0.140392\n",
      "====> Epoch: 6 Average loss: 0.1669\n",
      "====> Test set loss: 0.2464\n",
      "Train Epoch: 7 [0/1750 (0%)]\tLoss: 0.131767\n",
      "Train Epoch: 7 [1280/1750 (71%)]\tLoss: 0.139655\n",
      "====> Epoch: 7 Average loss: 0.1673\n",
      "====> Test set loss: 0.2449\n",
      "Train Epoch: 8 [0/1750 (0%)]\tLoss: 0.138672\n",
      "Train Epoch: 8 [1280/1750 (71%)]\tLoss: 0.140788\n",
      "====> Epoch: 8 Average loss: 0.1663\n",
      "====> Test set loss: 0.2418\n",
      "Train Epoch: 9 [0/1750 (0%)]\tLoss: 0.133811\n",
      "Train Epoch: 9 [1280/1750 (71%)]\tLoss: 0.133773\n",
      "====> Epoch: 9 Average loss: 0.1678\n",
      "====> Test set loss: 0.2435\n",
      "Train Epoch: 10 [0/1750 (0%)]\tLoss: 0.138592\n",
      "Train Epoch: 10 [1280/1750 (71%)]\tLoss: 0.131162\n",
      "====> Epoch: 10 Average loss: 0.1681\n",
      "====> Test set loss: 0.2449\n",
      "Train Epoch: 11 [0/1750 (0%)]\tLoss: 0.128988\n",
      "Train Epoch: 11 [1280/1750 (71%)]\tLoss: 0.138364\n",
      "====> Epoch: 11 Average loss: 0.1646\n",
      "====> Test set loss: 0.2398\n",
      "Train Epoch: 12 [0/1750 (0%)]\tLoss: 0.136412\n",
      "Train Epoch: 12 [1280/1750 (71%)]\tLoss: 0.157820\n",
      "====> Epoch: 12 Average loss: 0.1683\n",
      "====> Test set loss: 0.2431\n",
      "Train Epoch: 13 [0/1750 (0%)]\tLoss: 0.127737\n",
      "Train Epoch: 13 [1280/1750 (71%)]\tLoss: 0.144803\n",
      "====> Epoch: 13 Average loss: 0.1682\n",
      "====> Test set loss: 0.2398\n",
      "Train Epoch: 14 [0/1750 (0%)]\tLoss: 0.128522\n",
      "Train Epoch: 14 [1280/1750 (71%)]\tLoss: 0.132429\n",
      "====> Epoch: 14 Average loss: 0.1646\n",
      "====> Test set loss: 0.2312\n",
      "Train Epoch: 15 [0/1750 (0%)]\tLoss: 0.125609\n",
      "Train Epoch: 15 [1280/1750 (71%)]\tLoss: 0.157924\n",
      "====> Epoch: 15 Average loss: 0.1648\n",
      "====> Test set loss: 0.1803\n",
      "Train Epoch: 16 [0/1750 (0%)]\tLoss: 0.170471\n",
      "Train Epoch: 16 [1280/1750 (71%)]\tLoss: 0.135211\n",
      "====> Epoch: 16 Average loss: 0.1660\n",
      "====> Test set loss: 0.1783\n",
      "Train Epoch: 17 [0/1750 (0%)]\tLoss: 0.139056\n",
      "Train Epoch: 17 [1280/1750 (71%)]\tLoss: 0.159941\n",
      "====> Epoch: 17 Average loss: 0.1655\n",
      "====> Test set loss: 0.1877\n",
      "Train Epoch: 18 [0/1750 (0%)]\tLoss: 0.163412\n",
      "Train Epoch: 18 [1280/1750 (71%)]\tLoss: 0.158771\n",
      "====> Epoch: 18 Average loss: 0.1643\n",
      "====> Test set loss: 0.1689\n",
      "Train Epoch: 19 [0/1750 (0%)]\tLoss: 0.163784\n",
      "Train Epoch: 19 [1280/1750 (71%)]\tLoss: 0.159394\n",
      "====> Epoch: 19 Average loss: 0.1630\n",
      "====> Test set loss: 0.1808\n",
      "Train Epoch: 20 [0/1750 (0%)]\tLoss: 0.131960\n",
      "Train Epoch: 20 [1280/1750 (71%)]\tLoss: 0.158911\n",
      "====> Epoch: 20 Average loss: 0.1715\n",
      "====> Test set loss: 0.1734\n",
      "Train Epoch: 21 [0/1750 (0%)]\tLoss: 0.138966\n",
      "Train Epoch: 21 [1280/1750 (71%)]\tLoss: 0.143792\n",
      "====> Epoch: 21 Average loss: 0.1684\n",
      "====> Test set loss: 0.1908\n",
      "Train Epoch: 22 [0/1750 (0%)]\tLoss: 0.138332\n",
      "Train Epoch: 22 [1280/1750 (71%)]\tLoss: 0.156356\n",
      "====> Epoch: 22 Average loss: 0.1604\n",
      "====> Test set loss: 0.1826\n",
      "Train Epoch: 23 [0/1750 (0%)]\tLoss: 0.182164\n",
      "Train Epoch: 23 [1280/1750 (71%)]\tLoss: 0.119484\n",
      "====> Epoch: 23 Average loss: 0.1632\n",
      "====> Test set loss: 0.1907\n",
      "Train Epoch: 24 [0/1750 (0%)]\tLoss: 0.102285\n",
      "Train Epoch: 24 [1280/1750 (71%)]\tLoss: 0.141983\n",
      "====> Epoch: 24 Average loss: 0.1645\n",
      "====> Test set loss: 0.1801\n",
      "Train Epoch: 25 [0/1750 (0%)]\tLoss: 0.184528\n",
      "Train Epoch: 25 [1280/1750 (71%)]\tLoss: 0.191068\n",
      "====> Epoch: 25 Average loss: 0.1804\n",
      "====> Test set loss: 0.1706\n",
      "Train Epoch: 26 [0/1750 (0%)]\tLoss: 0.162562\n",
      "Train Epoch: 26 [1280/1750 (71%)]\tLoss: 0.123350\n",
      "====> Epoch: 26 Average loss: 0.1769\n",
      "====> Test set loss: 0.1880\n",
      "Train Epoch: 27 [0/1750 (0%)]\tLoss: 0.109880\n",
      "Train Epoch: 27 [1280/1750 (71%)]\tLoss: 0.121119\n",
      "====> Epoch: 27 Average loss: 0.1592\n",
      "====> Test set loss: 0.1831\n",
      "Train Epoch: 28 [0/1750 (0%)]\tLoss: 0.138487\n",
      "Train Epoch: 28 [1280/1750 (71%)]\tLoss: 0.103543\n",
      "====> Epoch: 28 Average loss: 0.1626\n",
      "====> Test set loss: 0.1914\n",
      "Train Epoch: 29 [0/1750 (0%)]\tLoss: 0.185122\n",
      "Train Epoch: 29 [1280/1750 (71%)]\tLoss: 0.203825\n",
      "====> Epoch: 29 Average loss: 0.1703\n",
      "====> Test set loss: 0.1853\n",
      "Train Epoch: 30 [0/1750 (0%)]\tLoss: 0.144324\n",
      "Train Epoch: 30 [1280/1750 (71%)]\tLoss: 0.126351\n",
      "====> Epoch: 30 Average loss: 0.1687\n",
      "====> Test set loss: 0.1663\n",
      "Train Epoch: 31 [0/1750 (0%)]\tLoss: 0.118274\n",
      "Train Epoch: 31 [1280/1750 (71%)]\tLoss: 0.162795\n",
      "====> Epoch: 31 Average loss: 0.1759\n",
      "====> Test set loss: 0.1822\n",
      "Train Epoch: 32 [0/1750 (0%)]\tLoss: 0.161218\n",
      "Train Epoch: 32 [1280/1750 (71%)]\tLoss: 0.167328\n",
      "====> Epoch: 32 Average loss: 0.1734\n",
      "====> Test set loss: 0.1916\n",
      "Train Epoch: 33 [0/1750 (0%)]\tLoss: 0.143908\n",
      "Train Epoch: 33 [1280/1750 (71%)]\tLoss: 0.162880\n",
      "====> Epoch: 33 Average loss: 0.1612\n",
      "====> Test set loss: 0.1727\n",
      "Train Epoch: 34 [0/1750 (0%)]\tLoss: 0.181249\n",
      "Train Epoch: 34 [1280/1750 (71%)]\tLoss: 0.200387\n",
      "====> Epoch: 34 Average loss: 0.1744\n",
      "====> Test set loss: 0.1718\n",
      "Train Epoch: 35 [0/1750 (0%)]\tLoss: 0.173976\n",
      "Train Epoch: 35 [1280/1750 (71%)]\tLoss: 0.166260\n",
      "====> Epoch: 35 Average loss: 0.1671\n",
      "====> Test set loss: 0.1766\n",
      "Train Epoch: 36 [0/1750 (0%)]\tLoss: 0.139008\n",
      "Train Epoch: 36 [1280/1750 (71%)]\tLoss: 0.150680\n",
      "====> Epoch: 36 Average loss: 0.1620\n",
      "====> Test set loss: 0.1768\n",
      "Train Epoch: 37 [0/1750 (0%)]\tLoss: 0.108376\n",
      "Train Epoch: 37 [1280/1750 (71%)]\tLoss: 0.156755\n",
      "====> Epoch: 37 Average loss: 0.1759\n",
      "====> Test set loss: 0.1808\n",
      "Train Epoch: 38 [0/1750 (0%)]\tLoss: 0.168293\n",
      "Train Epoch: 38 [1280/1750 (71%)]\tLoss: 0.159996\n",
      "====> Epoch: 38 Average loss: 0.1640\n",
      "====> Test set loss: 0.1873\n",
      "Train Epoch: 39 [0/1750 (0%)]\tLoss: 0.145961\n",
      "Train Epoch: 39 [1280/1750 (71%)]\tLoss: 0.169065\n",
      "====> Epoch: 39 Average loss: 0.1718\n",
      "====> Test set loss: 0.1857\n",
      "Train Epoch: 40 [0/1750 (0%)]\tLoss: 0.208490\n",
      "Train Epoch: 40 [1280/1750 (71%)]\tLoss: 0.189168\n",
      "====> Epoch: 40 Average loss: 0.1696\n",
      "====> Test set loss: 0.1820\n",
      "Train Epoch: 41 [0/1750 (0%)]\tLoss: 0.183555\n",
      "Train Epoch: 41 [1280/1750 (71%)]\tLoss: 0.134594\n",
      "====> Epoch: 41 Average loss: 0.1609\n",
      "====> Test set loss: 0.1764\n",
      "Train Epoch: 42 [0/1750 (0%)]\tLoss: 0.135022\n",
      "Train Epoch: 42 [1280/1750 (71%)]\tLoss: 0.124786\n",
      "====> Epoch: 42 Average loss: 0.1662\n",
      "====> Test set loss: 0.1838\n",
      "Train Epoch: 43 [0/1750 (0%)]\tLoss: 0.165777\n",
      "Train Epoch: 43 [1280/1750 (71%)]\tLoss: 0.129536\n",
      "====> Epoch: 43 Average loss: 0.1618\n",
      "====> Test set loss: 0.1855\n",
      "Train Epoch: 44 [0/1750 (0%)]\tLoss: 0.155051\n",
      "Train Epoch: 44 [1280/1750 (71%)]\tLoss: 0.129379\n",
      "====> Epoch: 44 Average loss: 0.1639\n",
      "====> Test set loss: 0.1716\n",
      "Train Epoch: 45 [0/1750 (0%)]\tLoss: 0.136674\n",
      "Train Epoch: 45 [1280/1750 (71%)]\tLoss: 0.153012\n",
      "====> Epoch: 45 Average loss: 0.1577\n",
      "====> Test set loss: 0.1818\n",
      "Train Epoch: 46 [0/1750 (0%)]\tLoss: 0.104275\n",
      "Train Epoch: 46 [1280/1750 (71%)]\tLoss: 0.116882\n",
      "====> Epoch: 46 Average loss: 0.1614\n",
      "====> Test set loss: 0.1842\n",
      "Train Epoch: 47 [0/1750 (0%)]\tLoss: 0.154858\n",
      "Train Epoch: 47 [1280/1750 (71%)]\tLoss: 0.176528\n",
      "====> Epoch: 47 Average loss: 0.1637\n",
      "====> Test set loss: 0.1743\n",
      "Train Epoch: 48 [0/1750 (0%)]\tLoss: 0.208078\n",
      "Train Epoch: 48 [1280/1750 (71%)]\tLoss: 0.161938\n",
      "====> Epoch: 48 Average loss: 0.1733\n",
      "====> Test set loss: 0.1846\n",
      "Train Epoch: 49 [0/1750 (0%)]\tLoss: 0.130954\n",
      "Train Epoch: 49 [1280/1750 (71%)]\tLoss: 0.130557\n",
      "====> Epoch: 49 Average loss: 0.1624\n",
      "====> Test set loss: 0.1887\n",
      "Train Epoch: 50 [0/1750 (0%)]\tLoss: 0.163234\n",
      "Train Epoch: 50 [1280/1750 (71%)]\tLoss: 0.138694\n",
      "====> Epoch: 50 Average loss: 0.1665\n",
      "====> Test set loss: 0.1788\n",
      "Train Epoch: 51 [0/1750 (0%)]\tLoss: 0.142185\n",
      "Train Epoch: 51 [1280/1750 (71%)]\tLoss: 0.167382\n",
      "====> Epoch: 51 Average loss: 0.1696\n",
      "====> Test set loss: 0.1947\n",
      "Train Epoch: 52 [0/1750 (0%)]\tLoss: 0.167274\n",
      "Train Epoch: 52 [1280/1750 (71%)]\tLoss: 0.138812\n",
      "====> Epoch: 52 Average loss: 0.1612\n",
      "====> Test set loss: 0.1802\n",
      "Train Epoch: 53 [0/1750 (0%)]\tLoss: 0.198948\n",
      "Train Epoch: 53 [1280/1750 (71%)]\tLoss: 0.181118\n",
      "====> Epoch: 53 Average loss: 0.1673\n",
      "====> Test set loss: 0.1729\n",
      "Train Epoch: 54 [0/1750 (0%)]\tLoss: 0.144540\n",
      "Train Epoch: 54 [1280/1750 (71%)]\tLoss: 0.115764\n",
      "====> Epoch: 54 Average loss: 0.1600\n",
      "====> Test set loss: 0.1787\n",
      "Train Epoch: 55 [0/1750 (0%)]\tLoss: 0.182301\n",
      "Train Epoch: 55 [1280/1750 (71%)]\tLoss: 0.143556\n",
      "====> Epoch: 55 Average loss: 0.1683\n",
      "====> Test set loss: 0.1836\n",
      "Train Epoch: 56 [0/1750 (0%)]\tLoss: 0.101137\n",
      "Train Epoch: 56 [1280/1750 (71%)]\tLoss: 0.156277\n",
      "====> Epoch: 56 Average loss: 0.1672\n",
      "====> Test set loss: 0.1819\n",
      "Train Epoch: 57 [0/1750 (0%)]\tLoss: 0.126377\n",
      "Train Epoch: 57 [1280/1750 (71%)]\tLoss: 0.166280\n",
      "====> Epoch: 57 Average loss: 0.1639\n",
      "====> Test set loss: 0.1785\n",
      "Train Epoch: 58 [0/1750 (0%)]\tLoss: 0.146702\n",
      "Train Epoch: 58 [1280/1750 (71%)]\tLoss: 0.143816\n",
      "====> Epoch: 58 Average loss: 0.1695\n",
      "====> Test set loss: 0.1836\n",
      "Train Epoch: 59 [0/1750 (0%)]\tLoss: 0.149312\n",
      "Train Epoch: 59 [1280/1750 (71%)]\tLoss: 0.166488\n",
      "====> Epoch: 59 Average loss: 0.1665\n",
      "====> Test set loss: 0.1684\n",
      "Train Epoch: 60 [0/1750 (0%)]\tLoss: 0.146795\n",
      "Train Epoch: 60 [1280/1750 (71%)]\tLoss: 0.178274\n",
      "====> Epoch: 60 Average loss: 0.1648\n"
     ]
    },
    {
     "name": "stderr",
     "output_type": "stream",
     "text": [
      "INFO:root:Done: training for run_zq9ohvqh_s1_synthetic\n"
     ]
    },
    {
     "name": "stdout",
     "output_type": "stream",
     "text": [
      "====> Test set loss: 0.1779\n"
     ]
    },
    {
     "name": "stderr",
     "output_type": "stream",
     "text": [
      "INFO:root:Done: training's plot & log for run_zq9ohvqh_s1_synthetic\n"
     ]
    },
    {
     "name": "stdout",
     "output_type": "stream",
     "text": [
      "Computing learned curvature...\n"
     ]
    },
    {
     "ename": "TypeError",
     "evalue": "PullbackMetric.__init__() got an unexpected keyword argument 'dim'",
     "output_type": "error",
     "traceback": [
      "\u001b[0;31m---------------------------------------------------------------------------\u001b[0m",
      "\u001b[0;31mTypeError\u001b[0m                                 Traceback (most recent call last)",
      "Cell \u001b[0;32mIn[8], line 28\u001b[0m\n\u001b[1;32m     25\u001b[0m training_plot_log(wandb_config, dataset, labels, train_losses, test_losses, model)\n\u001b[1;32m     26\u001b[0m logging\u001b[38;5;241m.\u001b[39minfo(\u001b[38;5;124mf\u001b[39m\u001b[38;5;124m\"\u001b[39m\u001b[38;5;124mDone: training\u001b[39m\u001b[38;5;124m'\u001b[39m\u001b[38;5;124ms plot & log for \u001b[39m\u001b[38;5;132;01m{\u001b[39;00mrun_name\u001b[38;5;132;01m}\u001b[39;00m\u001b[38;5;124m\"\u001b[39m)\n\u001b[0;32m---> 28\u001b[0m \u001b[43mcurvature_compute_plot_log\u001b[49m\u001b[43m(\u001b[49m\u001b[43mwandb_config\u001b[49m\u001b[43m,\u001b[49m\u001b[43m \u001b[49m\u001b[43mdataset\u001b[49m\u001b[43m,\u001b[49m\u001b[43m \u001b[49m\u001b[43mlabels\u001b[49m\u001b[43m,\u001b[49m\u001b[43m \u001b[49m\u001b[43mmodel\u001b[49m\u001b[43m)\u001b[49m\n\u001b[1;32m     29\u001b[0m logging\u001b[38;5;241m.\u001b[39minfo(\u001b[38;5;124mf\u001b[39m\u001b[38;5;124m\"\u001b[39m\u001b[38;5;124mDone: curvature\u001b[39m\u001b[38;5;124m'\u001b[39m\u001b[38;5;124ms compute, plot & log for \u001b[39m\u001b[38;5;132;01m{\u001b[39;00mrun_name\u001b[38;5;132;01m}\u001b[39;00m\u001b[38;5;124m\"\u001b[39m)\n\u001b[1;32m     30\u001b[0m logging\u001b[38;5;241m.\u001b[39minfo(\u001b[38;5;124mf\u001b[39m\u001b[38;5;124m\"\u001b[39m\u001b[38;5;130;01m\\n\u001b[39;00m\u001b[38;5;124m------> COMPLETED run: \u001b[39m\u001b[38;5;132;01m{\u001b[39;00mrun_name\u001b[38;5;132;01m}\u001b[39;00m\u001b[38;5;130;01m\\n\u001b[39;00m\u001b[38;5;124m\"\u001b[39m)\n",
      "File \u001b[0;32m~/neurometry/neurometry/curvature/main.py:440\u001b[0m, in \u001b[0;36mcurvature_compute_plot_log\u001b[0;34m(config, dataset, labels, model)\u001b[0m\n\u001b[1;32m    438\u001b[0m \u001b[38;5;28mprint\u001b[39m(\u001b[38;5;124m\"\u001b[39m\u001b[38;5;124mComputing learned curvature...\u001b[39m\u001b[38;5;124m\"\u001b[39m)\n\u001b[1;32m    439\u001b[0m start_time \u001b[38;5;241m=\u001b[39m time\u001b[38;5;241m.\u001b[39mtime()\n\u001b[0;32m--> 440\u001b[0m z_grid, geodesic_dist, _, curv_norms_learned \u001b[38;5;241m=\u001b[39m \u001b[43mevaluate\u001b[49m\u001b[38;5;241;43m.\u001b[39;49m\u001b[43mcompute_curvature_learned\u001b[49m\u001b[43m(\u001b[49m\n\u001b[1;32m    441\u001b[0m \u001b[43m    \u001b[49m\u001b[43mmodel\u001b[49m\u001b[38;5;241;43m=\u001b[39;49m\u001b[43mmodel\u001b[49m\u001b[43m,\u001b[49m\n\u001b[1;32m    442\u001b[0m \u001b[43m    \u001b[49m\u001b[43mconfig\u001b[49m\u001b[38;5;241;43m=\u001b[39;49m\u001b[43mconfig\u001b[49m\u001b[43m,\u001b[49m\n\u001b[1;32m    443\u001b[0m \u001b[43m    \u001b[49m\u001b[43membedding_dim\u001b[49m\u001b[38;5;241;43m=\u001b[39;49m\u001b[43mdataset\u001b[49m\u001b[38;5;241;43m.\u001b[39;49m\u001b[43mshape\u001b[49m\u001b[43m[\u001b[49m\u001b[38;5;241;43m1\u001b[39;49m\u001b[43m]\u001b[49m\u001b[43m,\u001b[49m\n\u001b[1;32m    444\u001b[0m \u001b[43m    \u001b[49m\u001b[43mn_grid_points\u001b[49m\u001b[38;5;241;43m=\u001b[39;49m\u001b[43mconfig\u001b[49m\u001b[38;5;241;43m.\u001b[39;49m\u001b[43mn_grid_points\u001b[49m\u001b[43m,\u001b[49m\n\u001b[1;32m    445\u001b[0m \u001b[43m\u001b[49m\u001b[43m)\u001b[49m\n\u001b[1;32m    447\u001b[0m curv_norm_learned_profile \u001b[38;5;241m=\u001b[39m pd\u001b[38;5;241m.\u001b[39mDataFrame(\n\u001b[1;32m    448\u001b[0m     {\n\u001b[1;32m    449\u001b[0m         \u001b[38;5;124m\"\u001b[39m\u001b[38;5;124mgeodesic_dist\u001b[39m\u001b[38;5;124m\"\u001b[39m: geodesic_dist,\n\u001b[1;32m    450\u001b[0m         \u001b[38;5;124m\"\u001b[39m\u001b[38;5;124mcurv_norm_learned\u001b[39m\u001b[38;5;124m\"\u001b[39m: curv_norms_learned,\n\u001b[1;32m    451\u001b[0m     }\n\u001b[1;32m    452\u001b[0m )\n\u001b[1;32m    453\u001b[0m \u001b[38;5;28;01mif\u001b[39;00m config\u001b[38;5;241m.\u001b[39mdataset_name \u001b[38;5;129;01min\u001b[39;00m (\n\u001b[1;32m    454\u001b[0m     \u001b[38;5;124m\"\u001b[39m\u001b[38;5;124ms1_synthetic\u001b[39m\u001b[38;5;124m\"\u001b[39m,\n\u001b[1;32m    455\u001b[0m     \u001b[38;5;124m\"\u001b[39m\u001b[38;5;124mexperimental\u001b[39m\u001b[38;5;124m\"\u001b[39m,\n\u001b[1;32m    456\u001b[0m     \u001b[38;5;124m\"\u001b[39m\u001b[38;5;124mthree_place_cells_synthetic\u001b[39m\u001b[38;5;124m\"\u001b[39m,\n\u001b[1;32m    457\u001b[0m ):\n",
      "File \u001b[0;32m~/neurometry/neurometry/curvature/evaluate.py:145\u001b[0m, in \u001b[0;36mcompute_curvature_learned\u001b[0;34m(model, config, embedding_dim, n_grid_points)\u001b[0m\n\u001b[1;32m    143\u001b[0m immersion \u001b[38;5;241m=\u001b[39m get_learned_immersion(model, config)\n\u001b[1;32m    144\u001b[0m start_time \u001b[38;5;241m=\u001b[39m time\u001b[38;5;241m.\u001b[39mtime()\n\u001b[0;32m--> 145\u001b[0m geodesic_dist, curv, curv_norm \u001b[38;5;241m=\u001b[39m \u001b[43m_compute_curvature\u001b[49m\u001b[43m(\u001b[49m\n\u001b[1;32m    146\u001b[0m \u001b[43m    \u001b[49m\u001b[43mz_grid\u001b[49m\u001b[38;5;241;43m=\u001b[39;49m\u001b[43mz_grid\u001b[49m\u001b[43m,\u001b[49m\n\u001b[1;32m    147\u001b[0m \u001b[43m    \u001b[49m\u001b[43mimmersion\u001b[49m\u001b[38;5;241;43m=\u001b[39;49m\u001b[43mimmersion\u001b[49m\u001b[43m,\u001b[49m\n\u001b[1;32m    148\u001b[0m \u001b[43m    \u001b[49m\u001b[43mdim\u001b[49m\u001b[38;5;241;43m=\u001b[39;49m\u001b[43mconfig\u001b[49m\u001b[38;5;241;43m.\u001b[39;49m\u001b[43mmanifold_dim\u001b[49m\u001b[43m,\u001b[49m\n\u001b[1;32m    149\u001b[0m \u001b[43m    \u001b[49m\u001b[43membedding_dim\u001b[49m\u001b[38;5;241;43m=\u001b[39;49m\u001b[43membedding_dim\u001b[49m\u001b[43m,\u001b[49m\n\u001b[1;32m    150\u001b[0m \u001b[43m\u001b[49m\u001b[43m)\u001b[49m\n\u001b[1;32m    151\u001b[0m end_time \u001b[38;5;241m=\u001b[39m time\u001b[38;5;241m.\u001b[39mtime()\n\u001b[1;32m    152\u001b[0m \u001b[38;5;28mprint\u001b[39m(\u001b[38;5;124m\"\u001b[39m\u001b[38;5;124mComputation time: \u001b[39m\u001b[38;5;124m\"\u001b[39m \u001b[38;5;241m+\u001b[39m \u001b[38;5;124m\"\u001b[39m\u001b[38;5;132;01m%.3f\u001b[39;00m\u001b[38;5;124m\"\u001b[39m \u001b[38;5;241m%\u001b[39m (end_time \u001b[38;5;241m-\u001b[39m start_time) \u001b[38;5;241m+\u001b[39m \u001b[38;5;124m\"\u001b[39m\u001b[38;5;124m seconds.\u001b[39m\u001b[38;5;124m\"\u001b[39m)\n",
      "File \u001b[0;32m~/neurometry/neurometry/curvature/evaluate.py:112\u001b[0m, in \u001b[0;36m_compute_curvature\u001b[0;34m(z_grid, immersion, dim, embedding_dim)\u001b[0m\n\u001b[1;32m    110\u001b[0m \u001b[38;5;28;01mdef\u001b[39;00m \u001b[38;5;21m_compute_curvature\u001b[39m(z_grid, immersion, dim, embedding_dim):\n\u001b[1;32m    111\u001b[0m \u001b[38;5;250m    \u001b[39m\u001b[38;5;124;03m\"\"\"Compute mean curvature vector and its norm at each point.\"\"\"\u001b[39;00m\n\u001b[0;32m--> 112\u001b[0m     neural_metric \u001b[38;5;241m=\u001b[39m \u001b[43mPullbackMetric\u001b[49m\u001b[43m(\u001b[49m\n\u001b[1;32m    113\u001b[0m \u001b[43m        \u001b[49m\u001b[43mdim\u001b[49m\u001b[38;5;241;43m=\u001b[39;49m\u001b[43mdim\u001b[49m\u001b[43m,\u001b[49m\u001b[43m \u001b[49m\u001b[43membedding_dim\u001b[49m\u001b[38;5;241;43m=\u001b[39;49m\u001b[43membedding_dim\u001b[49m\u001b[43m,\u001b[49m\u001b[43m \u001b[49m\u001b[43mimmersion\u001b[49m\u001b[38;5;241;43m=\u001b[39;49m\u001b[43mimmersion\u001b[49m\n\u001b[1;32m    114\u001b[0m \u001b[43m    \u001b[49m\u001b[43m)\u001b[49m\n\u001b[1;32m    115\u001b[0m     torch\u001b[38;5;241m.\u001b[39munsqueeze(z_grid[\u001b[38;5;241m0\u001b[39m], dim\u001b[38;5;241m=\u001b[39m\u001b[38;5;241m0\u001b[39m)\n\u001b[1;32m    116\u001b[0m     \u001b[38;5;28;01mif\u001b[39;00m dim \u001b[38;5;241m==\u001b[39m \u001b[38;5;241m1\u001b[39m:\n",
      "\u001b[0;31mTypeError\u001b[0m: PullbackMetric.__init__() got an unexpected keyword argument 'dim'"
     ]
    }
   ],
   "source": [
    "# Load data, labels\n",
    "dataset, labels, train_loader, test_loader = utils.load(wandb_config)\n",
    "data_n_times, data_dim = dataset.shape\n",
    "wandb_config.update(\n",
    "    {\n",
    "        \"run_name\": run_name,\n",
    "        \"results_prefix\": run_name,\n",
    "        \"data_n_times\": data_n_times,\n",
    "        \"data_dim\": data_dim,\n",
    "    }\n",
    ")\n",
    "\n",
    "# Save config for easy access from notebooks\n",
    "wandb_config_path = os.path.join(default_config.configs_dir, run_name + \".json\")\n",
    "with open(wandb_config_path, \"w\") as config_file:\n",
    "    json.dump(dict(wandb_config), config_file)\n",
    "\n",
    "# Note: loaders put data on GPU during each epoch\n",
    "dataset = dataset.to(wandb_config.device)\n",
    "train_losses, test_losses, model = create_model_and_train_test(\n",
    "    wandb_config, train_loader, test_loader\n",
    ")\n",
    "logging.info(f\"Done: training for {run_name}\")\n",
    "\n",
    "training_plot_log(wandb_config, dataset, labels, train_losses, test_losses, model)\n",
    "logging.info(f\"Done: training's plot & log for {run_name}\")\n",
    "\n",
    "curvature_compute_plot_log(wandb_config, dataset, labels, model)\n",
    "logging.info(f\"Done: curvature's compute, plot & log for {run_name}\")\n",
    "logging.info(f\"\\n------> COMPLETED run: {run_name}\\n\")\n",
    "\n",
    "# Wandb records a run as finished even if it has failed.\n",
    "wandb.finish()"
   ]
  },
  {
   "cell_type": "code",
   "execution_count": null,
   "metadata": {},
   "outputs": [],
   "source": []
  }
 ],
 "metadata": {
  "kernelspec": {
   "display_name": "neurometry",
   "language": "python",
   "name": "python3"
  },
  "language_info": {
   "codemirror_mode": {
    "name": "ipython",
    "version": 3
   },
   "file_extension": ".py",
   "mimetype": "text/x-python",
   "name": "python",
   "nbconvert_exporter": "python",
   "pygments_lexer": "ipython3",
   "version": "3.11.3"
  }
 },
 "nbformat": 4,
 "nbformat_minor": 2
}
