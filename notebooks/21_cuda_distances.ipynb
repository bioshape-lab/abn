{
 "cells": [
  {
   "cell_type": "code",
   "execution_count": 1,
   "id": "c42efbe3-d1a4-4507-ba21-7d211f596b2a",
   "metadata": {
    "tags": []
   },
   "outputs": [
    {
     "name": "stdout",
     "output_type": "stream",
     "text": [
      "env: CUDA_VISIBLE_DEVICES=3\n"
     ]
    }
   ],
   "source": [
    "%env CUDA_VISIBLE_DEVICES = 3"
   ]
  },
  {
   "cell_type": "code",
   "execution_count": 2,
   "id": "b4e54b61-c255-4782-a52f-c3c6a6242e5c",
   "metadata": {
    "tags": []
   },
   "outputs": [],
   "source": [
    "import os, sys\n",
    "import numpy as np\n",
    "import time\n",
    "import torch\n",
    "\n",
    "from tqdm.auto import tqdm\n",
    "from copy import copy, deepcopy\n",
    "\n",
    "from plotnine import *\n",
    "import plotnine.options as plotnine_opts"
   ]
  },
  {
   "cell_type": "code",
   "execution_count": 3,
   "id": "3ffc7d36-e942-4b1c-b417-058bcddc5255",
   "metadata": {
    "tags": []
   },
   "outputs": [],
   "source": [
    "sys.path.append(\"../nsd_deepdive\")\n",
    "from brain_mapping import *"
   ]
  },
  {
   "cell_type": "code",
   "execution_count": 5,
   "id": "9a59faa7-e3bc-468b-87a4-bd58576cf38d",
   "metadata": {
    "tags": []
   },
   "outputs": [
    {
     "name": "stdout",
     "output_type": "stream",
     "text": [
      "Now loading the shared1000 image set and the OTC-only voxel set...\n"
     ]
    }
   ],
   "source": [
    "benchmark = \"shared1000_OTC-only\"\n",
    "target_region = \"OTC\"\n",
    "benchmark = NSDBenchmark(*benchmark.split(\"_\"))"
   ]
  },
  {
   "cell_type": "code",
   "execution_count": 7,
   "id": "ec97d69b-7d22-4359-9edd-4a6bce0d3fd2",
   "metadata": {
    "tags": []
   },
   "outputs": [
    {
     "data": {
      "application/vnd.jupyter.widget-view+json": {
       "model_id": "ad72d9b8ec0145c39a680bed7020d078",
       "version_major": 2,
       "version_minor": 0
      },
      "text/plain": [
       "Feature Extraction (Batch):   0%|          | 0/16 [00:00<?, ?it/s]"
      ]
     },
     "metadata": {},
     "output_type": "display_data"
    }
   ],
   "source": [
    "model_uid = \"torchvision_alexnet_imagenet1k_v1\"\n",
    "model, preprocess = get_deepdive_model(model_uid)\n",
    "\n",
    "image_loader = get_image_loader(benchmark.image_paths, preprocess)\n",
    "feature_maps = get_all_feature_maps(model, image_loader, numpy=False)"
   ]
  },
  {
   "cell_type": "code",
   "execution_count": 8,
   "id": "d5f620e5-7b98-47ef-9d53-2afdb8a41455",
   "metadata": {
    "tags": []
   },
   "outputs": [
    {
     "data": {
      "application/vnd.jupyter.widget-view+json": {
       "model_id": "7f20910f37a443c2a48cf8861bf40e37",
       "version_major": 2,
       "version_minor": 0
      },
      "text/plain": [
       "SR Projection (Layer):   0%|          | 0/18 [00:00<?, ?it/s]"
      ]
     },
     "metadata": {},
     "output_type": "display_data"
    }
   ],
   "source": [
    "sys.path.append(\".\")\n",
    "from cuda_srp import *\n",
    "\n",
    "feature_maps_redux = get_feature_map_srps(feature_maps, device=\"cuda:0\")"
   ]
  },
  {
   "cell_type": "code",
   "execution_count": 46,
   "id": "3154b3c9-39ba-4e9d-a2f3-f47a63a2ef90",
   "metadata": {
    "tags": []
   },
   "outputs": [],
   "source": [
    "from torch.utils.data import Dataset, DataLoader\n",
    "\n",
    "\n",
    "class FeatureMapDataSet(Dataset):\n",
    "    def __init__(self, feature_maps):\n",
    "        self.model_layers = [key for key in feature_maps.keys()]\n",
    "        self.feature_maps = [val for val in feature_maps.values()]\n",
    "\n",
    "    def __len__(self):\n",
    "        return len(self.feature_maps)\n",
    "\n",
    "    def __getitem__(self, idx):\n",
    "        model_layers = self.model_layers[idx]\n",
    "        feature_maps = self.feature_maps[idx]\n",
    "        return model_layers, feature_maps\n",
    "\n",
    "\n",
    "feature_map_dataset = FeatureMapDataSet(feature_maps_redux)\n",
    "feature_map_loader = DataLoader(feature_map_dataset, batch_size=1, shuffle=False)"
   ]
  },
  {
   "cell_type": "code",
   "execution_count": 10,
   "id": "8f58e0f4-1e73-4a15-9a40-ea548f3cbb7e",
   "metadata": {
    "tags": []
   },
   "outputs": [],
   "source": [
    "X_check = deepcopy(feature_maps_redux[\"Linear-1\"])\n",
    "y_check = deepcopy(benchmark.response_data.to_numpy().T)"
   ]
  },
  {
   "cell_type": "markdown",
   "id": "81aecd73-4109-42af-b51b-fe7cb40e191b",
   "metadata": {},
   "source": [
    "### Torch Distance Matrices (RDMs)"
   ]
  },
  {
   "cell_type": "code",
   "execution_count": 31,
   "id": "67345b0d-1670-47b1-a979-4c7e895f0544",
   "metadata": {
    "tags": []
   },
   "outputs": [],
   "source": [
    "rdm_comparands = {\"scipy\": {}, \"torch\": {}, \"cupy\": {}, \"numpy\": {}}\n",
    "n_samples, n_features = 100, 50"
   ]
  },
  {
   "cell_type": "code",
   "execution_count": 32,
   "id": "e90397d8-3839-4071-be69-398683de6ad7",
   "metadata": {
    "tags": []
   },
   "outputs": [],
   "source": [
    "from scipy.spatial import distance as scipy_dist\n",
    "from scipy.stats import spearmanr, pearsonr\n",
    "\n",
    "\n",
    "def scipy_distance_matrix(input_data, distance, **kwargs):\n",
    "    return scipy_dist.squareform(scipy_dist.pdist(input_data, distance, **kwargs))\n",
    "\n",
    "\n",
    "def scipy_distance_matrix_with_time(input_data, distance, **kwargs):\n",
    "    start_time = time.time()\n",
    "    if distance == \"spearman\":\n",
    "        distance_matrix = 1 - spearmanr(input_data.T)[0]\n",
    "    if distance not in [\"spearman\"]:\n",
    "        distance_matrix = scipy_distance_matrix(input_data, distance, **kwargs)\n",
    "    total_time = start_time - time.time()\n",
    "\n",
    "    print(f\"Time taken: {round(total_time, 3)} seconds\")\n",
    "    return distance_matrix"
   ]
  },
  {
   "cell_type": "code",
   "execution_count": 33,
   "id": "e48dba46-d2bf-44ad-82b7-b12c22555889",
   "metadata": {
    "tags": []
   },
   "outputs": [
    {
     "name": "stdout",
     "output_type": "stream",
     "text": [
      "Now computing euclidean with scipy...\n",
      "Time taken: -0.001 seconds\n",
      "Now computing correlation with scipy...\n",
      "Time taken: -0.001 seconds\n",
      "Now computing spearman with scipy...\n",
      "Time taken: -0.03 seconds\n",
      "Now computing mahalanobis with scipy...\n",
      "Time taken: -0.01 seconds\n",
      "euclidean RDM shape:  (100, 100)\n",
      "pearson RDM shape:  (100, 100)\n",
      "spearman RDM shape:  (100, 100)\n"
     ]
    }
   ],
   "source": [
    "sample_matrix = benchmark.response_data.to_numpy()[:n_samples, :n_features]\n",
    "for distance in [\"euclidean\", \"correlation\", \"spearman\", \"mahalanobis\"]:\n",
    "    print(f\"Now computing {distance} with scipy...\")\n",
    "    rdm_comparands[\"scipy\"][distance] = scipy_distance_matrix_with_time(\n",
    "        sample_matrix, distance\n",
    "    )\n",
    "\n",
    "rdm_comparands[\"scipy\"][\"pearson\"] = rdm_comparands[\"scipy\"][\"correlation\"]\n",
    "\n",
    "for metric in [\"euclidean\", \"pearson\", \"spearman\"]:\n",
    "    print(f\"{metric} RDM shape: \", rdm_comparands[\"scipy\"][metric].shape)"
   ]
  },
  {
   "cell_type": "code",
   "execution_count": 118,
   "id": "af97ee75-6463-48ac-bd7b-9b947c24c01f",
   "metadata": {
    "tags": []
   },
   "outputs": [],
   "source": [
    "import numpy as np\n",
    "import cupy as cp\n",
    "\n",
    "def backend_convert(data, engine = 'torch'):\n",
    "    if engine == 'numpy':\n",
    "        if isinstance(data, np.ndarray):\n",
    "            return data\n",
    "        elif isinstance(data, torch.Tensor):\n",
    "            return data.cpu().numpy()\n",
    "        else:  # assumes data is a cupy array\n",
    "            return cp.asnumpy(data)\n",
    "    elif engine == 'cupy':\n",
    "        if isinstance(data, cp.ndarray):\n",
    "            return data\n",
    "        elif isinstance(data, np.ndarray):\n",
    "            return cp.asarray(data)\n",
    "        else:  # assumes data is a torch Tensor\n",
    "            return cp.fromDlpack(torch.utils.dlpack.to_dlpack(data))\n",
    "    elif engine == 'torch':\n",
    "        if isinstance(data, torch.Tensor):\n",
    "            return data\n",
    "        elif isinstance(data, np.ndarray):\n",
    "            return torch.from_numpy(data)\n",
    "        else:  # assumes data is a cupy array\n",
    "            return torch.utils.dlpack.from_dlpack(data.toDlpack())\n",
    "\n",
    "def calc_mahalanobis_rdm(data, engine = 'torch', output='torch', cov_matrix=None, norm = False):\n",
    "    data = backend_convert(data, engine)\n",
    "    if engine == 'numpy':\n",
    "        if cov_matrix is None:\n",
    "            cov_matrix = np.cov(data, rowvar=False)\n",
    "        inv_cov_matrix = np.linalg.inv(cov_matrix)\n",
    "        centered_data = data - np.mean(data, axis=0)\n",
    "        kernel = centered_data @ inv_cov_matrix @ centered_data.T\n",
    "        rdm = np.diag(kernel)[:, None] + np.diag(kernel)[None, :] - 2 * kernel\n",
    "    if engine == 'cupy':\n",
    "        if cov_matrix is None:\n",
    "            cov_matrix = cp.cov(data, rowvar=False)\n",
    "        inv_cov_matrix = cp.linalg.inv(cov_matrix)\n",
    "        centered_data = data - cp.mean(data, axis=0)\n",
    "        kernel = centered_data @ inv_cov_matrix @ centered_data.T\n",
    "        rdm = cp.diag(kernel)[:, None] + cp.diag(kernel)[None, :] - 2 * kernel\n",
    "    if engine == 'torch':\n",
    "        if cov_matrix is None:\n",
    "            cov_matrix = torch.cov(data.T) #note transpose\n",
    "        inv_cov_matrix = torch.inverse(cov_matrix)\n",
    "        centered_data = data - torch.mean(data, axis=0)\n",
    "        kernel = centered_data @ inv_cov_matrix @ centered_data.T\n",
    "        rdm = torch.diag(kernel).unsqueeze(1) + torch.diag(kernel).unsqueeze(0) - 2 * kernel\n",
    "    if norm: rdm /= data.shape[0]\n",
    "    return backend_convert(rdm, output)\n",
    "    \n",
    "def calc_pearson_rdm(data, engine='torch', output='torch', norm=False):\n",
    "    data = backend_convert(data, engine)\n",
    "    if engine == 'numpy':\n",
    "        rdm = 1 - np.corrcoef(data)\n",
    "    if engine == 'torch':\n",
    "        rdm = 1 - torch.corrcoef(data)\n",
    "    if norm: rdm =/ data.shape[1]\n",
    "    return backend_convert(rdm, output)\n",
    "\n",
    "def calc_spearman_rdm(data, engine='torch', output='torch', norm=False):\n",
    "    data = backend_convert(data, engine)\n",
    "    \n",
    "    def rank_order(data):\n",
    "        return data.clone().argsort(dim=1).argsort(dim=1)\n",
    "    \n",
    "    if engine == 'numpy':\n",
    "        from scipy.stats import spearmanr\n",
    "        rdm = 1 - spearmanr(data.T)[0]\n",
    "    if engine == 'torch':\n",
    "        rank_input = rank_order(data)\n",
    "        rdm = 1 - torch.corrcoef(rank_input)\n",
    "    if norm: rdm /= data.shape[0]\n",
    "    return backend_convert(rdm, output)\n",
    "    \n",
    "def calc_euclidean_rdm(data, engine='torch', output='torch', norm=False):\n",
    "    data = backend_convert(data, engine)\n",
    "    if engine == 'numpy':\n",
    "        rdm = squareform(pdist(data, 'euclidean'))\n",
    "    if engine == 'torch':\n",
    "        rdm = torch.cdist(data, data, p=2.0)\n",
    "        rdm = rdm.fill_diagonal_(0)\n",
    "    if norm: rdm /= data.shape[0]\n",
    "    return backend_convert(rdm, output)\n",
    "    \n",
    "def calculate_rdm(data, distance = 'pearson', engine = 'torch', output = 'torch'):\n",
    "    if distance == 'euclidean':\n",
    "        return calc_euclidean_rdm(data, engine, output)\n",
    "    if distance == 'pearson':\n",
    "        return calc_pearson_rdm(data, engine, output)\n",
    "    if distance == 'spearman':\n",
    "        return calc_spearman_rdm(data, engine, output)\n",
    "    if distance == 'mahalanobis':\n",
    "        return calc_mahalanobis_rdm(data, engine, output)"
   ]
  },
  {
   "cell_type": "code",
   "execution_count": 119,
   "id": "a4a54dea-4abb-4ffe-b4d2-75995ce2270f",
   "metadata": {
    "tags": []
   },
   "outputs": [
    {
     "name": "stdout",
     "output_type": "stream",
     "text": [
      "torch spearman allclose with scipy:  True\n",
      "numpy spearman allclose with scipy:  True\n",
      "torch pearson allclose with scipy:  True\n",
      "numpy pearson allclose with scipy:  True\n",
      "torch euclidean allclose with scipy:  True\n",
      "numpy euclidean allclose with scipy:  True\n"
     ]
    }
   ],
   "source": [
    "sample_matrix = benchmark.response_data.to_numpy()[:n_samples, :n_features]\n",
    "for distance in [\"mahalanobis\", \"pearson\", \"spearman\", \"euclidean\"]:\n",
    "    for engine in [\"torch\", \"numpy\"]:\n",
    "        rdm = calculate_rdm(\n",
    "            sample_matrix, distance=distance, engine=engine, output=\"numpy\"\n",
    "        )\n",
    "        rdm_comparands[engine][distance] = rdm\n",
    "        if not rdm.shape == (n_samples, n_samples):\n",
    "            print(f\"{distance} {engine} RDM shape:\", rdm.shape)\n",
    "\n",
    "for distance in [\"spearman\", \"pearson\", \"euclidean\"]:\n",
    "    for engine in [\"torch\", \"numpy\"]:\n",
    "        print(\n",
    "            f\"{engine} {distance} allclose with scipy: \",\n",
    "            np.allclose(\n",
    "                rdm_comparands[\"scipy\"][distance],\n",
    "                rdm_comparands[engine][distance],\n",
    "                atol=1e-05,\n",
    "            ),\n",
    "        )"
   ]
  },
  {
   "cell_type": "code",
   "execution_count": 41,
   "id": "f182179b-ea39-43d1-be7c-a720f9eb13e6",
   "metadata": {
    "tags": []
   },
   "outputs": [
    {
     "data": {
      "application/vnd.jupyter.widget-view+json": {
       "model_id": "b31084a919e54cff9eb68073d9e63177",
       "version_major": 2,
       "version_minor": 0
      },
      "text/plain": [
       "  0%|          | 0/3 [00:00<?, ?it/s]"
      ]
     },
     "metadata": {},
     "output_type": "display_data"
    },
    {
     "name": "stdout",
     "output_type": "stream",
     "text": [
      "numpy malahanobis allclose with scipy:  True\n",
      "cupy malahanobis allclose with scipy:  True\n",
      "torch malahanobis allclose with scipy:  True\n"
     ]
    }
   ],
   "source": [
    "sample_matrix = benchmark.response_data.to_numpy()[:n_samples, :n_features]\n",
    "for engine in tqdm([\"numpy\", \"cupy\", \"torch\"]):\n",
    "    rdm = calc_rdm_mahalanobis(sample_matrix, engine=engine)\n",
    "    if not engine in rdm_comparands:\n",
    "        rdm_comparands[engine] = {}\n",
    "    if rdm.is_cuda:\n",
    "        rdm = rdm.to(\"cpu\")\n",
    "    rdm_comparands[engine][\"mahalanobis\"] = rdm\n",
    "    print(\n",
    "        f\"{engine} malahanobis allclose with scipy: \",\n",
    "        np.allclose(\n",
    "            rdm_comparands[\"scipy\"][\"mahalanobis\"] ** 2,\n",
    "            rdm_comparands[engine][\"mahalanobis\"],\n",
    "        ),\n",
    "    )"
   ]
  },
  {
   "cell_type": "code",
   "execution_count": 48,
   "id": "c118b8b7-aa60-46d3-9b96-6f4c48a6406d",
   "metadata": {
    "tags": []
   },
   "outputs": [
    {
     "data": {
      "application/vnd.jupyter.widget-view+json": {
       "model_id": "118f7fa5af0940198bca390aa1d87295",
       "version_major": 2,
       "version_minor": 0
      },
      "text/plain": [
       "  0%|          | 0/18 [00:00<?, ?it/s]"
      ]
     },
     "metadata": {},
     "output_type": "display_data"
    }
   ],
   "source": [
    "device = \"cpu\"  #'cuda:0' if torch.cuda.is_available() else 'cpu'\n",
    "for layer_index, (model_layer, feature_map) in enumerate(tqdm(feature_map_loader)):\n",
    "    rdm = calc_rdm_mahalanobis(feature_map.squeeze())"
   ]
  },
  {
   "cell_type": "code",
   "execution_count": 49,
   "id": "0543963f-2113-42db-903f-186602114a1e",
   "metadata": {},
   "outputs": [
    {
     "data": {
      "application/vnd.jupyter.widget-view+json": {
       "model_id": "1793cb31afd34f07863e49b96f8e36fd",
       "version_major": 2,
       "version_minor": 0
      },
      "text/plain": [
       "  0%|          | 0/18 [00:00<?, ?it/s]"
      ]
     },
     "metadata": {},
     "output_type": "display_data"
    }
   ],
   "source": [
    "device = \"cuda:0\" if torch.cuda.is_available() else \"cpu\"\n",
    "for layer_index, (model_layer, feature_map) in enumerate(tqdm(feature_map_loader)):\n",
    "    feature_map = feature_map.to(device)\n",
    "    rdm = calc_rdm_mahalanobis(feature_map.squeeze())\n",
    "\n",
    "rdm = rdm.to(\"cpu\")"
   ]
  },
  {
   "cell_type": "code",
   "execution_count": 117,
   "id": "fed9fbcb-9d3e-4c92-9049-f118bf7180c2",
   "metadata": {
    "tags": []
   },
   "outputs": [],
   "source": [
    "def linccc_distance(x1, x2):\n",
    "    cor = pearsonr(x1, x2)[0]\n",
    "    x1_mean = np.mean(x1)\n",
    "    x2_mean = np.mean(x2)\n",
    "    x1_var = np.var(x1)\n",
    "    x2_var = np.var(x2)\n",
    "    x1_std = np.std(x1)\n",
    "    x2_std = np.std(x2)\n",
    "\n",
    "    numerator = 2 * cor * x1_std * x2_std\n",
    "    denominator = x1_var + x2_var + (x1_mean - x2_mean) ** 2\n",
    "\n",
    "    return numerator / denominator"
   ]
  },
  {
   "cell_type": "code",
   "execution_count": 113,
   "id": "163c20e1-5b6e-4ba8-8b8d-f18aa8f7d68a",
   "metadata": {
    "tags": []
   },
   "outputs": [
    {
     "name": "stdout",
     "output_type": "stream",
     "text": [
      "Pearson distance: 0.517\n",
      "Lin's CCC distance: 0.524\n"
     ]
    }
   ],
   "source": [
    "sample_matrix = benchmark.response_data.to_numpy()[:n_samples, :n_features]\n",
    "vector1, vector2 = sample_matrix[0], sample_matrix[5]\n",
    "print(\"Pearson distance:\", round(1 - pearsonr(vector1, vector2)[0], 3))\n",
    "print(\"Lin's CCC distance:\", round(1 - linccc_distance(vector1, vector2), 3))"
   ]
  },
  {
   "cell_type": "code",
   "execution_count": 115,
   "id": "f6084597-c863-4db8-a6a3-a557ff78d7b5",
   "metadata": {
    "tags": []
   },
   "outputs": [],
   "source": [
    "def calc_linccc_rdm(data, engine=\"torch\", output=\"torch\"):\n",
    "    data = convert_matrix(data, engine)\n",
    "\n",
    "    if engine == \"numpy\":\n",
    "        mean_matrix = data.mean(axis=1)\n",
    "        var_matrix = data.var(axis=1)\n",
    "        std_matrix = data.std(axis=1)\n",
    "        corr_matrix = np.corrcoef(data)\n",
    "\n",
    "    if engine == \"torch\":\n",
    "        mean_matrix = data.mean(dim=1)\n",
    "        var_matrix = data.var(dim=1)\n",
    "        std_matrix = data.std(dim=1)\n",
    "        corr_matrix = torch.corrcoef(data)\n",
    "\n",
    "    # Calculate Lin's CCC\n",
    "    numerator = 2 * corr_matrix * std_matrix[:, None] * std_matrix[None, :]\n",
    "    denominator1 = var_matrix[:, None] + var_matrix[None, :]\n",
    "    denominator2 = (mean_matrix[:, None] - mean_matrix[None, :]) ** 2\n",
    "    rdm = 1 - (numerator / (denominator1 + denominator2))\n",
    "\n",
    "    return convert_matrix(rdm, output)"
   ]
  },
  {
   "cell_type": "code",
   "execution_count": 126,
   "id": "b8e6aba0-381d-402f-af70-2c97edfbd201",
   "metadata": {
    "tags": []
   },
   "outputs": [
    {
     "name": "stdout",
     "output_type": "stream",
     "text": [
      "Lin's CCC distance: 0.524\n"
     ]
    }
   ],
   "source": [
    "sample_matrix = benchmark.response_data.to_numpy()[:n_samples, :n_features]\n",
    "rdm = calc_linccc_rdm(sample_matrix, \"torch\")\n",
    "print(\"Lin's CCC distance:\", rdm[0, 5].numpy().round(3))"
   ]
  },
  {
   "cell_type": "markdown",
   "id": "84655b8f-652f-4fcf-83e6-badde74c1dd9",
   "metadata": {},
   "source": [
    "#### RDM Timing Tests"
   ]
  },
  {
   "cell_type": "code",
   "execution_count": 315,
   "id": "aa9c57ff-5f82-44c2-a66c-8c6679eecfbc",
   "metadata": {
    "tags": []
   },
   "outputs": [
    {
     "data": {
      "application/vnd.jupyter.widget-view+json": {
       "model_id": "da4895e16d4944acbf3fc7c06106465c",
       "version_major": 2,
       "version_minor": 0
      },
      "text/plain": [
       "  0%|          | 0/5 [00:00<?, ?it/s]"
      ]
     },
     "metadata": {},
     "output_type": "display_data"
    },
    {
     "data": {
      "application/vnd.jupyter.widget-view+json": {
       "model_id": "2f165195663540b6a2e8a05ac7b6ed38",
       "version_major": 2,
       "version_minor": 0
      },
      "text/plain": [
       "  0%|          | 0/5 [00:00<?, ?it/s]"
      ]
     },
     "metadata": {},
     "output_type": "display_data"
    },
    {
     "data": {
      "application/vnd.jupyter.widget-view+json": {
       "model_id": "19f3fdb465d84c46a2f6b04d91cc68a2",
       "version_major": 2,
       "version_minor": 0
      },
      "text/plain": [
       "  0%|          | 0/5 [00:00<?, ?it/s]"
      ]
     },
     "metadata": {},
     "output_type": "display_data"
    }
   ],
   "source": [
    "data = torch.from_numpy(benchmark.response_data.to_numpy())\n",
    "\n",
    "data = data.to(torch.float32).to(\"cuda:0\")\n",
    "\n",
    "for i in tqdm(range(5)):\n",
    "    calculate_rdm(data, engine=\"torch\")\n",
    "\n",
    "data = data.to(torch.float32).to(\"cpu\")\n",
    "\n",
    "for i in tqdm(range(5)):\n",
    "    calculate_rdm(data, engine=\"torch\")\n",
    "\n",
    "data = data.to(torch.float32).numpy()\n",
    "\n",
    "for i in tqdm(range(5)):\n",
    "    calculate_rdm(data, engine=\"numpy\")"
   ]
  },
  {
   "cell_type": "code",
   "execution_count": 316,
   "id": "69051242-982e-4e8a-8c43-11dcb3fdab52",
   "metadata": {
    "tags": []
   },
   "outputs": [],
   "source": [
    "def calculate_rdm(data, distance=\"pearson\", engine=\"torch\", output=\"torch\"):\n",
    "    if distance == \"euclidean\":\n",
    "        return calc_euclidean_rdm(data, engine, output)\n",
    "    if distance == \"pearson\":\n",
    "        return calc_pearson_rdm(data, engine, output)\n",
    "    if distance == \"spearman\":\n",
    "        return calc_spearman_rdm(data, engine, output)\n",
    "    if distance == \"mahalanobis\":\n",
    "        return calc_mahalanobis_rdm(data, engine, output)\n",
    "    if distance == \"concordance\":\n",
    "        return calc_linccc_rdm(data, engine, output)"
   ]
  },
  {
   "cell_type": "code",
   "execution_count": 317,
   "id": "7aa15eb3-a4a8-4628-a19b-48b9f11cfe67",
   "metadata": {
    "tags": []
   },
   "outputs": [
    {
     "data": {
      "application/vnd.jupyter.widget-view+json": {
       "model_id": "1c376c5cac384eb3ba67ba2eacc0d1d4",
       "version_major": 2,
       "version_minor": 0
      },
      "text/plain": [
       "spearman:   0%|          | 0/5 [00:00<?, ?it/s]"
      ]
     },
     "metadata": {},
     "output_type": "display_data"
    },
    {
     "data": {
      "application/vnd.jupyter.widget-view+json": {
       "model_id": "d018e1f178c9451399395103d607c707",
       "version_major": 2,
       "version_minor": 0
      },
      "text/plain": [
       "pearson:   0%|          | 0/5 [00:00<?, ?it/s]"
      ]
     },
     "metadata": {},
     "output_type": "display_data"
    },
    {
     "data": {
      "application/vnd.jupyter.widget-view+json": {
       "model_id": "4f4018be2e8049bda4cf4a1bde3f2f2f",
       "version_major": 2,
       "version_minor": 0
      },
      "text/plain": [
       "euclidean:   0%|          | 0/5 [00:00<?, ?it/s]"
      ]
     },
     "metadata": {},
     "output_type": "display_data"
    },
    {
     "data": {
      "application/vnd.jupyter.widget-view+json": {
       "model_id": "774d7f8c2ee341d8b7091c406f73b274",
       "version_major": 2,
       "version_minor": 0
      },
      "text/plain": [
       "mahalanobis:   0%|          | 0/5 [00:00<?, ?it/s]"
      ]
     },
     "metadata": {},
     "output_type": "display_data"
    },
    {
     "data": {
      "application/vnd.jupyter.widget-view+json": {
       "model_id": "9f1e5bc37cc34ed4a242e2115529457f",
       "version_major": 2,
       "version_minor": 0
      },
      "text/plain": [
       "concordance:   0%|          | 0/5 [00:00<?, ?it/s]"
      ]
     },
     "metadata": {},
     "output_type": "display_data"
    }
   ],
   "source": [
    "data = torch.from_numpy(benchmark.response_data.to_numpy())\n",
    "\n",
    "data = data.to(torch.float32).to(\"cuda:0\")\n",
    "\n",
    "for method in [\"spearman\", \"pearson\", \"euclidean\", \"mahalanobis\", \"concordance\"]:\n",
    "    for i in tqdm(range(5), desc=method):\n",
    "        calculate_rdm(data, method)\n",
    "\n",
    "data = data.to(\"cpu\")  # remove data from cuda"
   ]
  },
  {
   "cell_type": "markdown",
   "id": "924a8f5c-cebe-41dd-bb2b-ccda03dfedb9",
   "metadata": {},
   "source": [
    "### Torch Distance (RSA)"
   ]
  },
  {
   "cell_type": "code",
   "execution_count": 299,
   "id": "fe273231-f574-4eef-bbfe-7af856ee6e71",
   "metadata": {
    "tags": []
   },
   "outputs": [],
   "source": [
    "import torchmetrics\n",
    "\n",
    "score_types = {\n",
    "    \"spearman\": torchmetrics.SpearmanCorrCoef,\n",
    "    \"pearson\": torchmetrics.PearsonCorrCoef,\n",
    "    \"concordance\": torchmetrics.ConcordanceCorrCoef,\n",
    "    \"ev_score\": torchmetrics.ExplainedVariance,\n",
    "}"
   ]
  },
  {
   "cell_type": "code",
   "execution_count": 300,
   "id": "6dfcccf1-c581-4e0d-a3ee-cc308e6912c8",
   "metadata": {
    "tags": []
   },
   "outputs": [
    {
     "name": "stdout",
     "output_type": "stream",
     "text": [
      "spearman : 0.339\n",
      "pearson : 0.364\n",
      "concordance : 0.08\n",
      "ev_score : -0.473\n"
     ]
    }
   ],
   "source": [
    "def extract_triu(X):\n",
    "    return X[torch.triu(torch.ones_like(X, dtype=bool), diagonal=1)]\n",
    "\n",
    "\n",
    "y = torch.from_numpy(benchmark.response_data.to_numpy().T)\n",
    "X = feature_maps_redux[\"Linear-1\"]\n",
    "\n",
    "X = X.to(torch.float32).to(\"cuda:0\")\n",
    "y = y.to(torch.float32).to(\"cuda:0\")\n",
    "\n",
    "rdm1 = calculate_rdm(y)\n",
    "rdm2 = calculate_rdm(X)\n",
    "\n",
    "rdm1_triu = extract_triu(rdm1)\n",
    "rdm2_triu = extract_triu(rdm2)\n",
    "\n",
    "for score_type, scorer in score_types.items():\n",
    "    scorer = scorer().to(\"cuda:0\")\n",
    "    print(score_type, \":\", round(scorer(rdm1_triu, rdm2_triu).item(), 3))\n",
    "\n",
    "del X, y, rdm1, rdm2, rdm1_triu, rdm2_triu, scorer"
   ]
  },
  {
   "cell_type": "code",
   "execution_count": 307,
   "id": "18616853-99aa-4e19-8491-bfa9541af54b",
   "metadata": {
    "tags": []
   },
   "outputs": [],
   "source": [
    "from torchmetrics.functional import spearman_corrcoef, pearson_corrcoef\n",
    "from torchmetrics.functional import concordance_corrcoef, explained_variance\n",
    "\n",
    "compare_methods = {\n",
    "    \"spearman\": spearman_corrcoef,\n",
    "    \"pearson\": pearson_corrcoef,\n",
    "    \"concordance\": concordance_corrcoef,\n",
    "}\n",
    "\n",
    "\n",
    "def compare_rdms(rdm1, rdm2, method=\"pearson\", device=None, **method_kwargs):\n",
    "    if device is None:\n",
    "        rdm2 = rdm2.to(rdm1.device)\n",
    "    else:\n",
    "        rdm1 = rdm1.to(device)\n",
    "        rdm2 = rdm2.to(device)\n",
    "\n",
    "    rdm1_triu = extract_triu(rdm1)\n",
    "    rdm2_triu = extract_triu(rdm2)\n",
    "\n",
    "    return compare_methods[method](rdm1_triu, rdm2_triu, **method_kwargs).item()"
   ]
  },
  {
   "cell_type": "code",
   "execution_count": 314,
   "id": "dd36c685-24be-494f-9c47-74f998374e1a",
   "metadata": {
    "tags": []
   },
   "outputs": [
    {
     "data": {
      "application/vnd.jupyter.widget-view+json": {
       "model_id": "927facfcf8ea45c091382a4332413761",
       "version_major": 2,
       "version_minor": 0
      },
      "text/plain": [
       "  0%|          | 0/3 [00:00<?, ?it/s]"
      ]
     },
     "metadata": {},
     "output_type": "display_data"
    },
    {
     "name": "stdout",
     "output_type": "stream",
     "text": [
      "spearman : 0.33863\n",
      "pearson : 0.36446\n",
      "concordance : 0.07972\n"
     ]
    }
   ],
   "source": [
    "y = torch.from_numpy(benchmark.response_data.to_numpy().T)\n",
    "X = feature_maps_redux[\"Linear-1\"]\n",
    "\n",
    "X = X.to(torch.float32)\n",
    "y = y.to(torch.float32)\n",
    "\n",
    "rdm1 = calculate_rdm(y)\n",
    "rdm2 = calculate_rdm(X)\n",
    "\n",
    "for method in tqdm(compare_methods):\n",
    "    print(method, \":\", round(compare_rdms(rdm1, rdm2, method, device=\"cuda:0\"), 5))"
   ]
  },
  {
   "cell_type": "markdown",
   "id": "665f5845-0919-4b9e-8886-84fa57ba1474",
   "metadata": {},
   "source": [
    "### Torch Compare RDMs (RSAToolBox)"
   ]
  },
  {
   "cell_type": "markdown",
   "id": "b24b710c-38ad-447f-a113-21f701a73c24",
   "metadata": {
    "jp-MarkdownHeadingCollapsed": true,
    "tags": []
   },
   "source": [
    "#### Whitened RDM Comparison"
   ]
  },
  {
   "cell_type": "code",
   "execution_count": 293,
   "id": "2eb1430c-c99d-42ea-98fc-c803c84a5aa2",
   "metadata": {
    "tags": []
   },
   "outputs": [],
   "source": [
    "import scipy\n",
    "\n",
    "\n",
    "def _extract_triu(X):\n",
    "    mask = np.triu(np.ones_like(X, dtype=bool), k=1)\n",
    "    return X[mask]\n",
    "\n",
    "\n",
    "def _parse_input_rdms(rdm1, rdm2):\n",
    "    \"\"\"Gets the vector representation of input RDMs\"\"\"\n",
    "    rdm1_triu = _extract_triu(rdm1)\n",
    "    rdm2_triu = _extract_triu(rdm2)\n",
    "    vector1 = rdm1_triu.reshape(1, -1)\n",
    "    vector2 = rdm2_triu.reshape(1, -1)\n",
    "    if not vector1.shape[1] == vector2.shape[1]:\n",
    "        raise ValueError(\"rdm1 and rdm2 must be RDMs of equal shape\")\n",
    "    nan_idx = ~np.isnan(vector1)\n",
    "    vector1_no_nan = vector1[nan_idx].reshape(vector1.shape[0], -1)\n",
    "    vector2_no_nan = vector2[~np.isnan(vector2)].reshape(vector2.shape[0], -1)\n",
    "    if not vector1_no_nan.shape[1] == vector2_no_nan.shape[1]:\n",
    "        raise ValueError(\"rdm1 and rdm2 have different nan positions\")\n",
    "    return vector1_no_nan, vector2_no_nan, nan_idx[0]\n",
    "\n",
    "\n",
    "def _row_col_indicator(row_i, col_i, n_cond):\n",
    "    \"\"\"writes the correct pattern for the row / column indicator matrix\n",
    "\n",
    "    Args:\n",
    "        row_indicator: row_i (numpy.ndarray)\n",
    "        col_indicator: row_i (numpy.ndarray)\n",
    "        n_cond (int): Number of conditions underlying the second moment\n",
    "    \"\"\"\n",
    "    j = 0\n",
    "    for i in range(n_cond):\n",
    "        row_i[j : j + n_cond - i - 1, i] = 1\n",
    "        np.fill_diagonal(col_i[j : j + n_cond - i - 1, i + 1 :], 1)\n",
    "        j = j + (n_cond - i - 1)\n",
    "\n",
    "\n",
    "def _row_col_indicator_g(n_cond):\n",
    "    \"\"\"generates a row and column indicator matrix for a vectorized\n",
    "    second moment matrix. The vectorized version has the off-diagonal elements\n",
    "    first (like in an RDM), and then appends the diagnoal.\n",
    "    You can vectorize a second momement matrix G by\n",
    "    np.diag(row_i@G@col_i.T) =  np.sum(col_i*(row_i@G)),axis=1)\n",
    "\n",
    "    Args:\n",
    "        n_cond (int): Number of conditions underlying the second moment\n",
    "\n",
    "    Returns:\n",
    "        row_indicator (numpy.ndarray): n_cond (n_cond-1)/2+n_cond * n_cond\n",
    "        col_indicator (numpy.ndarray): n_cond (n_cond-1)/2+n_cond * n_cond\n",
    "    \"\"\"\n",
    "    n_elem = int(n_cond * (n_cond - 1) / 2) + n_cond  # Number of elements in G\n",
    "    row_i = np.zeros((n_elem, n_cond))\n",
    "    col_i = np.zeros((n_elem, n_cond))\n",
    "    _row_col_indicator(row_i, col_i, n_cond)\n",
    "    np.fill_diagonal(row_i[-n_cond:, :], 1)\n",
    "    np.fill_diagonal(col_i[-n_cond:, :], 1)\n",
    "    return (row_i, col_i)\n",
    "\n",
    "\n",
    "def _get_n_from_length(n):\n",
    "    \"\"\"\n",
    "    calculates the size of the RDM from the vector length\n",
    "\n",
    "    Args:\n",
    "        **x**(np.ndarray): stack of RDM vectors (2D)\n",
    "\n",
    "    Returns:\n",
    "        int: n: size of the RDM\n",
    "\n",
    "    \"\"\"\n",
    "    return int(np.ceil(np.sqrt(n * 2)))\n",
    "\n",
    "\n",
    "def _cosine_cov_weighted(vector1, vector2, nan_idx=None):\n",
    "    \"\"\"computes the cosine angles between two sets of vectors\n",
    "    weighted by the covariance\n",
    "    If no covariance is given this is computed using the linear CKA,\n",
    "    which is equivalent in this case and faster to compute.\n",
    "    Otherwise reverts to _cosine_cov_weighted_slow.\n",
    "\n",
    "    Args:\n",
    "        vector1 (numpy.ndarray):\n",
    "            first vectors (2D)\n",
    "        vector1 (numpy.ndarray):\n",
    "            second vectors (2D)\n",
    "        sigma_k (Matrix):\n",
    "            optional, covariance between pattern estimates\n",
    "\n",
    "    Returns:\n",
    "        cos (float):\n",
    "            cosine angle between vectors\n",
    "\n",
    "    \"\"\"\n",
    "    if nan_idx is None:\n",
    "        nan_idx = np.ones(vector1[0].shape, bool)\n",
    "    # Compute the extended version of RDM vectors in whitened space\n",
    "    vector1_m = _cov_weighting(vector1, nan_idx)\n",
    "    vector2_m = _cov_weighting(vector2, nan_idx)\n",
    "    cos = _cosine(vector1_m, vector2_m)\n",
    "    return cos\n",
    "\n",
    "\n",
    "def _cov_weighting(vector, nan_idx):\n",
    "    \"\"\"Transforms an array of RDM vectors in to representation\n",
    "    in which the elements are isotropic. This is a stretched-out\n",
    "    second moment matrix, with the diagonal elements appended.\n",
    "    To account for the fact that the off-diagonal elements are\n",
    "    only there once, they are multipled by 2\n",
    "\n",
    "    Args:\n",
    "        vector (numpy.ndarray):\n",
    "            RDM vectors (2D) N x n_dist\n",
    "\n",
    "    Returns:\n",
    "        vector_w:\n",
    "            weighted vectors (M x n_dist + n_cond)\n",
    "\n",
    "    \"\"\"\n",
    "    n_rdms, n_dist = vector.shape\n",
    "    n_cond = _get_n_from_length(nan_idx.shape[0])\n",
    "    vector_w = -0.5 * np.c_[vector, np.zeros((n_rdms, n_cond))]\n",
    "    rowI, colI = row_col_indicator_g(n_cond)\n",
    "    sumI = rowI + colI\n",
    "    if np.all(nan_idx):\n",
    "        # column and row means\n",
    "        m = vector_w @ sumI / n_cond\n",
    "        # Overall mean\n",
    "        mm = np.sum(vector_w * 2, axis=1, keepdims=True) / (n_cond * n_cond)\n",
    "        # subtract the column and row means and add overall mean\n",
    "        vector_w = vector_w - m @ sumI.T + mm\n",
    "    else:\n",
    "        nan_idx_ext = np.concatenate((nan_idx, np.ones(n_cond, bool)))\n",
    "        sumI = sumI[nan_idx_ext]\n",
    "        # get matrix for double centering with missing values:\n",
    "        sumI[n_dist:, :] /= 2\n",
    "        diag = np.concatenate((np.ones((n_dist, 1)) / 2, np.ones((n_cond, 1))))\n",
    "        # one line version much faster here!\n",
    "        vector_w = vector_w - (\n",
    "            vector_w @ sumI @ np.linalg.inv(sumI.T @ (diag * sumI)) @ (diag * sumI).T\n",
    "        )\n",
    "    # Weight the off-diagnoal terms double\n",
    "    vector_w[:, :n_dist] = vector_w[:, :n_dist] * np.sqrt(2)\n",
    "    return vector_w\n",
    "\n",
    "\n",
    "def _cosine(vector1, vector2):\n",
    "    \"\"\"computes the cosine angles between two sets of vectors\n",
    "\n",
    "    Args:\n",
    "        vector1 (numpy.ndarray):\n",
    "            first vectors (2D)\n",
    "        vector1 (numpy.ndarray):\n",
    "            second vectors (2D)\n",
    "    Returns:\n",
    "        cos (float):\n",
    "            cosine angle between vectors\n",
    "\n",
    "    \"\"\"\n",
    "    norm_1 = np.sqrt(np.einsum(\"ij,ij->i\", vector1, vector1))\n",
    "    norm_2 = np.sqrt(np.einsum(\"ij,ij->i\", vector2, vector2))\n",
    "    sel_1 = norm_1 > 0\n",
    "    sel_2 = norm_2 > 0\n",
    "    # without more indexing if all vectors are nonzero length\n",
    "    if np.all(sel_1) and np.all(sel_2):\n",
    "        # compute all inner products\n",
    "        cos_ok = np.einsum(\"ij,kj->ik\", vector1, vector2)\n",
    "        # divide by sqrt of the inner products with themselves\n",
    "        cos_ok /= norm_1.reshape((-1, 1))\n",
    "        cos_ok /= norm_2.reshape((1, -1))\n",
    "        return cos_ok\n",
    "    # keep track of indexing if some vectors are 0\n",
    "    # compute all inner products\n",
    "    cos_ok = np.einsum(\"ij,kj->ik\", vector1[sel_1], vector2[sel_2])\n",
    "    # divide by sqrt of the inner products with themselves\n",
    "    cos_ok /= norm_1[sel_1].reshape((-1, 1))\n",
    "    cos_ok /= norm_2[sel_2].reshape((1, -1))\n",
    "    cos = np.zeros((vector1.shape[0], vector2.shape[0]))\n",
    "    np.putmask(cos, np.outer(norm_1 > 0, norm_2 > 0), cos_ok)\n",
    "    return cos\n",
    "\n",
    "\n",
    "def compare_correlation_cov_weighted(rdm1, rdm2):\n",
    "    \"\"\"calculates the correlations between two RDMs objects after whitening\n",
    "    with the covariance of the entries\n",
    "\n",
    "    Returns:\n",
    "        numpy.ndarray: dist:\n",
    "            correlations between the two RDMs\n",
    "\n",
    "    \"\"\"\n",
    "    vector1, vector2, nan_idx = _parse_input_rdms(rdm1, rdm2)\n",
    "    # compute by subtracting the mean and then calculating cosine similarity\n",
    "    vector1 = vector1 - np.mean(vector1, 1, keepdims=True)\n",
    "    vector2 = vector2 - np.mean(vector2, 1, keepdims=True)\n",
    "    sim = _cosine_cov_weighted(vector1, vector2, nan_idx)\n",
    "    return sim\n",
    "\n",
    "\n",
    "def compare_cosine_cov_weighted(rdm1, rdm2):\n",
    "    \"\"\"calculates the cosine similarities between two RDMs objects\n",
    "\n",
    "    Returns:\n",
    "        numpy.ndarray: dist:\n",
    "            cosine similarities between the two RDMs\n",
    "\n",
    "    \"\"\"\n",
    "    vector1, vector2, nan_idx = _parse_input_rdms(rdm1, rdm2)\n",
    "    sim = _cosine_cov_weighted(vector1, vector2, sigma_k, nan_idx)\n",
    "    return sim"
   ]
  },
  {
   "cell_type": "code",
   "execution_count": 294,
   "id": "892d2fb3-71f7-4011-b525-50efbcd2c8c0",
   "metadata": {
    "tags": []
   },
   "outputs": [],
   "source": [
    "y = torch.from_numpy(benchmark.response_data.to_numpy().T)\n",
    "X = feature_maps_redux[\"Linear-1\"]\n",
    "\n",
    "X = X.to(torch.float64)\n",
    "y = y.to(torch.float64)\n",
    "\n",
    "rdm1 = calculate_rdm(y).numpy()\n",
    "rdm2 = calculate_rdm(X).numpy()"
   ]
  },
  {
   "cell_type": "code",
   "execution_count": 292,
   "id": "6b10e4dc-85f9-4b24-81b4-0e4024fb38c3",
   "metadata": {
    "tags": []
   },
   "outputs": [
    {
     "name": "stdout",
     "output_type": "stream",
     "text": [
      "(1, 499500) (1, 499500) (499500,)\n",
      "1 1000 499500\n",
      "(500500, 1000) (500500, 1000)\n",
      "1 1000 499500\n",
      "(500500, 1000) (500500, 1000)\n"
     ]
    },
    {
     "data": {
      "text/plain": [
       "array([[0.45326715]])"
      ]
     },
     "execution_count": 292,
     "metadata": {},
     "output_type": "execute_result"
    }
   ],
   "source": [
    "vector1, vector2, nanidx = _parse_input_rdms(rdm1, rdm2)\n",
    "print(vector1.shape, vector2.shape, nanidx.shape)\n",
    "\n",
    "_cosine_cov_weighted(vector1, vector2, None)"
   ]
  },
  {
   "cell_type": "markdown",
   "id": "116314b8-5377-4a22-8189-432b89219014",
   "metadata": {
    "jp-MarkdownHeadingCollapsed": true,
    "tags": []
   },
   "source": [
    "### RSAToolBox CloseUp"
   ]
  },
  {
   "cell_type": "code",
   "execution_count": 326,
   "id": "8f31ee57-207d-465a-8d35-0fc285d6f2f8",
   "metadata": {
    "tags": []
   },
   "outputs": [],
   "source": [
    "def _extract_triu_(X):\n",
    "    return X[np.triu(np.ones_like(X, dtype=bool), k=1)]\n",
    "\n",
    "\n",
    "def calc_rdm_euclidean(data):\n",
    "    \"\"\"\n",
    "    Args:\n",
    "        dataset (rsatoolbox.data.DatasetBase):\n",
    "            The dataset the RDM is computed from\n",
    "        descriptor (String):\n",
    "            obs_descriptor used to define the rows/columns of the RDM\n",
    "            defaults to one row/column per row in the dataset\n",
    "    Returns:\n",
    "        rsatoolbox.rdm.rdms.RDMs: RDMs object with the one RDM\n",
    "    \"\"\"\n",
    "\n",
    "    sum_sq = np.sum(data**2, axis=1, keepdims=True)\n",
    "    rdm = sum_sq + sum_sq.T - 2 * np.dot(data, data.T)\n",
    "    rdm = _extract_triu_(rdm) / data.shape[1]\n",
    "    return rdm\n",
    "\n",
    "\n",
    "def calc_rdm_mahalanobis(data, noise=None):\n",
    "    \"\"\"\n",
    "    calculates an RDM from an input dataset using mahalanobis distance\n",
    "    If multiple instances of the same condition are found in the dataset\n",
    "    they are averaged.\n",
    "\n",
    "    Args:\n",
    "        noise (numpy.ndarray):\n",
    "            dataset.n_channel x dataset.n_channel\n",
    "            precision matrix used to calculate the RDM\n",
    "            default: identity matrix, i.e. euclidean distance\n",
    "    \"\"\"\n",
    "    if noise is None:\n",
    "        return calc_rdm_euclidean(data)\n",
    "    kernel = matrix @ noise @ matrix.T\n",
    "    rdm = (\n",
    "        np.expand_dims(np.diag(kernel), 0)\n",
    "        + np.expand_dims(np.diag(kernel), 1)\n",
    "        - 2 * kernel\n",
    "    )\n",
    "    rdm = _extract_triu_(rdm) / measurements.shape[1]\n",
    "    return rdm"
   ]
  },
  {
   "cell_type": "code",
   "execution_count": 327,
   "id": "191ba608-f33c-4d43-a21e-9f2131227967",
   "metadata": {
    "tags": []
   },
   "outputs": [
    {
     "data": {
      "text/plain": [
       "(45,)"
      ]
     },
     "execution_count": 327,
     "metadata": {},
     "output_type": "execute_result"
    }
   ],
   "source": [
    "sample_data = benchmark.response_data.copy().to_numpy()[:10, :100]\n",
    "calc_rdm_euclidean(sample_data).shape"
   ]
  },
  {
   "cell_type": "code",
   "execution_count": 328,
   "id": "940d2418-7302-4bea-a3a4-e6884d0b6db8",
   "metadata": {
    "tags": []
   },
   "outputs": [
    {
     "data": {
      "text/plain": [
       "(45,)"
      ]
     },
     "execution_count": 328,
     "metadata": {},
     "output_type": "execute_result"
    }
   ],
   "source": [
    "calc_rdm_mahalanobis(sample_data).shape"
   ]
  },
  {
   "cell_type": "code",
   "execution_count": null,
   "id": "16e5a28d-090c-4c1b-a8f7-443833854d31",
   "metadata": {},
   "outputs": [],
   "source": []
  }
 ],
 "metadata": {
  "kernelspec": {
   "display_name": "Synthese",
   "language": "python",
   "name": "synthese"
  },
  "language_info": {
   "codemirror_mode": {
    "name": "ipython",
    "version": 3
   },
   "file_extension": ".py",
   "mimetype": "text/x-python",
   "name": "python",
   "nbconvert_exporter": "python",
   "pygments_lexer": "ipython3",
   "version": "3.10.11"
  }
 },
 "nbformat": 4,
 "nbformat_minor": 5
}
